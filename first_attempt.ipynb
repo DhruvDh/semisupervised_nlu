{
 "cells": [
  {
   "cell_type": "code",
   "execution_count": 1,
   "metadata": {},
   "outputs": [],
   "source": [
    "from transformers import RobertaForMaskedLM, RobertaTokenizer\n",
    "import torch\n",
    "from tqdm import tqdm"
   ]
  },
  {
   "cell_type": "code",
   "execution_count": 35,
   "metadata": {},
   "outputs": [],
   "source": [
    "model = RobertaForMaskedLM.from_pretrained('./output/')\n",
    "tokenizer = RobertaTokenizer.from_pretrained('./output/')"
   ]
  },
  {
   "cell_type": "code",
   "execution_count": 3,
   "metadata": {},
   "outputs": [],
   "source": [
    "import os\n",
    "import pandas as pd\n",
    "from random import choice\n",
    "\n",
    "import nltk"
   ]
  },
  {
   "cell_type": "code",
   "execution_count": 4,
   "metadata": {},
   "outputs": [],
   "source": [
    "path_to_intents = os.path.join('data', 'raw')\n",
    "intents = os.listdir(path_to_intents)\n",
    "get_path = lambda x: os.path.join('data', 'raw', x, x + \".csv\")"
   ]
  },
  {
   "cell_type": "code",
   "execution_count": 5,
   "metadata": {},
   "outputs": [
    {
     "name": "stderr",
     "output_type": "stream",
     "text": [
      "[nltk_data] Downloading package stopwords to\n",
      "[nltk_data]     C:\\Users\\dhruv\\AppData\\Roaming\\nltk_data...\n",
      "[nltk_data]   Package stopwords is already up-to-date!\n"
     ]
    }
   ],
   "source": [
    "os.chdir('helpers')\n",
    "from analyze import questions, entities, get_data\n",
    "data = get_data()\n",
    "os.chdir('..')"
   ]
  },
  {
   "cell_type": "code",
   "execution_count": 20,
   "metadata": {},
   "outputs": [],
   "source": [
    "from collections import defaultdict\n",
    "text = defaultdict(list)\n",
    "encoded_text = defaultdict(list)\n",
    "\n",
    "ans = defaultdict(list)\n",
    "response = defaultdict(list)\n",
    "\n",
    "scores = defaultdict(list)\n",
    "\n",
    "for (_questions, intent, entity) in zip(questions, intents, entities):\n",
    "    question = choice(_questions)\n",
    "    \n",
    "    for row in data[intent]['df']['text']:\n",
    "        text[intent].append(\"<s> \" + row.strip() + '. ' + question.strip() + \"<mask> <mask> <mask> </s>\")\n",
    "        \n",
    "    for row in data[intent]['df'][entity]:\n",
    "        ans[intent].append((str(row)).split())"
   ]
  },
  {
   "cell_type": "code",
   "execution_count": 21,
   "metadata": {},
   "outputs": [],
   "source": [
    "for intent in intents:\n",
    "    for row in text[intent]:\n",
    "        encoded_text[intent].append(torch.tensor([tokenizer.encode(row, add_special_tokens=False)]))"
   ]
  },
  {
   "cell_type": "code",
   "execution_count": 22,
   "metadata": {},
   "outputs": [
    {
     "data": {
      "text/plain": [
       "tensor([[    0,  6298,    20,  2367,   953,  1437,  2391,    11,  2808,    13,\n",
       "          5996,     4,  6834, 19969,   219,   116, 50264, 50264, 50264,     2]])"
      ]
     },
     "execution_count": 22,
     "metadata": {},
     "output_type": "execute_result"
    }
   ],
   "source": [
    "encoded_text['BookRestaurant'][0]"
   ]
  },
  {
   "cell_type": "code",
   "execution_count": 23,
   "metadata": {},
   "outputs": [
    {
     "data": {
      "text/plain": [
       "'<s> book The Middle East  restaurant in IN for noon. Which eatery?<mask> <mask> <mask> </s>'"
      ]
     },
     "execution_count": 23,
     "metadata": {},
     "output_type": "execute_result"
    }
   ],
   "source": [
    "text['BookRestaurant'][0]"
   ]
  },
  {
   "cell_type": "code",
   "execution_count": 24,
   "metadata": {},
   "outputs": [
    {
     "data": {
      "text/plain": [
       "['The', 'Middle', 'East', 'in', 'IN']"
      ]
     },
     "execution_count": 24,
     "metadata": {},
     "output_type": "execute_result"
    }
   ],
   "source": [
    "ans['BookRestaurant'][0]"
   ]
  },
  {
   "cell_type": "code",
   "execution_count": 25,
   "metadata": {},
   "outputs": [
    {
     "name": "stderr",
     "output_type": "stream",
     "text": [
      "\n",
      "\n",
      "0it [00:00, ?it/s]\u001b[A\u001b[A\n",
      "\n",
      "1it [00:00,  3.85it/s]\u001b[A\u001b[A\n",
      "\n"
     ]
    },
    {
     "name": "stdout",
     "output_type": "stream",
     "text": [
      "['<s>Add', 'another', 'song', 'to', 'the', 'Cita', 'RomÃ¡ntica', 'playlist..', 'Which', 'playlist?</s>??</s>']\n",
      "['<s>add', 'clem', 'burke', 'in', 'my', 'playlist', 'Pre-Party', 'R&B', 'Jams</s>', 'Which', 'playlist?</s>??</s>']\n"
     ]
    },
    {
     "name": "stderr",
     "output_type": "stream",
     "text": [
      "2it [00:00,  4.22it/s]\u001b[A\u001b[A\n",
      "\n",
      "3it [00:00,  4.61it/s]\u001b[A\u001b[A\n",
      "\n"
     ]
    },
    {
     "name": "stdout",
     "output_type": "stream",
     "text": [
      "['<s>Add', 'Live', 'from', 'Aragon', 'Ballroom', 'to', 'Trapeo</s>', 'Which', 'playlist?</s>', 'tuned.</s>']\n",
      "['<s>add', 'Unite', 'and', 'Win', 'to', 'my', 'next', 'night', 'out</s>', 'Which', 'playlist?</s>', 'playlist?</s>']\n"
     ]
    },
    {
     "name": "stderr",
     "output_type": "stream",
     "text": [
      "4it [00:00,  4.79it/s]\u001b[A\u001b[A\n",
      "\n",
      "5it [00:01,  4.15it/s]\u001b[A\u001b[A"
     ]
    },
    {
     "name": "stdout",
     "output_type": "stream",
     "text": [
      "['<s>Add', 'track', 'to', 'my', 'ixster', 'Future', 'Hits</s>', 'Which', 'playlist?</s>?.</s>']\n"
     ]
    },
    {
     "name": "stderr",
     "output_type": "stream",
     "text": [
      "\n",
      "\n",
      "6it [00:01,  3.49it/s]\u001b[A\u001b[A\n",
      "\n",
      "7it [00:01,  3.98it/s]\u001b[A\u001b[A"
     ]
    },
    {
     "name": "stdout",
     "output_type": "stream",
     "text": [
      "['<s>add', 'the', 'piano', 'bar', 'to', 'my', 'playlist________', 'Wilson</s>', 'Which', 'playlist?</s>', 'playlist:</s>']\n",
      "['<s>Add', 'Spanish', 'Harlem', 'Incident', 'to', 'cleaning', 'the', 'house</s>', 'Which', 'playlist?</s>', 'playlist.</s>']\n"
     ]
    },
    {
     "name": "stderr",
     "output_type": "stream",
     "text": [
      "\n",
      "\n",
      "8it [00:01,  4.16it/s]\u001b[A\u001b[A\n",
      "\n"
     ]
    },
    {
     "name": "stdout",
     "output_type": "stream",
     "text": [
      "['<s>add', 'The', 'Greyest', 'of', 'Blue', 'Skies', 'in', 'Indie', 'EspaÃ±ol', 'to', 'my', 'playlist</s>', 'Which', 'playlist?</s>??</s>']\n",
      "['<s>Add', 'the', 'name', 'kids', 'in', 'the', 'street', 'to', 'the', 'Playlist', 'New', 'Indie', 'Mix</s>', 'Which', 'playlist?</s>??</s>']\n"
     ]
    },
    {
     "name": "stderr",
     "output_type": "stream",
     "text": [
      "9it [00:02,  4.47it/s]\u001b[A\u001b[A\n",
      "\n",
      "10it [00:02,  4.61it/s]\u001b[A\u001b[A\n",
      "\n",
      "11it [00:02,  4.91it/s]\u001b[A\u001b[A"
     ]
    },
    {
     "name": "stdout",
     "output_type": "stream",
     "text": [
      "['<s>add', 'album', 'és', 'latino.', 'Which', 'playlist?</s>', 'playlist?</s>']\n",
      "['<s>Add', 'Tranquility', 'to', 'the', 'Latin', 'Pop', 'Rising', 'playlist..', 'Which', 'playlist?</s>', 'playlist?</s>']\n"
     ]
    },
    {
     "name": "stderr",
     "output_type": "stream",
     "text": [
      "\n",
      "\n",
      "12it [00:02,  4.95it/s]\u001b[A\u001b[A\n",
      "\n",
      "13it [00:02,  5.25it/s]\u001b[A\u001b[A"
     ]
    },
    {
     "name": "stdout",
     "output_type": "stream",
     "text": [
      "['<s>Add', 'ds', 'to', 'the', 'Dcode2016', 'playlist..', 'Which', 'playlist?</s>?:</s>']\n",
      "['<s>Add', 'album', 'to', 'my', 'fairy', 'tales</s>', 'Which', 'playlist?</s>', 'playlist?</s>']\n"
     ]
    },
    {
     "name": "stderr",
     "output_type": "stream",
     "text": [
      "\n",
      "\n",
      "14it [00:03,  4.52it/s]\u001b[A\u001b[A"
     ]
    },
    {
     "name": "stdout",
     "output_type": "stream",
     "text": [
      "['<s>I', 'need', 'another', 'artist', 'in', 'the', 'New', 'Indie', 'Mix', 'playlist..', 'Which', 'playlist?</s>??</s>']\n"
     ]
    },
    {
     "name": "stderr",
     "output_type": "stream",
     "text": [
      "\n",
      "\n",
      "15it [00:03,  3.74it/s]\u001b[A\u001b[A\n",
      "\n"
     ]
    },
    {
     "name": "stdout",
     "output_type": "stream",
     "text": [
      "['<s>Add', 'to', 'playlist', 'i', 'love', 'my', 'neo', 'soul', 'the', 'name', 'national', 'treasure', 'book', 'of', 'secrets</s>', 'Which', 'playlist?</s>??</s>']\n",
      "['<s>Add', 'the', 'fire', 'and', 'the', 'wind', 'to', 'my', 'ixster', 'Future', 'Hits', 'playlist..', 'Which', 'playlist?</s>??</s>']\n"
     ]
    },
    {
     "name": "stderr",
     "output_type": "stream",
     "text": [
      "16it [00:03,  4.10it/s]\u001b[A\u001b[A\n",
      "\n",
      "17it [00:03,  4.29it/s]\u001b[A\u001b[A"
     ]
    },
    {
     "name": "stdout",
     "output_type": "stream",
     "text": [
      "['<s>add', 'Caleigh', 'Peters', 'to', 'my', '2017', 'women', 'of', 'country', 'list</s>', 'Which', 'playlist?</s>?.</s>']\n"
     ]
    },
    {
     "name": "stderr",
     "output_type": "stream",
     "text": [
      "\n",
      "\n",
      "18it [00:04,  4.43it/s]\u001b[A\u001b[A"
     ]
    },
    {
     "name": "stdout",
     "output_type": "stream",
     "text": [
      "['<s>add', 'children', 'of', 'telepathic', 'experiences', 'to', 'the', 'playlist', 'named', 'baladas', 'romÃ¡nticas</s>', 'Which', 'playlist?</s>?</s></s>']\n",
      "['<s>add', '9th', 'Inning', 'to', 'my', 'ilea', 'nova', 'dinner', 'playlist</s>', 'Which', 'playlist?</s>:.</s>']"
     ]
    },
    {
     "name": "stderr",
     "output_type": "stream",
     "text": [
      "\n",
      "\n",
      "19it [00:04,  4.70it/s]\u001b[A\u001b[A"
     ]
    },
    {
     "name": "stdout",
     "output_type": "stream",
     "text": [
      "\n"
     ]
    },
    {
     "name": "stderr",
     "output_type": "stream",
     "text": [
      "\n",
      "\n",
      "20it [00:04,  4.69it/s]\u001b[A\u001b[A"
     ]
    },
    {
     "name": "stdout",
     "output_type": "stream",
     "text": [
      "['<s>I', 'need', 'another', 'tune', 'in', 'my', 'icky', 'guitar', 'solos', 'playlist..', 'Which', 'playlist?</s>??</s>']\n"
     ]
    },
    {
     "name": "stderr",
     "output_type": "stream",
     "text": [
      "\n",
      "\n",
      "21it [00:04,  4.74it/s]\u001b[A\u001b[A"
     ]
    },
    {
     "name": "stdout",
     "output_type": "stream",
     "text": [
      "['<s>Add', 'Slimm', 'Cutta', 'Calhoun', 'to', 'my', 'this', 'is', 'my', 'playlist..', 'Which', 'playlist?</s>??</s>']\n"
     ]
    },
    {
     "name": "stderr",
     "output_type": "stream",
     "text": [
      "\n",
      "\n",
      "22it [00:04,  4.69it/s]\u001b[A\u001b[A\n",
      "\n"
     ]
    },
    {
     "name": "stdout",
     "output_type": "stream",
     "text": [
      "['<s>Add', 'me', 'to', \"dena's\", 'Baroque', '50', 'Spotify', 'Picks', 'playlist..', 'Which', 'playlist?</s>??</s>']\n",
      "['<s>add', 'song', 'to', 'Sleepytime</s>', 'Which', 'playlist?</s>', 'playlist?</s>']\n"
     ]
    },
    {
     "name": "stderr",
     "output_type": "stream",
     "text": [
      "23it [00:05,  4.87it/s]\u001b[A\u001b[A\n",
      "\n",
      "24it [00:05,  4.86it/s]\u001b[A\u001b[A\n",
      "\n",
      "25it [00:05,  5.09it/s]\u001b[A\u001b[A"
     ]
    },
    {
     "name": "stdout",
     "output_type": "stream",
     "text": [
      "['<s>Add', 'an', 'album', 'to', 'my', 'list', 'La', 'Mejor', 'MÃºsica', 'Dance', '2017</s>', 'Which', 'playlist?</s>??</s>']\n",
      "['<s>Add', 'Hey,', 'Johnnie', 'Cope,', 'Are', 'Ye', 'Waking', 'Yet', 'to', 'year', 'in', 'the', '2016', 'playlist</s>', 'Which', 'playlist?</s>??</s>']\n"
     ]
    },
    {
     "name": "stderr",
     "output_type": "stream",
     "text": [
      "\n",
      "\n",
      "26it [00:05,  5.46it/s]\u001b[A\u001b[A\n",
      "\n",
      "27it [00:05,  5.55it/s]\u001b[A\u001b[A"
     ]
    },
    {
     "name": "stdout",
     "output_type": "stream",
     "text": [
      "['<s>Add', 'the', 'album', 'to', 'the', 'psychedelic', 'rock', 'playlist</s>', 'Which', 'playlist?</s>', 'choice.</s>']\n",
      "['<s>Can', 'you', 'add', 'Esquivando', 'charcos', 'to', 'my', 'playlist', 'entitled', 'the', 'piano', 'bar</s>', 'Which', 'playlist?</s>?</s></s>']\n"
     ]
    },
    {
     "name": "stderr",
     "output_type": "stream",
     "text": [
      "\n",
      "\n",
      "28it [00:05,  5.58it/s]\u001b[A\u001b[A\n",
      "\n",
      "29it [00:06,  5.70it/s]\u001b[A\u001b[A"
     ]
    },
    {
     "name": "stdout",
     "output_type": "stream",
     "text": [
      "['<s>Add', 'wiktor', 'coj', 'to', 'the', 'Sleep', 'playlist..', 'Which', 'playlist?</s>??</s>']\n",
      "['<s>Incorporate', 'time', 'warp', 'into', 'my', 'fairy', 'tales', 'playlist..', 'Which', 'playlist?</s>??</s>']\n"
     ]
    },
    {
     "name": "stderr",
     "output_type": "stream",
     "text": [
      "\n",
      "\n",
      "30it [00:06,  5.59it/s]\u001b[A\u001b[A\n",
      "\n",
      "31it [00:06,  5.71it/s]\u001b[A\u001b[A"
     ]
    },
    {
     "name": "stdout",
     "output_type": "stream",
     "text": [
      "['<s>add', 'this', 'MakSim', 'tune', 'to', 'Trad', 'Folk</s>', 'Which', 'playlist?</s>??</s>']\n",
      "['<s>add', 'tune', 'to', 'my', 'playlist', 'eletro', 'br.', 'Which', 'playlist?</s>??</s>']\n"
     ]
    },
    {
     "name": "stderr",
     "output_type": "stream",
     "text": [
      "\n",
      "\n",
      "32it [00:06,  5.49it/s]\u001b[A\u001b[A\n",
      "\n",
      "33it [00:06,  5.73it/s]\u001b[A\u001b[A"
     ]
    },
    {
     "name": "stdout",
     "output_type": "stream",
     "text": [
      "['<s>Add', 'this', 'tune', 'to', 'my', 'My', 'Dinnertime', 'Acoustics', 'list</s>', 'Which', 'playlist?</s>', 'playlist.</s>']\n",
      "['<s>add', 'monsters', 'this', 'is', 'the', 'playlist</s>', 'Which', 'playlist?</s>??</s>']\n"
     ]
    },
    {
     "name": "stderr",
     "output_type": "stream",
     "text": [
      "\n",
      "\n",
      "34it [00:07,  5.55it/s]\u001b[A\u001b[A"
     ]
    },
    {
     "name": "stdout",
     "output_type": "stream",
     "text": [
      "['<s>add', 'a', 'tune', 'in', 'Chill', 'Vibes</s>', 'Which', 'playlist?</s>?.</s>']\n",
      "['<s>Can', 'you', 'add', 'a', 'track', 'to', 'my', '_____', 'Top', '50', 'playlist</s>', 'Which', 'playlist?</s>?.</s>']"
     ]
    },
    {
     "name": "stderr",
     "output_type": "stream",
     "text": [
      "\n",
      "\n",
      "35it [00:07,  5.52it/s]\u001b[A\u001b[A\n",
      "\n",
      "36it [00:07,  5.54it/s]\u001b[A\u001b[A"
     ]
    },
    {
     "name": "stdout",
     "output_type": "stream",
     "text": [
      "\n",
      "['<s>Put', 'this', 'album', 'by', 'Mike', 'Tramp', 'on', 'Deathcore</s>', 'Which', 'playlist?</s>', 'playlist.</s>']\n"
     ]
    },
    {
     "name": "stderr",
     "output_type": "stream",
     "text": [
      "\n",
      "\n",
      "37it [00:07,  5.29it/s]\u001b[A\u001b[A\n",
      "\n",
      "38it [00:07,  5.40it/s]\u001b[A\u001b[A"
     ]
    },
    {
     "name": "stdout",
     "output_type": "stream",
     "text": [
      "['<s>Add', 'ross', 'the', 'boss', 'to', \"laurie's\", 'ichas', 'de', 'Ã©xitos', 'list</s>', 'Which', 'playlist?</s>?</s></s>']\n",
      "['<s>Add', 'some', 'Beatmaster', 'V', 'to', 'the', 'This', 'Is', 'Nicky', 'Jam', 'playlist..', 'Which', 'playlist?</s>??</s>']\n"
     ]
    },
    {
     "name": "stderr",
     "output_type": "stream",
     "text": [
      "\n",
      "\n",
      "39it [00:08,  5.20it/s]\u001b[A\u001b[A"
     ]
    },
    {
     "name": "stdout",
     "output_type": "stream",
     "text": [
      "['<s>add', 'paulinho', 'da', 'viola', 'to', 'my', 'iTunes', 'Radio', 'Rock', 'song', 'list.', 'Which', 'playlist?</s>??</s>']\n",
      "['<s>add', 'Eef', 'Barçay', 'to', 'my', 'playlist', 'Country', 'Coffeehouse</s>', 'Which', 'playlist?</s>:.</s>']"
     ]
    },
    {
     "name": "stderr",
     "output_type": "stream",
     "text": [
      "\n",
      "\n",
      "40it [00:08,  5.17it/s]\u001b[A\u001b[A"
     ]
    },
    {
     "name": "stdout",
     "output_type": "stream",
     "text": [
      "\n"
     ]
    },
    {
     "name": "stderr",
     "output_type": "stream",
     "text": [
      "\n",
      "\n",
      "41it [00:08,  4.89it/s]\u001b[A\u001b[A"
     ]
    },
    {
     "name": "stdout",
     "output_type": "stream",
     "text": [
      "['<s>Add', 'this', 'artist', 'to', 'your', 'playlist</s>', 'Which', 'playlist?</s>??</s>']\n"
     ]
    },
    {
     "name": "stderr",
     "output_type": "stream",
     "text": [
      "\n",
      "\n",
      "42it [00:08,  3.79it/s]\u001b[A\u001b[A"
     ]
    },
    {
     "name": "stdout",
     "output_type": "stream",
     "text": [
      "['<s>add', 'Olga', 'Souza', 'to', \"virginia's\", 'new', 'femme', 'fatale', 'playlist</s>', 'Which', 'playlist?</s>?.</s>']\n"
     ]
    },
    {
     "name": "stderr",
     "output_type": "stream",
     "text": [
      "\n",
      "\n",
      "43it [00:09,  3.50it/s]\u001b[A\u001b[A\n",
      "\n",
      "44it [00:09,  4.00it/s]\u001b[A\u001b[A"
     ]
    },
    {
     "name": "stdout",
     "output_type": "stream",
     "text": [
      "['<s>Add', 'an', 'album', 'by', 'm', 'g', 'sreekumar', 'to', 'my', 'most', 'laidback', 'acoustic', 'playlist..', 'Which', 'playlist?</s>??</s>']\n",
      "['<s>Add', 'this', 'album', 'to', 'my', 'ipsify', 'orchestra', 'cello', 'playlist</s>', 'Which', 'playlist?</s>?.</s>']\n"
     ]
    },
    {
     "name": "stderr",
     "output_type": "stream",
     "text": [
      "\n",
      "\n",
      "45it [00:09,  4.33it/s]\u001b[A\u001b[A\n",
      "\n",
      "46it [00:09,  4.71it/s]\u001b[A\u001b[A"
     ]
    },
    {
     "name": "stdout",
     "output_type": "stream",
     "text": [
      "['<s>I', 'want', 'to', 'put', 'goldy', 'mcjohn', 'on', 'my', 'Hard', 'Rock', 'Party', 'playlist</s>', 'Which', 'playlist?</s>??</s>']\n",
      "['<s>Add', 'this', 'song', 'to', \"noreen's\", 'playlisticed', 'with', 'six', 'strings</s>', 'Which', 'playlist?</s>?.</s>']\n"
     ]
    },
    {
     "name": "stderr",
     "output_type": "stream",
     "text": [
      "\n",
      "\n",
      "47it [00:09,  4.73it/s]\u001b[A\u001b[A\n",
      "\n",
      "48it [00:10,  5.04it/s]\u001b[A\u001b[A"
     ]
    },
    {
     "name": "stdout",
     "output_type": "stream",
     "text": [
      "['<s>Aetna', 'to', 'the', 'Warm', 'Hearts', 'Feel', 'Good', 'playlist..', 'Which', 'playlist?</s>', 'not?</s>']\n",
      "['<s>Add', 'this', 'tune', 'to', 'Rock', 'Save', 'The', 'Queen</s>', 'Which', 'playlist?</s>?.</s>']\n"
     ]
    },
    {
     "name": "stderr",
     "output_type": "stream",
     "text": [
      "\n",
      "\n",
      "49it [00:10,  4.97it/s]\u001b[A\u001b[A\n",
      "\n",
      "50it [00:10,  5.10it/s]\u001b[A\u001b[A"
     ]
    },
    {
     "name": "stdout",
     "output_type": "stream",
     "text": [
      "['<s>Add', 'Firehouse', 'to', 'my', 'icky', 'soul', 'list..', 'Which', 'playlist?</s>??</s>']\n",
      "['<s>add', 'this', 'david', 'cole', 'track', 'to', 'my', 'Totally', 'Stress', 'Free</s>', 'Which', 'playlist?</s>?</s></s>']\n"
     ]
    },
    {
     "name": "stderr",
     "output_type": "stream",
     "text": [
      "\n",
      "\n",
      "51it [00:10,  4.86it/s]\u001b[A\u001b[A\n",
      "\n",
      "52it [00:10,  5.10it/s]\u001b[A\u001b[A"
     ]
    },
    {
     "name": "stdout",
     "output_type": "stream",
     "text": [
      "['<s>Add', 'this', 'to', 'my', 'ÃÃ¡sica', 'para', 'todos', 'playlist..', 'Which', 'playlist?</s>??</s>']\n",
      "['<s>Add', 'the', 'artist', 'tony', 'thompson', 'to', 'my', 'canta', 'en', 'la', 'ducha', 'playlist</s>', 'Which', 'playlist?</s>?</s></s>']\n"
     ]
    },
    {
     "name": "stderr",
     "output_type": "stream",
     "text": [
      "\n",
      "\n",
      "53it [00:11,  5.09it/s]\u001b[A\u001b[A\n",
      "\n",
      "54it [00:11,  5.20it/s]"
     ]
    },
    {
     "name": "stdout",
     "output_type": "stream",
     "text": [
      "['<s>Add', 'the', 'artist', 'to', 'my', 'This', 'Is', 'Mozart', 'playlist..', 'Which', 'playlist?</s>??</s>']\n",
      "['<s>Add', 'this', 'track', 'to', 'downtempo', 'beats</s>', 'Which', 'playlist?</s>', 'playlist.</s>']\n"
     ]
    },
    {
     "name": "stderr",
     "output_type": "stream",
     "text": [
      "\u001b[A\u001b[A\n",
      "\n",
      "55it [00:11,  5.15it/s]\u001b[A\u001b[A\n",
      "\n",
      "56it [00:11,  5.43it/s]\u001b[A\u001b[A"
     ]
    },
    {
     "name": "stdout",
     "output_type": "stream",
     "text": [
      "['<s>Add', 'Quicksand', 'to', 'my', \"valentine's\", 'day', 'love', 'playlist</s>', 'Which', 'playlist?</s>?.</s>']\n",
      "['<s>I', 'feel', 'the', 'passion', 'to', 'my', 'playlist', 'this', 'is', 'kudai', 'playlist..', 'Which', 'playlist?</s>', 'playlist?</s>']\n"
     ]
    },
    {
     "name": "stderr",
     "output_type": "stream",
     "text": [
      "\n",
      "\n",
      "57it [00:11,  5.35it/s]\u001b[A\u001b[A\n",
      "\n",
      "58it [00:11,  5.45it/s]\u001b[A\u001b[A"
     ]
    },
    {
     "name": "stdout",
     "output_type": "stream",
     "text": [
      "['<s>add', 'this', 'song', 'to', 'my', 'icky', 'latin', 'top', '50', 'playlist</s>', 'Which', 'playlist?</s>??</s>']\n",
      "['<s>Put', 'this', 'artist', 'in', 'Pachangueo', 'Total.', 'Which', 'playlist?</s>?.</s>']\n"
     ]
    },
    {
     "name": "stderr",
     "output_type": "stream",
     "text": [
      "\n",
      "\n",
      "59it [00:12,  5.30it/s]\u001b[A\u001b[A\n",
      "\n"
     ]
    },
    {
     "name": "stdout",
     "output_type": "stream",
     "text": [
      "['<s>add', 'vl', 'mike', 'to', 'my', 'ixcode2016', 'playlist</s>', 'Which', 'playlist?</s>?:</s>']\n",
      "['<s>add', 'how', 'to', 'my', 'own', 'week', 'end', 'playlist</s>', 'Which', 'playlist?</s>', 'playlist?</s>']\n"
     ]
    },
    {
     "name": "stderr",
     "output_type": "stream",
     "text": [
      "60it [00:12,  5.27it/s]\u001b[A\u001b[A\n",
      "\n",
      "61it [00:12,  5.29it/s]\u001b[A\u001b[A"
     ]
    },
    {
     "name": "stdout",
     "output_type": "stream",
     "text": [
      "['<s>Add', 'Norma', 'Jean', 'to', 'my', 'icky', 'rock', '&', 'roll', 'playlist..', 'Which', 'playlist?</s>??</s>']\n",
      "['<s>Add', 'Kirk', 'Hammett', 'to', 'Calm', 'Down.', 'Which', 'playlist?</s>', 'tuned.</s>']"
     ]
    },
    {
     "name": "stderr",
     "output_type": "stream",
     "text": [
      "\n",
      "\n",
      "62it [00:12,  5.37it/s]\u001b[A\u001b[A\n",
      "\n"
     ]
    },
    {
     "name": "stdout",
     "output_type": "stream",
     "text": [
      "\n",
      "['<s>Add', 'On', 'with', 'the', 'Show', 'to', 'my', 'ute', 'Mode', 'playlist</s>', 'Which', 'playlist?</s>?:</s>']\n"
     ]
    },
    {
     "name": "stderr",
     "output_type": "stream",
     "text": [
      "63it [00:12,  5.34it/s]\u001b[A\u001b[A\n",
      "\n",
      "64it [00:13,  5.08it/s]\u001b[A\u001b[A\n",
      "\n"
     ]
    },
    {
     "name": "stdout",
     "output_type": "stream",
     "text": [
      "['<s>En', 'kjetil', 'vidar', 'haraldstad', 'to', 'listas', 'de', 'Ã©xitos</s>', 'Which', 'playlist?</s>?</s></s>']\n",
      "['<s>can', 'you', 'add', 'xanadu', 'to', 'Latin', 'Alternative', 'Music</s>', 'Which', 'playlist?</s>::</s>']\n"
     ]
    },
    {
     "name": "stderr",
     "output_type": "stream",
     "text": [
      "65it [00:13,  5.13it/s]\u001b[A\u001b[A\n",
      "\n",
      "66it [00:13,  5.14it/s]\u001b[A\u001b[A"
     ]
    },
    {
     "name": "stdout",
     "output_type": "stream",
     "text": [
      "['<s>add', 'this', 'track', 'to', \"krystal's\", 'ips', '100</s>', 'Which', 'playlist?</s>::</s>']\n"
     ]
    },
    {
     "name": "stderr",
     "output_type": "stream",
     "text": [
      "\n",
      "\n",
      "67it [00:13,  5.15it/s]\u001b[A\u001b[A\n",
      "\n"
     ]
    },
    {
     "name": "stdout",
     "output_type": "stream",
     "text": [
      "['<s>Can', 'you', 'put', 'this', 'track', 'onto', 'the', 'playlist', 'the', 'selektor?</s>', 'Which', 'playlist?</s>::</s>']\n",
      "['<s>my', 'music', 'for', 'loving', 'couples', 'needs', 'more', 'push', 'the', 'button</s>', 'Which', 'playlist?</s>??</s>']\n"
     ]
    },
    {
     "name": "stderr",
     "output_type": "stream",
     "text": [
      "68it [00:13,  5.14it/s]\u001b[A\u001b[A\n",
      "\n",
      "69it [00:14,  5.26it/s]\u001b[A\u001b[A\n",
      "\n",
      "70it [00:14,  5.45it/s]\u001b[A\u001b[A"
     ]
    },
    {
     "name": "stdout",
     "output_type": "stream",
     "text": [
      "['<s>add', 'the', 'album', 'and', 'the', 'martin', 'garrix', 'show', 'to', 'my', 'playlist</s>', 'Which', 'playlist?</s>:?</s>']\n",
      "['<s>add', 'gina', 'schock', 'to', 'workout', 'twerkout</s>', 'Which', 'playlist?</s>?.</s>']\n"
     ]
    },
    {
     "name": "stderr",
     "output_type": "stream",
     "text": [
      "\n",
      "\n",
      "71it [00:14,  5.18it/s]\u001b[A\u001b[A\n",
      "\n"
     ]
    },
    {
     "name": "stdout",
     "output_type": "stream",
     "text": [
      "['<s>Add', 'this', 'tune', 'to', \"cristina's\", 'daily', 'endorphin', 'rush', 'playlist</s>', 'Which', 'playlist?</s>', 'playlist.</s>']\n",
      "['<s>add', 'this', 'tune', 'to', 'my', \"It's\", 'a', 'Southern', 'Thing', 'playlist</s>', 'Which', 'playlist?</s>?.</s>']\n"
     ]
    },
    {
     "name": "stderr",
     "output_type": "stream",
     "text": [
      "72it [00:14,  5.23it/s]\u001b[A\u001b[A\n",
      "\n",
      "73it [00:14,  5.41it/s]\u001b[A\u001b[A"
     ]
    },
    {
     "name": "stdout",
     "output_type": "stream",
     "text": [
      "['<s>add', 'Ikara', 'to', 'your', 'playlst.', 'Which', 'playlist?</s>?</s></s>']\n",
      "['<s>Add', 'this', 'tune', 'to', 'This', 'Is', 'Nicky', 'Jam</s>', 'Which', 'playlist?</s>', 'playlist.</s>']"
     ]
    },
    {
     "name": "stderr",
     "output_type": "stream",
     "text": [
      "\n",
      "\n",
      "74it [00:15,  5.28it/s]\u001b[A\u001b[A\n",
      "\n"
     ]
    },
    {
     "name": "stdout",
     "output_type": "stream",
     "text": [
      "\n",
      "['<s>Can', 'you', 'add', 'something', 'by', 'the', 'artist', 'Paul', 'Cargnello', 'to', 'my', 'Chill', 'Tracks', 'playlist</s>', 'Which', 'playlist?</s>?.</s>']\n"
     ]
    },
    {
     "name": "stderr",
     "output_type": "stream",
     "text": [
      "75it [00:15,  5.19it/s]\u001b[A\u001b[A\n",
      "\n",
      "76it [00:15,  4.97it/s]\u001b[A\u001b[A\n",
      "\n",
      "77it [00:15,  5.21it/s]\u001b[A\u001b[A"
     ]
    },
    {
     "name": "stdout",
     "output_type": "stream",
     "text": [
      "['<s>add', 'Runaljodha', 'var', 'Ginnunga', 'to', \"ashlee's\", 'playlist', 'titled', 'forever', 'country</s>', 'Which', 'playlist?</s>?:</s>']\n",
      "['<s>Put', 'The', 'Orange', 'and', 'the', 'Green', 'on', 'Los', 'Angeles', 'Radio', 'Ã\\x89xitos</s>', 'Which', 'playlist?</s>?.</s>']\n"
     ]
    },
    {
     "name": "stderr",
     "output_type": "stream",
     "text": [
      "\n",
      "\n",
      "78it [00:15,  5.31it/s]\u001b[A\u001b[A"
     ]
    },
    {
     "name": "stdout",
     "output_type": "stream",
     "text": [
      "['<s>Add', 'an', 'album', 'by', 'Liza', 'Oumarova', 'to', 'the', 'Steampunk', 'playlist..', 'Which', 'playlist?</s>??</s>']\n"
     ]
    },
    {
     "name": "stderr",
     "output_type": "stream",
     "text": [
      "\n",
      "\n",
      "79it [00:16,  5.24it/s]\u001b[A\u001b[A\n",
      "\n",
      "80it [00:16,  5.43it/s]\u001b[A\u001b[A"
     ]
    },
    {
     "name": "stdout",
     "output_type": "stream",
     "text": [
      "['<s>Please', 'add', 'a', 'song', 'to', \"ines's\", 'playlist', 'called', 'Metal', 'Party</s>', 'Which', 'playlist?</s>??</s>']\n",
      "['<s>For', 'playlist', 'todo', 'latino', 'add', 'Absolutely', 'Sweet', 'Marie</s>', 'Which', 'playlist?</s>', 'you.</s>']\n"
     ]
    },
    {
     "name": "stderr",
     "output_type": "stream",
     "text": [
      "\n",
      "\n",
      "81it [00:16,  5.53it/s]\u001b[A\u001b[A\n",
      "\n"
     ]
    },
    {
     "name": "stdout",
     "output_type": "stream",
     "text": [
      "['<s>adds', 'to', 'night', 'vibes</s>', 'Which', 'playlist?</s>', 'playlist?</s>']\n",
      "['<s>Can', 'you', 'add', 'Blood', 'On', 'The', 'Face', 'to', 'the', 'playlist', 'called', 'Heartland', 'Country</s>', 'Which', 'playlist?</s>', 'you.</s>']\n"
     ]
    },
    {
     "name": "stderr",
     "output_type": "stream",
     "text": [
      "82it [00:16,  5.49it/s]\u001b[A\u001b[A\n",
      "\n",
      "83it [00:16,  5.65it/s]\u001b[A\u001b[A\n",
      "\n",
      "84it [00:16,  5.67it/s]\u001b[A\u001b[A"
     ]
    },
    {
     "name": "stdout",
     "output_type": "stream",
     "text": [
      "['<s>The', 'spring', 'classical', 'playlist', 'needs', 'Partners', 'in', 'Crime', 'added', 'to', 'it..', 'Which', 'playlist?</s>??</s>']\n",
      "['<s>add', 'the', 'artist', 'of', 'Tomohisa', 'Yamashita', 'to', 'the', 'conexiones', 'playlist.', 'Which', 'playlist?</s>?</s></s>']\n"
     ]
    },
    {
     "name": "stderr",
     "output_type": "stream",
     "text": [
      "\n",
      "\n",
      "85it [00:17,  5.46it/s]\u001b[A\u001b[A\n",
      "\n",
      "86it [00:17,  5.54it/s]\u001b[A\u001b[A"
     ]
    },
    {
     "name": "stdout",
     "output_type": "stream",
     "text": [
      "['<s>Add', 'Written', 'in', 'Red', 'to', 'my', 'ying', 'the', 'house', 'playlist..', 'Which', 'playlist?</s>??</s>']\n",
      "['<s>Add', 'cordell', 'mosson', 'to', 'my', 'playlist', 'i', 'love', 'my', 'neo', 'soul', 'list</s>', 'Which', 'playlist?</s>:</s></s>']\n"
     ]
    },
    {
     "name": "stderr",
     "output_type": "stream",
     "text": [
      "\n",
      "\n",
      "87it [00:17,  5.55it/s]\u001b[A\u001b[A\n",
      "\n"
     ]
    },
    {
     "name": "stdout",
     "output_type": "stream",
     "text": [
      "['<s>add', 'album', 'to', 'Feeling', 'Blue.', 'Which', 'playlist?</s>', 'one?</s>']\n",
      "['<s>I', 'want', 'to', 'put', 'another', 'album', 'into', 'the', 'a', 'peaceful', 'rush', 'hour', 'playlist..', 'Which', 'playlist?</s>??</s>']\n"
     ]
    },
    {
     "name": "stderr",
     "output_type": "stream",
     "text": [
      "88it [00:17,  5.41it/s]\u001b[A\u001b[A\n",
      "\n",
      "89it [00:17,  5.37it/s]\u001b[A\u001b[A"
     ]
    },
    {
     "name": "stdout",
     "output_type": "stream",
     "text": [
      "['<s>Open', 'my', 'ich', 'music', 'playlist', 'and', 'play', 'an', 'entire', 'album</s>', 'Which', 'playlist?</s>', 'choice?</s>']\n"
     ]
    },
    {
     "name": "stderr",
     "output_type": "stream",
     "text": [
      "\n",
      "\n",
      "90it [00:18,  5.24it/s]\u001b[A\u001b[A"
     ]
    },
    {
     "name": "stdout",
     "output_type": "stream",
     "text": [
      "['<s>add', 'sonntag', 'to', 'my', 'playlist', \"Assassin's\", 'Creed</s>', 'Which', 'playlist?</s>??</s>']\n"
     ]
    },
    {
     "name": "stderr",
     "output_type": "stream",
     "text": [
      "\n",
      "\n",
      "91it [00:18,  5.03it/s]\u001b[A\u001b[A\n",
      "\n",
      "92it [00:18,  5.22it/s]\u001b[A\u001b[A"
     ]
    },
    {
     "name": "stdout",
     "output_type": "stream",
     "text": [
      "['<s>I', 'want', 'more', 'francis', 'healy', 'in', 'the', \"Rockin'\", 'Vibes', 'playlist..', 'Which', 'playlist?</s>??</s>']\n",
      "['<s>add', 'gareth', 'gates', 'to', 'my', 'urn', 'playlist</s>', 'Which', 'playlist?</s>?.</s>']\n"
     ]
    },
    {
     "name": "stderr",
     "output_type": "stream",
     "text": [
      "\n",
      "\n",
      "93it [00:18,  5.45it/s]\u001b[A\u001b[A\n",
      "\n",
      "94it [00:18,  5.59it/s]\u001b[A\u001b[A"
     ]
    },
    {
     "name": "stdout",
     "output_type": "stream",
     "text": [
      "['<s>add', 'tune', 'to', 'sxsw', 'fresh', 'playlist</s>', 'Which', 'playlist?</s>??</s>']\n",
      "['<s>add', 'track', 'to', 'todo', 'latino</s>', 'Which', 'playlist?</s>', 'playlist?</s>']\n"
     ]
    },
    {
     "name": "stderr",
     "output_type": "stream",
     "text": [
      "\n",
      "\n",
      "95it [00:18,  5.42it/s]\u001b[A\u001b[A\n",
      "\n"
     ]
    },
    {
     "name": "stdout",
     "output_type": "stream",
     "text": [
      "['<s>Add', 'to', 'my', 'ernano', 'list', 'a', 'song', 'by', 'andy', 'lee</s>', 'Which', 'playlist?</s>', 'playlist?</s>']\n",
      "['<s>Add', 'song', 'to', 'my', 'YouTube', 'Club', 'Hits.', 'Which', 'playlist?</s>', 'playlist.</s>']\n"
     ]
    },
    {
     "name": "stderr",
     "output_type": "stream",
     "text": [
      "96it [00:19,  5.45it/s]\u001b[A\u001b[A\n",
      "\n",
      "97it [00:19,  5.67it/s]\u001b[A\u001b[A\n",
      "\n",
      "98it [00:19,  5.74it/s]\u001b[A\u001b[A"
     ]
    },
    {
     "name": "stdout",
     "output_type": "stream",
     "text": [
      "['<s>add', 'this', 'tune', 'to', 'my', 'playlist', 'titled', 'uncharted', '4', 'nathan', 'drake</s>', 'Which', 'playlist?</s>?.</s>']\n",
      "['<s>Add', '100%', 'te', 'ljubam', 'to', 'the', 'Hit', 'Remix', 'playlist</s>', 'Which', 'playlist?</s>?.</s>']\n"
     ]
    },
    {
     "name": "stderr",
     "output_type": "stream",
     "text": [
      "\n",
      "\n",
      "99it [00:19,  5.75it/s]\u001b[A\u001b[A"
     ]
    },
    {
     "name": "stdout",
     "output_type": "stream",
     "text": [
      "['<s>Put', 'this', 'album', 'on', 'totally', 'alternative</s>', 'Which', 'playlist?</s>', 'playlist.</s>']\n"
     ]
    },
    {
     "name": "stderr",
     "output_type": "stream",
     "text": [
      "\n",
      "\n",
      "100it [00:19,  5.49it/s]\u001b[A\u001b[A"
     ]
    },
    {
     "name": "stdout",
     "output_type": "stream",
     "text": [
      "['<s>put', 'this', 'album', 'into', \"becky's\", 'icky', 'indie', 'folk', 'playlist</s>', 'Which', 'playlist?</s>:.</s>']\n"
     ]
    },
    {
     "name": "stderr",
     "output_type": "stream",
     "text": [
      "\n",
      "\n",
      "101it [00:20,  5.22it/s]\u001b[A\u001b[A\n",
      "\n"
     ]
    },
    {
     "name": "stdout",
     "output_type": "stream",
     "text": [
      "['<s>Add', 'Yuna', 'Ito', 'to', 'the', 'hot', 'rods', '&', 'horror', 'shows', 'playlist..', 'Which', 'playlist?</s>??</s>']\n",
      "['<s>add', 'the', 'artist', 'Ruby', 'to', 'my', 'Ruby', 'now', 'list</s>', 'Which', 'playlist?</s>::</s>']\n"
     ]
    },
    {
     "name": "stderr",
     "output_type": "stream",
     "text": [
      "102it [00:20,  5.14it/s]\u001b[A\u001b[A\n",
      "\n",
      "103it [00:20,  5.26it/s]\u001b[A\u001b[A\n",
      "\n",
      "104it [00:20,  5.44it/s]\u001b[A\u001b[A"
     ]
    },
    {
     "name": "stdout",
     "output_type": "stream",
     "text": [
      "['<s>add', 'this', 'tune', 'to', 'my', \"It's\", 'a', 'Southern', 'Thing', 'playlist</s>', 'Which', 'playlist?</s>?.</s>']\n",
      "['<s>Add', 'the', 'album', 'to', 'the', 'top', '100', 'country', 'tracks', 'on', 'spotify', 'playlist..', 'Which', 'playlist?</s>??</s>']\n"
     ]
    },
    {
     "name": "stderr",
     "output_type": "stream",
     "text": [
      "\n",
      "\n",
      "105it [00:20,  5.27it/s]\u001b[A\u001b[A"
     ]
    },
    {
     "name": "stdout",
     "output_type": "stream",
     "text": [
      "['<s>Add', 'this', 'track', 'to', 'the', 'classical', 'music', 'for', 'smart', 'kids', 'playlist</s>', 'Which', 'playlist?</s>?.</s>']\n",
      "['<s>Add', 'an', 'album', 'to', \"corinne's\", 'ute', 'Mode', 'playlist..', 'Which', 'playlist?</s>??</s>']"
     ]
    },
    {
     "name": "stderr",
     "output_type": "stream",
     "text": [
      "\n",
      "\n",
      "106it [00:20,  5.32it/s]\u001b[A\u001b[A\n",
      "\n"
     ]
    },
    {
     "name": "stdout",
     "output_type": "stream",
     "text": [
      "\n",
      "['<s>Include', 'the', 'album', 'by', 'Arthur', 'Rhames', 'in', 'Urban', 'Poet</s>', 'Which', 'playlist?</s>', 'recommendations.</s>']\n"
     ]
    },
    {
     "name": "stderr",
     "output_type": "stream",
     "text": [
      "107it [00:21,  5.27it/s]\u001b[A\u001b[A\n",
      "\n",
      "108it [00:21,  5.22it/s]\u001b[A\u001b[A\n",
      "\n",
      "109it [00:21,  5.36it/s]\u001b[A\u001b[A"
     ]
    },
    {
     "name": "stdout",
     "output_type": "stream",
     "text": [
      "['<s>I', 'need', 'to', 'add', 'to', 'the', 'all', 'things', 'post', 'starting', 'with', 'my', 'favorites', 'from', 'the', 'playlist</s>', 'Which', 'playlist?</s>', 'playlist?</s>']\n",
      "['<s>add', 'Nothing', 'Fancy', 'to', 'Meditate', 'to', 'Sounds', 'of', 'Nature', 'playlist</s>', 'Which', 'playlist?', 'No?.</s>']\n"
     ]
    },
    {
     "name": "stderr",
     "output_type": "stream",
     "text": [
      "\n",
      "\n",
      "110it [00:21,  5.45it/s]\u001b[A\u001b[A\n",
      "\n",
      "111it [00:21,  5.66it/s]\u001b[A\u001b[A"
     ]
    },
    {
     "name": "stdout",
     "output_type": "stream",
     "text": [
      "['<s>Add', 'CJ', 'Snare', 'to', 'my', 'new', 'indie', 'rock', 'playlist</s>', 'Which', 'playlist?</s>', 'one.</s>']\n",
      "['<s>Add', 'Ernie', 'Hawkins', 'to', 'the', 'Dubstep', 'playlist..', 'Which', 'playlist?</s>?:</s>']\n"
     ]
    },
    {
     "name": "stderr",
     "output_type": "stream",
     "text": [
      "\n",
      "\n",
      "112it [00:22,  5.32it/s]\u001b[A\u001b[A\n",
      "\n"
     ]
    },
    {
     "name": "stdout",
     "output_type": "stream",
     "text": [
      "['<s>Please', 'put', 'this', 'song', 'onto', 'my', 'Urban', 'Hits', 'playlist..', 'Which', 'playlist?</s>??</s>']\n",
      "['<s>add', 'The', 'Spine', 'Surfs', 'Alone', 'to', 'my', 'playlist', 'called', 'The', 'Funny', 'Thing', 'About', 'Football', 'Is.', 'Which', 'playlist?</s>?.</s>']\n"
     ]
    },
    {
     "name": "stderr",
     "output_type": "stream",
     "text": [
      "113it [00:22,  5.30it/s]\u001b[A\u001b[A\n",
      "\n",
      "114it [00:22,  5.33it/s]\u001b[A\u001b[A\n",
      "\n",
      "115it [00:22,  5.59it/s]\u001b[A\u001b[A"
     ]
    },
    {
     "name": "stdout",
     "output_type": "stream",
     "text": [
      "['<s>Add', 'Ajoy', 'Chakrabarty', 'to', 'women', 'of', 'country', 'playlist</s>', 'Which', 'playlist?</s>?.</s>']\n",
      "['<s>add', 'this', 'song', 'to', 'brooklyn', 'beat</s>', 'Which', 'playlist?</s>', 'playlist?</s>']\n"
     ]
    },
    {
     "name": "stderr",
     "output_type": "stream",
     "text": [
      "\n",
      "\n",
      "116it [00:22,  5.36it/s]\u001b[A\u001b[A\n",
      "\n",
      "117it [00:22,  5.67it/s]\u001b[A\u001b[A"
     ]
    },
    {
     "name": "stdout",
     "output_type": "stream",
     "text": [
      "['<s>Can', 'you', 'add', 'some', 'disco', 'to', 'my', 'playlist', 'called', 'Genuine', 'R&B</s>', 'Which', 'playlist?</s>??</s>']\n",
      "['<s>add', 'Anthony', 'Hamilton', 'to', 'my', 'list', 'Women', 'of', 'Hip', 'Hop</s>', 'Which', 'playlist?</s>', 'playlist.</s>']\n"
     ]
    },
    {
     "name": "stderr",
     "output_type": "stream",
     "text": [
      "\n",
      "\n",
      "118it [00:23,  5.29it/s]\u001b[A\u001b[A\n",
      "\n"
     ]
    },
    {
     "name": "stdout",
     "output_type": "stream",
     "text": [
      "['<s>Add', 'As', 'I', 'Was', 'Going', 'to', 'St', 'Ives', 'to', 'the', 'fantasÃ\\xada', 'playlist..', 'Which', 'playlist?</s>??</s>']\n",
      "['<s>Se', 'paula', 'abdul', 'on', 'Musica', 'EspaÃndola', '2017</s>', 'Which', 'playlist?</s>??</s>']\n"
     ]
    },
    {
     "name": "stderr",
     "output_type": "stream",
     "text": [
      "119it [00:23,  5.23it/s]\u001b[A\u001b[A\n",
      "\n",
      "120it [00:23,  5.26it/s]\u001b[A\u001b[A\n",
      "\n",
      "121it [00:23,  5.56it/s]\u001b[A\u001b[A"
     ]
    },
    {
     "name": "stdout",
     "output_type": "stream",
     "text": [
      "['<s>Add', 'the', 'song', 'Por', 'una', 'cabeza', 'to', 'my', 'playlist', 'Forever', 'Alone</s>', 'Which', 'playlist?</s>?.</s>']\n",
      "['<s>Add', 'track', 'to', 'Afternoon', 'Train', 'Ride</s>', 'Which', 'playlist?</s>', 'playlist.</s>']\n"
     ]
    },
    {
     "name": "stderr",
     "output_type": "stream",
     "text": [
      "\n",
      "\n",
      "122it [00:23,  5.26it/s]\u001b[A\u001b[A"
     ]
    },
    {
     "name": "stdout",
     "output_type": "stream",
     "text": [
      "['<s>Add', 'silver', 'apples', 'to', 'teh', 'sin', 'estrÃ©s', 'playlist..', 'Which', 'playlist?</s>??</s>']\n"
     ]
    },
    {
     "name": "stderr",
     "output_type": "stream",
     "text": [
      "\n",
      "\n",
      "123it [00:24,  5.20it/s]\u001b[A\u001b[A\n",
      "\n",
      "124it [00:24,  5.36it/s]\u001b[A\u001b[A"
     ]
    },
    {
     "name": "stdout",
     "output_type": "stream",
     "text": [
      "['<s>Please', 'add', 'this', 'song', 'to', 'my', 'playlist', 'llegando', 'a', 'casa', 'palylist.', 'Which', 'playlist?</s>?</s></s>']\n",
      "['<s>Add', 'the', 'song', 'to', 'the', 'martin', 'garrix', 'show', 'playlist</s>', 'Which', 'playlist?</s>??</s>']\n"
     ]
    },
    {
     "name": "stderr",
     "output_type": "stream",
     "text": [
      "\n",
      "\n",
      "125it [00:24,  5.39it/s]\u001b[A\u001b[A\n",
      "\n",
      "126it [00:24,  5.50it/s]\u001b[A\u001b[A"
     ]
    },
    {
     "name": "stdout",
     "output_type": "stream",
     "text": [
      "['<s>Add', 'more', 'David', 'Wolfenberger', 'to', 'my', 'Duetos', 'playlist..', 'Which', 'playlist?</s>?</s></s>']\n",
      "['<s>I', 'want', 'to', 'add', 'Club', 'Mix', 'to', 'the', 'playlist', 'with', 'the', 'title', '50', 'ClÃ¡sicos</s>', 'Which', 'playlist?</s>??</s>']\n"
     ]
    },
    {
     "name": "stderr",
     "output_type": "stream",
     "text": [
      "\n",
      "\n",
      "127it [00:24,  5.42it/s]\u001b[A\u001b[A\n",
      "\n"
     ]
    },
    {
     "name": "stdout",
     "output_type": "stream",
     "text": [
      "['<s>add', 'Eric', 'Bibb', 'to', 'Country', 'Coffeehouse</s>', 'Which', 'playlist?</s>', 'playlist.</s>']\n",
      "['<s>Add', 'gregg', 'bissonette', 'to', 'my', 'ican', 'Latin', 'Top', '50', 'playlist</s>', 'Which', 'playlist?</s>?.</s>']\n"
     ]
    },
    {
     "name": "stderr",
     "output_type": "stream",
     "text": [
      "128it [00:25,  5.29it/s]\u001b[A\u001b[A\n",
      "\n",
      "129it [00:25,  5.47it/s]\u001b[A\u001b[A\n",
      "\n",
      "130it [00:25,  5.68it/s]\u001b[A\u001b[A"
     ]
    },
    {
     "name": "stdout",
     "output_type": "stream",
     "text": [
      "['<s>add', 'track', '70s', 'smash', 'hits', 'to', 'my.', 'Which', 'playlist?</s>', 'playlist.</s>']\n",
      "['<s>add', 'this', 'album', 'to', 'my', 'Blues', 'playlist</s>', 'Which', 'playlist?</s>??</s>']\n"
     ]
    },
    {
     "name": "stderr",
     "output_type": "stream",
     "text": [
      "\n",
      "\n",
      "131it [00:25,  5.40it/s]\u001b[A\u001b[A"
     ]
    },
    {
     "name": "stdout",
     "output_type": "stream",
     "text": [
      "['<s>I', 'want', 'this', 'song', 'on', 'the', 'playlist', 'called', 'chill', 'vibes</s>', 'Which', 'playlist?</s>', 'playlist.</s>']\n"
     ]
    },
    {
     "name": "stderr",
     "output_type": "stream",
     "text": [
      "\n",
      "\n",
      "132it [00:25,  4.98it/s]\u001b[A\u001b[A"
     ]
    },
    {
     "name": "stdout",
     "output_type": "stream",
     "text": [
      "['<s>Add', 'this', 'adam', 'clayton', 'tune', 'to', 'sxsw', 'fresh', 'playlist</s>', 'Which', 'playlist?</s>?</s></s>']\n"
     ]
    },
    {
     "name": "stderr",
     "output_type": "stream",
     "text": [
      "\n",
      "\n",
      "133it [00:26,  4.83it/s]\u001b[A\u001b[A"
     ]
    },
    {
     "name": "stdout",
     "output_type": "stream",
     "text": [
      "['<s>add', 'this', 'teddy', 'charles', 'album', 'to', 'this', 'is', 'pavarotti', 'my', 'playlist</s>', 'Which', 'playlist?</s>??</s>']\n"
     ]
    },
    {
     "name": "stderr",
     "output_type": "stream",
     "text": [
      "\n",
      "\n",
      "134it [00:26,  4.90it/s]\u001b[A\u001b[A\n",
      "\n",
      "135it [00:26,  5.12it/s]\u001b[A\u001b[A"
     ]
    },
    {
     "name": "stdout",
     "output_type": "stream",
     "text": [
      "['<s>Can', 'you', 'add', 'me', 'to', 'my', 'playlist', 'called', 'ClÃ¡sica</s>', 'Which', 'playlist?</s>??</s>']\n",
      "['<s>Please', 'add', \"tobymac's\", 'song', 'onto', 'the', 'indiespensables', 'playlist..', 'Which', 'playlist?</s>?:</s>']\n"
     ]
    },
    {
     "name": "stderr",
     "output_type": "stream",
     "text": [
      "\n",
      "\n",
      "136it [00:26,  5.12it/s]\u001b[A\u001b[A\n",
      "\n",
      "137it [00:26,  5.32it/s]\u001b[A\u001b[A"
     ]
    },
    {
     "name": "stdout",
     "output_type": "stream",
     "text": [
      "['<s>add', 'an', 'album', 'to', 'playlist', 'Emily', 'Dickinson</s>', 'Which', 'playlist?', 'Emily', 'Dickinson.</s>']\n",
      "['<s>Add', 'Buddy', 'DeSylva', 'to', 'my', 'this', 'is', 'j', 'balvin', 'playlist</s>', 'Which', 'playlist?</s>', 'playlist?</s>']\n"
     ]
    },
    {
     "name": "stderr",
     "output_type": "stream",
     "text": [
      "\n",
      "\n",
      "138it [00:27,  5.19it/s]\u001b[A\u001b[A"
     ]
    },
    {
     "name": "stdout",
     "output_type": "stream",
     "text": [
      "['<s>ad', 'Czarna', 'dziewczyna', 'to', 'instrumental', 'madness', 'playlist</s>', 'Which', 'playlist?</s>??</s>']\n"
     ]
    },
    {
     "name": "stderr",
     "output_type": "stream",
     "text": [
      "\n",
      "\n",
      "139it [00:27,  5.10it/s]\u001b[A\u001b[A\n",
      "\n",
      "140it [00:27,  5.35it/s]\u001b[A\u001b[A"
     ]
    },
    {
     "name": "stdout",
     "output_type": "stream",
     "text": [
      "['<s>I', 'want', 'to', 'add', 'this', 'song', 'to', 'my', 'Infantil', 'playlist</s>', 'Which', 'playlist?</s>', 'me?</s>']\n",
      "['<s>add', 'vera', 'to', 'my', \"80's\", 'Jam', 'Session', 'playlist</s>', 'Which', 'playlist?</s>?.</s>']\n"
     ]
    },
    {
     "name": "stderr",
     "output_type": "stream",
     "text": [
      "\n",
      "\n",
      "141it [00:27,  5.21it/s]\u001b[A\u001b[A"
     ]
    },
    {
     "name": "stdout",
     "output_type": "stream",
     "text": [
      "['<s>add', 'A', 'Compilation', 'of', 'Warped', 'Music', 'II', 'to', 'your', 'twerkout', 'playlist</s>', 'Which', 'playlist?</s>:.</s>']\n"
     ]
    },
    {
     "name": "stderr",
     "output_type": "stream",
     "text": [
      "\n",
      "\n",
      "142it [00:27,  4.56it/s]\u001b[A\u001b[A"
     ]
    },
    {
     "name": "stdout",
     "output_type": "stream",
     "text": [
      "['<s>Add', 'a', 'track', 'to', 'my', 'list', 'Made', 'in', 'Puerto', 'Rico</s>', 'Which', 'playlist?</s>', 'one?</s>']\n",
      "['<s>add', 'this', 'track', 'to', 'my', 'epic', 'wall', 'of', 'sound', 'playlist</s>', 'Which', 'playlist?</s>??</s>']"
     ]
    },
    {
     "name": "stderr",
     "output_type": "stream",
     "text": [
      "\n",
      "\n",
      "143it [00:28,  4.80it/s]\u001b[A\u001b[A"
     ]
    },
    {
     "name": "stdout",
     "output_type": "stream",
     "text": [
      "\n"
     ]
    },
    {
     "name": "stderr",
     "output_type": "stream",
     "text": [
      "\n",
      "\n",
      "144it [00:28,  4.77it/s]\u001b[A\u001b[A\n",
      "\n"
     ]
    },
    {
     "name": "stdout",
     "output_type": "stream",
     "text": [
      "['<s>add', 'Michael', 'LePond', 'to', 'electronic', 'bliss</s>', 'Which', 'playlist?</s>', 'playlist.</s>']\n",
      "['<s>Add', 'angela', 'au', 'to', 'the', 'playlist', 'del', 'latino</s>', 'Which', 'playlist?</s>??</s>']\n"
     ]
    },
    {
     "name": "stderr",
     "output_type": "stream",
     "text": [
      "145it [00:28,  4.81it/s]\u001b[A\u001b[A\n",
      "\n",
      "146it [00:28,  4.94it/s]\u001b[A\u001b[A\n",
      "\n",
      "147it [00:28,  5.19it/s]\u001b[A\u001b[A"
     ]
    },
    {
     "name": "stdout",
     "output_type": "stream",
     "text": [
      "['<s>add', 'artist', 'abdel', 'halim', 'hafez', 'to', 'my', 'conexiones', 'playlist</s>', 'Which', 'playlist?</s>?</s></s>']\n",
      "['<s>Add', 'track', 'to', 'this', 'is', 'puccini</s>', 'Which', 'playlist?</s>', 'playlist.</s>']\n"
     ]
    },
    {
     "name": "stderr",
     "output_type": "stream",
     "text": [
      "\n",
      "\n",
      "148it [00:29,  4.82it/s]\u001b[A\u001b[A"
     ]
    },
    {
     "name": "stdout",
     "output_type": "stream",
     "text": [
      "['<s>I', 'need', 'to', 'add', 'a', 'song', 'to', 'my', 'Â', 'que', 'suena', 'new', 'york', 'playlist..', 'Which', 'playlist?</s>??</s>']\n",
      "['<s>Add', 'this', 'artist', 'to', 'this', 'is', 'Rosana</s>', 'Which', 'playlist?</s>?.</s>']"
     ]
    },
    {
     "name": "stderr",
     "output_type": "stream",
     "text": [
      "\n",
      "\n",
      "149it [00:29,  4.99it/s]\u001b[A\u001b[A"
     ]
    },
    {
     "name": "stdout",
     "output_type": "stream",
     "text": [
      "\n",
      "['<s>add', 'Sofia', 'Savitsjeva', 'in', '88', 'keys</s>', 'Which', 'playlist?</s>:</s></s>']"
     ]
    },
    {
     "name": "stderr",
     "output_type": "stream",
     "text": [
      "\n",
      "\n",
      "150it [00:29,  4.98it/s]\u001b[A\u001b[A\n",
      "\n"
     ]
    },
    {
     "name": "stdout",
     "output_type": "stream",
     "text": [
      "\n",
      "['<s>add', 'alain', 'caron', 'to', 'my', 'icky', 'playlist</s>', 'Which', 'playlist?</s>??</s>']\n"
     ]
    },
    {
     "name": "stderr",
     "output_type": "stream",
     "text": [
      "151it [00:29,  5.11it/s]\u001b[A\u001b[A\n",
      "\n",
      "152it [00:29,  4.78it/s]\u001b[A\u001b[A\n",
      "\n"
     ]
    },
    {
     "name": "stdout",
     "output_type": "stream",
     "text": [
      "['<s>Add', 'the', 'r', 'l', 'Burnside', 'album', 'to', 'my', 'Nothing', 'But', 'A', 'Party', 'R&B', 'playlist</s>', 'Which', 'playlist?</s>', 'playlist.</s>']\n",
      "['<s>add', 'Steve', 'Jordan', 'to', \"inez's\", 'tgif</s>', 'Which', 'playlist?</s>:</s></s>']\n"
     ]
    },
    {
     "name": "stderr",
     "output_type": "stream",
     "text": [
      "153it [00:30,  5.01it/s]\u001b[A\u001b[A\n",
      "\n",
      "154it [00:30,  5.07it/s]\u001b[A\u001b[A\n",
      "\n",
      "155it [00:30,  5.28it/s]\u001b[A\u001b[A"
     ]
    },
    {
     "name": "stdout",
     "output_type": "stream",
     "text": [
      "['<s>Add', 'to', 'my', 'playlist', 'all', 'funked', 'up', 'this', 'track</s>', 'Which', 'playlist?</s>', 'playlist.</s>']\n",
      "['<s>add', 'this', 'to', 'my', 'My', \"Rockin'\", 'Vibes', 'playlist</s>', 'Which', 'playlist?</s>?:</s>']\n"
     ]
    },
    {
     "name": "stderr",
     "output_type": "stream",
     "text": [
      "\n",
      "\n",
      "156it [00:30,  5.26it/s]\u001b[A\u001b[A\n",
      "\n"
     ]
    },
    {
     "name": "stdout",
     "output_type": "stream",
     "text": [
      "['<s>add', 'this', 'artist', 'named', 'Prince', 'to', 'the', 'playlist', 'all', 'new', 'all', 'now</s>', 'Which', 'playlist?</s>::</s>']\n",
      "['<s>add', 'billy-horn', 'to', 'my', 'iph', '61', 'playlist</s>', 'Which', 'playlist?</s>?:</s>']\n"
     ]
    },
    {
     "name": "stderr",
     "output_type": "stream",
     "text": [
      "157it [00:30,  5.33it/s]\u001b[A\u001b[A\n",
      "\n",
      "158it [00:30,  5.37it/s]\u001b[A\u001b[A\n",
      "\n",
      "159it [00:31,  5.56it/s]\u001b[A\u001b[A"
     ]
    },
    {
     "name": "stdout",
     "output_type": "stream",
     "text": [
      "['<s>Add', 'ramble', 'on', 'to', 'Halloween', 'Teens</s>', 'Which', 'playlist?', 'Your', 'one.</s>']\n",
      "['<s>add', 'this', 'song', 'to', 'Rock', 'Party</s>', 'Which', 'playlist?</s>??</s>']\n"
     ]
    },
    {
     "name": "stderr",
     "output_type": "stream",
     "text": [
      "\n",
      "\n",
      "160it [00:31,  5.12it/s]\u001b[A\u001b[A\n",
      "\n",
      "161it [00:31,  5.24it/s]\u001b[A\u001b[A"
     ]
    },
    {
     "name": "stdout",
     "output_type": "stream",
     "text": [
      "['<s>I', 'want', 'to', 'add', 'lady', 'maisry', 'to', 'my', 'playlist', 'lo', 'que', 'suena', 'new', 'york</s>', 'Which', 'playlist?</s>??</s>']\n",
      "['<s>I', 'want', 'to', 'add', 'an', 'album', 'to', \"noreen's\", 'endorphin', 'rush', 'playlist..', 'Which', 'playlist?</s>??</s>']\n"
     ]
    },
    {
     "name": "stderr",
     "output_type": "stream",
     "text": [
      "\n",
      "\n",
      "162it [00:31,  5.27it/s]\u001b[A\u001b[A"
     ]
    },
    {
     "name": "stdout",
     "output_type": "stream",
     "text": [
      "['<s>Add', 'back', 'to', 'my', 'playlist', 'lo', 'que', 'suena', 'new', 'york</s>', 'Which', 'playlist?</s>?.</s>']\n"
     ]
    },
    {
     "name": "stderr",
     "output_type": "stream",
     "text": [
      "\n",
      "\n",
      "163it [00:31,  5.20it/s]\u001b[A\u001b[A\n",
      "\n",
      "164it [00:32,  5.37it/s]\u001b[A\u001b[A"
     ]
    },
    {
     "name": "stdout",
     "output_type": "stream",
     "text": [
      "['<s>Add', 'shawn', 'camp', 'to', 'my', 'soulful', 'disco', 'playlist..', 'Which', 'playlist?</s>??</s>']\n",
      "['<s>add', 'bonobo', 'to', 'your', 'playlists</s>', 'Which', 'playlist?</s>??</s>']\n"
     ]
    },
    {
     "name": "stderr",
     "output_type": "stream",
     "text": [
      "\n",
      "\n",
      "165it [00:32,  5.39it/s]\u001b[A\u001b[A"
     ]
    },
    {
     "name": "stdout",
     "output_type": "stream",
     "text": [
      "['<s>I', 'hold', 'my', 'liquor', 'to', 'electroNOW</s>', 'Which', 'playlist?</s>', 'playlist?</s>']\n"
     ]
    },
    {
     "name": "stderr",
     "output_type": "stream",
     "text": [
      "\n",
      "\n",
      "166it [00:32,  5.15it/s]\u001b[A\u001b[A"
     ]
    },
    {
     "name": "stdout",
     "output_type": "stream",
     "text": [
      "['<s>Add', 'Tobias', 'Sammet', 'to', 'my', 'ive', 'back', 'the', '90s', 'list</s>', 'Which', 'playlist?</s>:.</s>']\n"
     ]
    },
    {
     "name": "stderr",
     "output_type": "stream",
     "text": [
      "\n",
      "\n",
      "167it [00:32,  5.09it/s]\u001b[A\u001b[A"
     ]
    },
    {
     "name": "stdout",
     "output_type": "stream",
     "text": [
      "['<s>Add', 'Jack', 'Bebble', 'to', 'my', 'new', 'reggae', 'bombastic', 'list</s>', 'Which', 'playlist?</s>', 'playlist.</s>']\n"
     ]
    },
    {
     "name": "stderr",
     "output_type": "stream",
     "text": [
      "\n",
      "\n",
      "168it [00:32,  5.01it/s]\u001b[A\u001b[A\n",
      "\n",
      "169it [00:33,  5.18it/s]\u001b[A\u001b[A"
     ]
    },
    {
     "name": "stdout",
     "output_type": "stream",
     "text": [
      "['<s>addict', 'smit', 'in', 'endorphin', 'rush</s>', 'Which', 'playlist?</s>', 'playlist?</s>']\n",
      "['<s>add', 'Rupee', 'to', 'my', 'Ultra', 'Metal', 'playlist</s>', 'Which', 'playlist?</s>?.</s>']\n"
     ]
    },
    {
     "name": "stderr",
     "output_type": "stream",
     "text": [
      "\n",
      "\n",
      "170it [00:33,  5.27it/s]\u001b[A\u001b[A\n",
      "\n"
     ]
    },
    {
     "name": "stdout",
     "output_type": "stream",
     "text": [
      "['<s>Please', 'add', 'Liberty', 'Forever', 'to', 'the', 'road', 'trip', 'playlist..', 'Which', 'playlist?</s>??</s>']\n",
      "['<s>Add', 'a', 'clark', 'to', \"diann's\", 'weekly', 'chill', 'out', 'list</s>', 'Which', 'playlist?</s>?.</s>']\n"
     ]
    },
    {
     "name": "stderr",
     "output_type": "stream",
     "text": [
      "171it [00:33,  5.15it/s]\u001b[A\u001b[A\n",
      "\n",
      "172it [00:33,  5.41it/s]\u001b[A\u001b[A\n",
      "\n",
      "173it [00:33,  5.64it/s]\u001b[A\u001b[A"
     ]
    },
    {
     "name": "stdout",
     "output_type": "stream",
     "text": [
      "['<s>Put', 'another', 'track', 'in', 'my', 'electronica', '&', 'dance', 'playlist..', 'Which', 'playlist?</s>??</s>']\n",
      "['<s>add', 'the', 'tune', 'to', 'the', 'Indie', 'Workout', 'playlist</s>', 'Which', 'playlist?</s>', 'tuned.</s>']\n"
     ]
    },
    {
     "name": "stderr",
     "output_type": "stream",
     "text": [
      "\n",
      "\n",
      "174it [00:34,  5.32it/s]\u001b[A\u001b[A"
     ]
    },
    {
     "name": "stdout",
     "output_type": "stream",
     "text": [
      "['<s>Add', 'david', 'henry', 'hwang', 'to', 'the', 'This', 'Is', 'Nicky', 'Jam', 'playlist..', 'Which', 'playlist?</s>?:</s>']\n"
     ]
    },
    {
     "name": "stderr",
     "output_type": "stream",
     "text": [
      "\n",
      "\n",
      "175it [00:34,  5.11it/s]\u001b[A\u001b[A\n",
      "\n"
     ]
    },
    {
     "name": "stdout",
     "output_type": "stream",
     "text": [
      "['<s>add', 'this', 'Jane', 'Olivor', 'track', 'to', 'my', 'The', 'Sleep', 'Machine', 'Waterscapes</s>', 'Which', 'playlist?</s>?</s></s>']\n",
      "['<s>I', 'would', 'like', 'this', 'artist', 'on', 'drum', '&', 'breaks..', 'Which', 'playlist?</s>??</s>']\n"
     ]
    },
    {
     "name": "stderr",
     "output_type": "stream",
     "text": [
      "176it [00:34,  5.18it/s]\u001b[A\u001b[A\n",
      "\n",
      "177it [00:34,  4.63it/s]\u001b[A\u001b[A"
     ]
    },
    {
     "name": "stdout",
     "output_type": "stream",
     "text": [
      "['<s>Include', 'dschiwan', 'gasparjan', 'in', \"beth's\", 'icky', 'groove', 'playlist..', 'Which', 'playlist?</s>?</s></s>']\n"
     ]
    },
    {
     "name": "stderr",
     "output_type": "stream",
     "text": [
      "\n",
      "\n",
      "178it [00:34,  4.20it/s]\u001b[A\u001b[A"
     ]
    },
    {
     "name": "stdout",
     "output_type": "stream",
     "text": [
      "[\"<s>I'd\", 'like', 'to', 'add', 'the', 'artist', 'Jesper', 'Kyd', 'onto', 'my', 'new', 'electronic', 'playlist..', 'Which', 'playlist?</s>??</s>']\n"
     ]
    },
    {
     "name": "stderr",
     "output_type": "stream",
     "text": [
      "\n",
      "\n",
      "179it [00:35,  4.11it/s]\u001b[A\u001b[A\n",
      "\n",
      "180it [00:35,  4.61it/s]\u001b[A\u001b[A"
     ]
    },
    {
     "name": "stdout",
     "output_type": "stream",
     "text": [
      "['<s>add', 'Joplin', 'in', 'Concert', 'to', 'my', 'feel', 'good', 'dinner</s>', 'Which', 'playlist?</s>', 'playlist.</s>']\n",
      "['<s>add', 'Harry', 'J', 'to', 'my', 'dubstep', 'dangles', 'list</s>', 'Which', 'playlist?</s>?</s></s>']\n"
     ]
    },
    {
     "name": "stderr",
     "output_type": "stream",
     "text": [
      "\n",
      "\n",
      "181it [00:35,  4.23it/s]\u001b[A\u001b[A\n",
      "\n"
     ]
    },
    {
     "name": "stdout",
     "output_type": "stream",
     "text": [
      "['<s>add', 'Partners', 'in', 'Crime', 'to', \"joann's\", 'playlist', 'Lo', 'Que', 'Suena', 'Los', 'Angeles</s>', 'Which', 'playlist?</s>?.</s>']\n",
      "['<s>add', 'this', 'song', 'onto', 'hip', 'hop', 'gaming', 'playlist</s>', 'Which', 'playlist?</s>?.</s>']\n"
     ]
    },
    {
     "name": "stderr",
     "output_type": "stream",
     "text": [
      "182it [00:35,  4.42it/s]\u001b[A\u001b[A\n",
      "\n",
      "183it [00:36,  4.48it/s]\u001b[A\u001b[A\n",
      "\n"
     ]
    },
    {
     "name": "stdout",
     "output_type": "stream",
     "text": [
      "['<s>Add', 'this', 'artist', 'to', 'my', 'This', 'Is', 'Philip', 'Glass', 'playlist</s>', 'Which', 'playlist?</s>??</s>']\n",
      "['<s>I', 'want', 'to', 'put', 'it', 'to', 'you', 'on', 'the', 'playlist', 'named', '80s', 'Classic', 'Hits</s>', 'Which', 'playlist?</s>??</s>']\n"
     ]
    },
    {
     "name": "stderr",
     "output_type": "stream",
     "text": [
      "184it [00:36,  4.60it/s]\u001b[A\u001b[A\n",
      "\n",
      "185it [00:36,  4.82it/s]\u001b[A\u001b[A\n",
      "\n",
      "186it [00:36,  5.10it/s]\u001b[A\u001b[A"
     ]
    },
    {
     "name": "stdout",
     "output_type": "stream",
     "text": [
      "['<s>add', 'No', 'Secrets', 'to', 'power', 'gaming', 'playlist</s>', 'Which', 'playlist?', 'No', 'secrets.</s>']\n",
      "['<s>Add', 'track', 'to', 'Hit', 'Remix.', 'Which', 'playlist?</s>', 'one.</s>']\n"
     ]
    },
    {
     "name": "stderr",
     "output_type": "stream",
     "text": [
      "\n",
      "\n",
      "187it [00:36,  5.02it/s]\u001b[A\u001b[A"
     ]
    },
    {
     "name": "stdout",
     "output_type": "stream",
     "text": [
      "['<s>add', 'to', 'lohan', 'songs', 'in', 'Club', 'Hits</s>', 'Which', 'playlist?</s>??</s>']\n",
      "['<s>Add', 'this', 'tune', 'to', 'retrowave', 'outrun</s>', 'Which', 'playlist?</s>', 'playlist.</s>']"
     ]
    },
    {
     "name": "stderr",
     "output_type": "stream",
     "text": [
      "\n",
      "\n",
      "188it [00:37,  5.13it/s]\u001b[A\u001b[A"
     ]
    },
    {
     "name": "stdout",
     "output_type": "stream",
     "text": [
      "\n"
     ]
    },
    {
     "name": "stderr",
     "output_type": "stream",
     "text": [
      "\n",
      "\n",
      "189it [00:37,  4.91it/s]\u001b[A\u001b[A"
     ]
    },
    {
     "name": "stdout",
     "output_type": "stream",
     "text": [
      "['<s>Add', 'a', 'track', 'from', 'The', 'Edge', 'to', 'my', 'new', 'funk', 'soul', 'disco', 'playlist</s>', 'Which', 'playlist?</s>', 'Edge.</s>']\n",
      "['<s>I', 'hold', 'tight', 'to', 'my', 'own', 'throwback', 'party</s>', 'Which', 'playlist?</s>', 'playlist?</s>']"
     ]
    },
    {
     "name": "stderr",
     "output_type": "stream",
     "text": [
      "\n",
      "\n",
      "190it [00:37,  4.99it/s]\u001b[A\u001b[A"
     ]
    },
    {
     "name": "stdout",
     "output_type": "stream",
     "text": [
      "\n"
     ]
    },
    {
     "name": "stderr",
     "output_type": "stream",
     "text": [
      "\n",
      "\n",
      "191it [00:37,  4.83it/s]\u001b[A\u001b[A"
     ]
    },
    {
     "name": "stdout",
     "output_type": "stream",
     "text": [
      "['<s>put', 'Do', 'You', 'Love', 'Me', 'on', 'my', 'iced', 'soul', 'playlist</s>', 'Which', 'playlist?</s>?.</s>']\n"
     ]
    },
    {
     "name": "stderr",
     "output_type": "stream",
     "text": [
      "\n",
      "\n",
      "192it [00:37,  4.82it/s]\u001b[A\u001b[A\n",
      "\n",
      "193it [00:38,  5.04it/s]\u001b[A\u001b[A"
     ]
    },
    {
     "name": "stdout",
     "output_type": "stream",
     "text": [
      "['<s>Add', 'the', 'name', 'The', '3rd', 'World', 'to', 'the', 'playlist', 'Rock', 'Me', 'UP</s>', 'Which', 'playlist?</s>??</s>']\n",
      "['<s>Add', 'this', 'tune', 'to', 'my', 'playlist', 'named', 'Women', 'of', 'Fresh', 'Finds</s>', 'Which', 'playlist?</s>', 'playlist.</s>']\n"
     ]
    },
    {
     "name": "stderr",
     "output_type": "stream",
     "text": [
      "\n",
      "\n",
      "194it [00:38,  4.92it/s]\u001b[A\u001b[A\n",
      "\n",
      "195it [00:38,  5.37it/s]\u001b[A\u001b[A"
     ]
    },
    {
     "name": "stdout",
     "output_type": "stream",
     "text": [
      "['<s>add', 'tune', 'to', 'your', 'black', 'metal', 'playlist</s>', 'Which', 'playlist?</s>', 'tuned?</s>']\n",
      "['<s>Add', 'sammy', 'hagar', 'to', 'Ultra', 'Metal</s>', 'Which', 'playlist?</s>', 'playlist.</s>']\n"
     ]
    },
    {
     "name": "stderr",
     "output_type": "stream",
     "text": [
      "\n",
      "\n",
      "196it [00:38,  5.41it/s]\u001b[A\u001b[A\n",
      "\n",
      "197it [00:38,  5.43it/s]\u001b[A\u001b[A"
     ]
    },
    {
     "name": "stdout",
     "output_type": "stream",
     "text": [
      "['<s>Add', '2120', 'south', 'michigan', 'avenue', 'to', 'my', 'icky', 'playlist</s>', 'Which', 'playlist?</s>?.</s>']\n",
      "['<s>Add', 'it', 'to', 'the', 'deep', 'house', 'playlist</s>', 'Which', 'playlist?</s>', 'tuned.</s>']\n"
     ]
    },
    {
     "name": "stderr",
     "output_type": "stream",
     "text": [
      "\n",
      "\n",
      "198it [00:38,  5.38it/s]\u001b[A\u001b[A\n",
      "\n",
      "199it [00:39,  5.52it/s]\u001b[A\u001b[A"
     ]
    },
    {
     "name": "stdout",
     "output_type": "stream",
     "text": [
      "['<s>Add', 'the', 'name', 'Not', 'Fade', 'Away', 'to', 'the', 'playlist', 'the', 'midnight', 'hour</s>', 'Which', 'playlist?</s>', 'playlist?</s>']\n",
      "['<s>add', 'the', 'artist', 'to', 'the', \"90's\", 'Baby', 'Makers', 'playlist</s>', 'Which', 'playlist?</s>??</s>']\n"
     ]
    },
    {
     "name": "stderr",
     "output_type": "stream",
     "text": [
      "\n",
      "\n",
      "200it [00:39,  5.03it/s]\u001b[A\u001b[A"
     ]
    },
    {
     "name": "stdout",
     "output_type": "stream",
     "text": [
      "['<s>Add', 'parempi', 'mies', 'to', 'the', 'CafÃ©', 'con', 'Leche', 'playlist..', 'Which', 'playlist?</s>??</s>']\n",
      "['<s>Place', 'this', 'tune', 'onto', 'my', 'ute', 'for', '2', 'playlist..', 'Which', 'playlist?</s>??</s>']"
     ]
    },
    {
     "name": "stderr",
     "output_type": "stream",
     "text": [
      "\n",
      "\n",
      "201it [00:39,  5.03it/s]\u001b[A\u001b[A"
     ]
    },
    {
     "name": "stdout",
     "output_type": "stream",
     "text": [
      "\n"
     ]
    },
    {
     "name": "stderr",
     "output_type": "stream",
     "text": [
      "\n",
      "\n",
      "202it [00:39,  5.02it/s]\u001b[A\u001b[A"
     ]
    },
    {
     "name": "stdout",
     "output_type": "stream",
     "text": [
      "['<s>Add', 'this', 'to', 'i', 'love', 'my', \"80's\", 'rollerdisco', 'list</s>', 'Which', 'playlist?</s>:.</s>']\n"
     ]
    },
    {
     "name": "stderr",
     "output_type": "stream",
     "text": [
      "\n",
      "\n",
      "203it [00:39,  4.98it/s]\u001b[A\u001b[A"
     ]
    },
    {
     "name": "stdout",
     "output_type": "stream",
     "text": [
      "['<s>add', 'darkest', 'angels', 'to', 'my', 'ute', 'playlist', 'playlist</s>', 'Which', 'playlist?</s>?.</s>']\n"
     ]
    },
    {
     "name": "stderr",
     "output_type": "stream",
     "text": [
      "\n",
      "\n",
      "204it [00:40,  4.83it/s]\u001b[A\u001b[A"
     ]
    },
    {
     "name": "stdout",
     "output_type": "stream",
     "text": [
      "['<s>Please', 'put', 'another', 'tune', 'into', 'the', 'laundry', 'playlist..', 'Which', 'playlist?</s>??</s>']\n"
     ]
    },
    {
     "name": "stderr",
     "output_type": "stream",
     "text": [
      "\n",
      "\n",
      "205it [00:40,  3.86it/s]\u001b[A\u001b[A"
     ]
    },
    {
     "name": "stdout",
     "output_type": "stream",
     "text": [
      "['<s>additional', 'underground', '006', 'sydney', 'to', 'my', 'list', 'Best', 'Metal', 'of', 'the', 'New', 'Millennium</s>', 'Which', 'playlist?</s>??</s>']\n"
     ]
    },
    {
     "name": "stderr",
     "output_type": "stream",
     "text": [
      "\n",
      "\n",
      "206it [00:40,  3.36it/s]\u001b[A\u001b[A"
     ]
    },
    {
     "name": "stdout",
     "output_type": "stream",
     "text": [
      "['<s>Add', 'B', 'Slade', 'to', 'women', 'of', 'k-pop', 'playlist</s>', 'Which', 'playlist?', 'Who', 'playlist.</s>']\n"
     ]
    },
    {
     "name": "stderr",
     "output_type": "stream",
     "text": [
      "\n",
      "\n",
      "207it [00:41,  2.99it/s]\u001b[A\u001b[A"
     ]
    },
    {
     "name": "stdout",
     "output_type": "stream",
     "text": [
      "['<s>Add', 'a', 'bill', 'deasy', 'track', 'to', 'the', 'conexiones', 'playlist..', 'Which', 'playlist?</s>??</s>']\n"
     ]
    },
    {
     "name": "stderr",
     "output_type": "stream",
     "text": [
      "\n",
      "\n",
      "208it [00:41,  3.35it/s]\u001b[A\u001b[A\n",
      "\n",
      "209it [00:41,  3.93it/s]\u001b[A\u001b[A"
     ]
    },
    {
     "name": "stdout",
     "output_type": "stream",
     "text": [
      "['<s>Add', 'J', 'J', 'Cale', 'to', 'my', 'heavy', 'gamer', 'playlist..', 'Which', 'playlist?</s>??</s>']\n",
      "['<s>add', 'album', 'to', 'metal', 'overload', 'playlist</s>', 'Which', 'playlist?</s>', 'album?</s>']\n"
     ]
    },
    {
     "name": "stderr",
     "output_type": "stream",
     "text": [
      "\n",
      "\n",
      "210it [00:41,  4.25it/s]\u001b[A\u001b[A\n",
      "\n",
      "211it [00:42,  4.59it/s]"
     ]
    },
    {
     "name": "stdout",
     "output_type": "stream",
     "text": [
      "['<s>Add', 'the', 'Keep', 'Your', 'Receipt', 'EP', 'to', 'my', 'ickster', 'Reggae', 'playlist..', 'Which', 'playlist?</s>??</s>']\n",
      "['<s>add', 'country', 'nights', 'by', 'A', 'Journal', 'of', 'the', 'New', 'Year', 'to', 'playlist</s>', 'Which', 'playlist?</s>', 'playlist.</s>']\n"
     ]
    },
    {
     "name": "stderr",
     "output_type": "stream",
     "text": [
      "\u001b[A\u001b[A\n",
      "\n",
      "212it [00:42,  4.84it/s]\u001b[A\u001b[A\n",
      "\n",
      "213it [00:42,  5.23it/s]\u001b[A\u001b[A"
     ]
    },
    {
     "name": "stdout",
     "output_type": "stream",
     "text": [
      "['<s>add', 'ian', 'gillan', 'to', 'my', 'Rock', 'Party</s>', 'Which', 'playlist?</s>??</s>']\n",
      "['<s>Add', 'Paul', 'Young', 'to', 'my', 'ilevisor</s>', 'Which', 'playlist?</s>?.</s>']\n"
     ]
    },
    {
     "name": "stderr",
     "output_type": "stream",
     "text": [
      "\n",
      "\n",
      "214it [00:42,  5.21it/s]\u001b[A\u001b[A\n",
      "\n",
      "215it [00:42,  5.51it/s]\u001b[A\u001b[A"
     ]
    },
    {
     "name": "stdout",
     "output_type": "stream",
     "text": [
      "['<s>Add', 'nana', 'tanimura', 'to', 'a', 'sudden', 'rainstorm</s>', 'Which', 'playlist?</s>?.</s>']\n",
      "['<s>add', 'Viktor', 'Tsoi', 'to', 'my', 'iced', 'soul', 'chillout', 'playlist</s>', 'Which', 'playlist?</s>:.</s>']\n"
     ]
    },
    {
     "name": "stderr",
     "output_type": "stream",
     "text": [
      "\n",
      "\n",
      "216it [00:43,  5.09it/s]\u001b[A\u001b[A\n",
      "\n",
      "217it [00:43,  5.44it/s]\u001b[A\u001b[A"
     ]
    },
    {
     "name": "stdout",
     "output_type": "stream",
     "text": [
      "['<s>I', 'want', 'it', 'added', 'to', 'the', 'ntc', 'gym', 'strong', 'playlist</s>', 'Which', 'playlist?</s>', 'playlist?</s>']\n",
      "['<s>add', 'this', 'Ricardo', 'Villalobos', 'track', 'to', 'under', 'the', 'surface</s>', 'Which', 'playlist?</s>?</s></s>']\n"
     ]
    },
    {
     "name": "stderr",
     "output_type": "stream",
     "text": [
      "\n",
      "\n",
      "218it [00:43,  5.32it/s]\u001b[A\u001b[A\n",
      "\n",
      "219it [00:43,  5.43it/s]\u001b[A\u001b[A"
     ]
    },
    {
     "name": "stdout",
     "output_type": "stream",
     "text": [
      "['<s>I', 'want', 'to', 'add', 'a', 'song', 'by', 'w', 'c', 'clark', 'to', 'my', 'nerding', 'around', 'playlist.', 'Which', 'playlist?</s>??</s>']\n",
      "['<s>Add', 'connee', 'boswell', 'to', 'the', 'relaxing', 'playlist..', 'Which', 'playlist?</s>??</s>']\n"
     ]
    },
    {
     "name": "stderr",
     "output_type": "stream",
     "text": [
      "\n",
      "\n",
      "220it [00:43,  5.44it/s]\u001b[A\u001b[A\n",
      "\n",
      "221it [00:43,  5.54it/s]\u001b[A\u001b[A"
     ]
    },
    {
     "name": "stdout",
     "output_type": "stream",
     "text": [
      "['<s>Add', 'Nicole', 'Mitchell', 'to', 'my', 'iTunes', 'Soul', 'Revived', 'list</s>', 'Which', 'playlist?</s>:.</s>']\n",
      "['<s>add', 'artist', 'to', 'lo', 'mejor', 'de', 'los', \"00's</s>\", 'Which', 'playlist?</s>?:</s>']\n"
     ]
    },
    {
     "name": "stderr",
     "output_type": "stream",
     "text": [
      "\n",
      "\n",
      "222it [00:44,  5.30it/s]\u001b[A\u001b[A"
     ]
    },
    {
     "name": "stdout",
     "output_type": "stream",
     "text": [
      "['<s>this', 'track', 'should', 'go', 'on', 'my', 'Saturday', 'evening', 'chill', 'playlist</s>', 'Which', 'playlist?</s>?.</s>']\n"
     ]
    },
    {
     "name": "stderr",
     "output_type": "stream",
     "text": [
      "\n",
      "\n",
      "223it [00:44,  4.55it/s]\u001b[A\u001b[A"
     ]
    },
    {
     "name": "stdout",
     "output_type": "stream",
     "text": [
      "['<s>Add', 'Claudine', 'Longet', 'to', 'my', 'icky', '00s', 'palylist</s>', 'Which', 'playlist?</s>?.</s>']\n"
     ]
    },
    {
     "name": "stderr",
     "output_type": "stream",
     "text": [
      "\n",
      "\n",
      "224it [00:44,  3.76it/s]\u001b[A\u001b[A\n",
      "\n",
      "225it [00:44,  4.15it/s]\u001b[A\u001b[A"
     ]
    },
    {
     "name": "stdout",
     "output_type": "stream",
     "text": [
      "['<s>add', 'a', 'mina', 'caputo', 'album', 'to', 'my', 'after', 'hours', 'party</s>', 'Which', 'playlist?</s>??</s>']\n",
      "['<s>Put', 'frank', 'portman', 'in', 'my', 'playlist', 'GOOD', 'Music.', 'Which', 'playlist?', 'Good', 'Music.</s>']\n"
     ]
    },
    {
     "name": "stderr",
     "output_type": "stream",
     "text": [
      "\n",
      "\n",
      "226it [00:45,  3.63it/s]\u001b[A\u001b[A"
     ]
    },
    {
     "name": "stdout",
     "output_type": "stream",
     "text": [
      "['<s>Put', 'this', 'track', 'from', 'The', 'Edge', 'on', 'my', 'new', 'funk', 'soul', 'disco', 'playlist</s>', 'Which', 'playlist?</s>', 'playlist.</s>']\n"
     ]
    },
    {
     "name": "stderr",
     "output_type": "stream",
     "text": [
      "\n",
      "\n",
      "227it [00:45,  3.25it/s]\u001b[A\u001b[A\n",
      "\n"
     ]
    },
    {
     "name": "stdout",
     "output_type": "stream",
     "text": [
      "['<s>Add', 'a', 'Jang', 'Nara', 'track', 'to', 'the', 'hip', 'hop', 'gaming', 'playlist..', 'Which', 'playlist?</s>??</s>']\n",
      "['<s>add', 'kurious', 'jorge', 'to', 'my', 'synth', 'pop</s>', 'Which', 'playlist?</s>??</s>']\n"
     ]
    },
    {
     "name": "stderr",
     "output_type": "stream",
     "text": [
      "228it [00:45,  3.68it/s]\u001b[A\u001b[A\n",
      "\n",
      "229it [00:46,  4.00it/s]\u001b[A\u001b[A"
     ]
    },
    {
     "name": "stdout",
     "output_type": "stream",
     "text": [
      "['<s>add', 'songs', 'in', \"90's\", 'hip', 'hop', 'of', 'artist</s>', 'Which', 'playlist?</s>', 'playlist?</s>']\n"
     ]
    },
    {
     "name": "stderr",
     "output_type": "stream",
     "text": [
      "\n",
      "\n",
      "230it [00:46,  4.29it/s]\u001b[A\u001b[A"
     ]
    },
    {
     "name": "stdout",
     "output_type": "stream",
     "text": [
      "['<s>Add', 'Step', 'to', 'Me', 'to', 'the', '50', 'ClÃ¡sicos', 'playlist..', 'Which', 'playlist?</s>??</s>']\n"
     ]
    },
    {
     "name": "stderr",
     "output_type": "stream",
     "text": [
      "\n",
      "\n",
      "231it [00:46,  3.62it/s]\u001b[A\u001b[A"
     ]
    },
    {
     "name": "stdout",
     "output_type": "stream",
     "text": [
      "['<s>Add', 'this', 'track', 'to', 'the', 'Sunshine', 'Reggae', 'playlist</s>', 'Which', 'playlist?</s>?.</s>']\n"
     ]
    },
    {
     "name": "stderr",
     "output_type": "stream",
     "text": [
      "\n",
      "\n",
      "232it [00:47,  3.42it/s]\u001b[A\u001b[A"
     ]
    },
    {
     "name": "stdout",
     "output_type": "stream",
     "text": [
      "['<s>put', 'this', 'whole', 'album', 'on', 'the', 'playlist', 'called', 'old', 'school', 'metal</s>', 'Which', 'playlist?', 'Who', 'one.</s>']\n"
     ]
    },
    {
     "name": "stderr",
     "output_type": "stream",
     "text": [
      "\n",
      "\n",
      "233it [00:47,  3.74it/s]\u001b[A\u001b[A"
     ]
    },
    {
     "name": "stdout",
     "output_type": "stream",
     "text": [
      "['<s>Add', 'De', 'Principii', 'Evangelikum', 'to', 'my', 'El', 'Domingo', 'Indie', 'palylist</s>', 'Which', 'playlist?</s>?</s></s>']\n"
     ]
    },
    {
     "name": "stderr",
     "output_type": "stream",
     "text": [
      "\n",
      "\n",
      "234it [00:47,  3.61it/s]\u001b[A\u001b[A"
     ]
    },
    {
     "name": "stdout",
     "output_type": "stream",
     "text": [
      "['<s>Back', 'back', 'at', 'the', 'velvet', 'lounge', 'to', 'my', 'icky', 'playlist</s>', 'Which', 'playlist?</s>', 'playlist.</s>']\n"
     ]
    },
    {
     "name": "stderr",
     "output_type": "stream",
     "text": [
      "\n",
      "\n",
      "235it [00:47,  3.07it/s]\u001b[A\u001b[A"
     ]
    },
    {
     "name": "stdout",
     "output_type": "stream",
     "text": [
      "['<s>The', 'Hemanta', 'Kumar', \"Mukhopadhyay'siced\", 'in', 'Funky', 'Jams</s>', 'Which', 'playlist?</s>', 'playlist:</s>']\n"
     ]
    },
    {
     "name": "stderr",
     "output_type": "stream",
     "text": [
      "\n",
      "\n",
      "236it [00:48,  3.02it/s]\u001b[A\u001b[A\n",
      "\n",
      "237it [00:48,  3.49it/s]"
     ]
    },
    {
     "name": "stdout",
     "output_type": "stream",
     "text": [
      "['<s>add', 'track', 'to', 'kickass', 'metal</s>', 'Which', 'playlist?</s>', 'one.</s>']\n",
      "['<s>Add', 'song', 'to', 'my', 'playlist', 'Pop', 'Brasil</s>', 'Which', 'playlist?</s>??</s>']\n"
     ]
    },
    {
     "name": "stderr",
     "output_type": "stream",
     "text": [
      "\u001b[A\u001b[A\n",
      "\n",
      "238it [00:48,  4.00it/s]\u001b[A\u001b[A\n",
      "\n"
     ]
    },
    {
     "name": "stdout",
     "output_type": "stream",
     "text": [
      "['<s>Please', 'add', 'Ruud', 'Jolie', 'to', 'my', 'playlist', 'Guest', 'List', 'Polygon</s>', 'Which', 'playlist?</s>?</s></s>']\n",
      "['<s>Put', 'this', 'a', 'mong', 'tune', 'onto', 'de', 'cantautor', 'espaÃ±ol..', 'Which', 'playlist?</s>??</s>']\n"
     ]
    },
    {
     "name": "stderr",
     "output_type": "stream",
     "text": [
      "239it [00:48,  4.29it/s]\u001b[A\u001b[A\n",
      "\n",
      "240it [00:49,  4.53it/s]\u001b[A\u001b[A\n",
      "\n",
      "241it [00:49,  4.88it/s]\u001b[A\u001b[A"
     ]
    },
    {
     "name": "stdout",
     "output_type": "stream",
     "text": [
      "['<s>add', 'this', 'tune', 'by', 'Kurt', 'James', 'to', 'the', 'playlist', 'latin', 'pop', 'classics.', 'Which', 'playlist?</s>?.</s>']\n",
      "['<s>Include', 'When', 'I', 'Paint', 'My', 'Masterpiece', 'in', 'my', 'Acoustic', 'Spring', 'playlist..', 'Which', 'playlist?</s>??</s>']\n"
     ]
    },
    {
     "name": "stderr",
     "output_type": "stream",
     "text": [
      "\n",
      "\n",
      "242it [00:49,  4.91it/s]\u001b[A\u001b[A\n",
      "\n",
      "243it [00:49,  5.22it/s]\u001b[A\u001b[A"
     ]
    },
    {
     "name": "stdout",
     "output_type": "stream",
     "text": [
      "['<s>add', 'ths', 'album', 'to', 'my', 'playlist', 'Pachangueo', 'playlist</s>', 'Which', 'playlist?</s>?</s></s>']\n",
      "['<s>addict', 'replenish', 'repeat', 'to', 'Classical', 'Moments', 'in', 'Movies</s>', 'Which', 'playlist?</s>?:</s>']\n"
     ]
    },
    {
     "name": "stderr",
     "output_type": "stream",
     "text": [
      "\n",
      "\n",
      "244it [00:49,  5.35it/s]\u001b[A\u001b[A"
     ]
    },
    {
     "name": "stdout",
     "output_type": "stream",
     "text": [
      "['<s>Add', 'this', 'song', 'to', 'this', 'is', 'no', 'te', 'va', 'gustar', 'playlist</s>', 'Which', 'playlist?</s>??</s>']\n",
      "['<s>addressed', 'Riverside', 'Avenue', 'to', \"Leticia's\", 'icky', 'humor', 'playlist</s>', 'Which', 'playlist?</s>??</s>']"
     ]
    },
    {
     "name": "stderr",
     "output_type": "stream",
     "text": [
      "\n",
      "\n",
      "245it [00:49,  5.25it/s]\u001b[A\u001b[A\n",
      "\n",
      "246it [00:50,  5.35it/s]\u001b[A\u001b[A"
     ]
    },
    {
     "name": "stdout",
     "output_type": "stream",
     "text": [
      "\n",
      "['<s>add', 'tune', 'to', 'Composer', 'Weekly', 'Pauline', 'Oliveros', 'playlist</s>', 'Which', 'playlist?</s>??</s>']\n"
     ]
    },
    {
     "name": "stderr",
     "output_type": "stream",
     "text": [
      "\n",
      "\n",
      "247it [00:50,  5.37it/s]\u001b[A\u001b[A"
     ]
    },
    {
     "name": "stdout",
     "output_type": "stream",
     "text": [
      "['<s>Add', 'Stuck', 'on', 'Nothing', 'to', 'my', 'ime', 'and', 'the', 'City', 'playlist</s>', 'Which', 'playlist?</s>?.</s>']\n",
      "['<s>add', 'armistead', 'burwell', 'smiths', 'to', 'Blues', 'Masters</s>', 'Which', 'playlist?</s>::</s>']"
     ]
    },
    {
     "name": "stderr",
     "output_type": "stream",
     "text": [
      "\n",
      "\n",
      "248it [00:50,  5.24it/s]\u001b[A\u001b[A\n",
      "\n",
      "249it [00:50,  5.47it/s]\u001b[A\u001b[A"
     ]
    },
    {
     "name": "stdout",
     "output_type": "stream",
     "text": [
      "\n",
      "['<s>add', 'an', 'album', 'in', 'my', 'playlist', 'In', 'The', 'Name', 'Of', 'Blues</s>', 'Which', 'playlist?</s>:?</s>']\n"
     ]
    },
    {
     "name": "stderr",
     "output_type": "stream",
     "text": [
      "\n",
      "\n",
      "250it [00:50,  5.55it/s]\u001b[A\u001b[A"
     ]
    },
    {
     "name": "stdout",
     "output_type": "stream",
     "text": [
      "['<s>put', 'United', 'Abominations', 'onto', 'my', 'ickyacular', 'playlist</s>', 'Which', 'playlist?</s>', 'playlist.</s>']\n"
     ]
    },
    {
     "name": "stderr",
     "output_type": "stream",
     "text": [
      "\n",
      "\n",
      "251it [00:51,  5.37it/s]\u001b[A\u001b[A"
     ]
    },
    {
     "name": "stdout",
     "output_type": "stream",
     "text": [
      "['<s>Add', 'LaGaylia', 'Frazier', 'to', 'my', 'iphron</s>', 'Which', 'playlist?</s>?.</s>']\n"
     ]
    },
    {
     "name": "stderr",
     "output_type": "stream",
     "text": [
      "\n",
      "\n",
      "252it [00:51,  5.11it/s]\u001b[A\u001b[A\n",
      "\n",
      "253it [00:51,  5.37it/s]\u001b[A\u001b[A"
     ]
    },
    {
     "name": "stdout",
     "output_type": "stream",
     "text": [
      "['<s>I', 'want', 'to', 'add', 'a', 'song', 'by', 'w', 'c', 'clark', 'to', 'my', 'nerding', 'around', 'playlist.', 'Which', 'playlist?</s>??</s>']\n",
      "['<s>add', 'a', 'shot', 'at', 'trying', 'to', 'calm', 'before', 'the', 'storm</s>', 'Which', 'playlist?</s>', 'playlist?</s>']\n"
     ]
    },
    {
     "name": "stderr",
     "output_type": "stream",
     "text": [
      "\n",
      "\n",
      "254it [00:51,  5.40it/s]\u001b[A\u001b[A\n",
      "\n",
      "255it [00:51,  5.58it/s]\u001b[A\u001b[A"
     ]
    },
    {
     "name": "stdout",
     "output_type": "stream",
     "text": [
      "['<s>add', 'this', 'artist', 'to', 'the', 'playlist', 'called', 'Fusion', 'Fest</s>', 'Which', 'playlist?</s>?:</s>']\n",
      "['<s>add', 'song', 'to', 'my', 'mellow', 'beats', 'list</s>', 'Which', 'playlist?</s>', 'playlist?</s>']\n"
     ]
    },
    {
     "name": "stderr",
     "output_type": "stream",
     "text": [
      "\n",
      "\n",
      "256it [00:51,  5.55it/s]\u001b[A\u001b[A"
     ]
    },
    {
     "name": "stdout",
     "output_type": "stream",
     "text": [
      "['<s>Add', 'Don', 'and', 'Sherri', 'to', 'the', 'electrosafari', 'playlist..', 'Which', 'playlist?</s>??</s>']\n"
     ]
    },
    {
     "name": "stderr",
     "output_type": "stream",
     "text": [
      "\n",
      "\n",
      "257it [00:52,  5.25it/s]\u001b[A\u001b[A\n",
      "\n"
     ]
    },
    {
     "name": "stdout",
     "output_type": "stream",
     "text": [
      "['<s>Can', 'you', 'put', 'a', 'song', 'by', 'jessica', 'mauboy', 'on', 'my', 'playlist', 'entitled', 'a', 'sudden', 'rainstorm.', 'Which', 'playlist?</s>??</s>']\n",
      "['<s>add', 'M-CABI', 'to', 'the', 'playlist', 'named', 'Pre-Party', 'R&B', 'Jams</s>', 'Which', 'playlist?</s>', 'playlist.</s>']\n"
     ]
    },
    {
     "name": "stderr",
     "output_type": "stream",
     "text": [
      "258it [00:52,  5.32it/s]\u001b[A\u001b[A\n",
      "\n",
      "259it [00:52,  5.17it/s]\u001b[A\u001b[A\n",
      "\n",
      "260it [00:52,  5.40it/s]\u001b[A\u001b[A"
     ]
    },
    {
     "name": "stdout",
     "output_type": "stream",
     "text": [
      "['<s>Add', 'a', 'song', 'to', 'in', 'the', 'metal', 'on', 'episode', '6.', 'Which', 'playlist?', 'Who', 'playlist?</s>']\n",
      "['<s>Add', 'The', 'Stars', 'and', 'Stripes', 'Forever', 'to', 'the', 'soulful', 'disco', 'playlist..', 'Which', 'playlist?</s>', 'playlist?</s>']\n"
     ]
    },
    {
     "name": "stderr",
     "output_type": "stream",
     "text": [
      "\n",
      "\n",
      "261it [00:52,  5.27it/s]\u001b[A\u001b[A\n",
      "\n"
     ]
    },
    {
     "name": "stdout",
     "output_type": "stream",
     "text": [
      "['<s>Add', 'beijing', 'huanying', 'ni', 'to', 'my', 'daily', 'workday', 'lounge', 'playlist</s>', 'Which', 'playlist?</s>?.</s>']\n",
      "['<s>I', 'want', 'to', 'add', 'a', 'track', 'to', 'my', 'iced', 'Groove', 'playlist</s>', 'Which', 'playlist?</s>', 'playlist?</s>']\n"
     ]
    },
    {
     "name": "stderr",
     "output_type": "stream",
     "text": [
      "262it [00:53,  5.30it/s]\u001b[A\u001b[A\n",
      "\n",
      "263it [00:53,  5.41it/s]\u001b[A\u001b[A"
     ]
    },
    {
     "name": "stdout",
     "output_type": "stream",
     "text": [
      "['<s>add', 'How', 'to', 'sos', 'a', '2016', 'playlist</s>', 'Which', 'playlist?</s>?.</s>']\n",
      "['<s>Can', 'you', 'put', 'dj', 'kayak', 'onto', 'the', '2010', 'Decade', 'playlist?</s>', 'Which', 'playlist?</s>??</s>']"
     ]
    },
    {
     "name": "stderr",
     "output_type": "stream",
     "text": [
      "\n",
      "\n",
      "264it [00:53,  5.35it/s]\u001b[A\u001b[A"
     ]
    },
    {
     "name": "stdout",
     "output_type": "stream",
     "text": [
      "\n",
      "['<s>Add', 'Fabri', 'Fibra', 'to', 'evening', 'acoustic</s>', 'Which', 'playlist?</s>', 'suggestions.</s>']"
     ]
    },
    {
     "name": "stderr",
     "output_type": "stream",
     "text": [
      "\n",
      "\n",
      "265it [00:53,  5.40it/s]\u001b[A\u001b[A\n",
      "\n",
      "266it [00:53,  5.46it/s]\u001b[A\u001b[A"
     ]
    },
    {
     "name": "stdout",
     "output_type": "stream",
     "text": [
      "\n",
      "['<s>add', 'this', 'tune', 'to', 'Escapada</s>', 'Which', 'playlist?</s>', 'playlist?</s>']\n"
     ]
    },
    {
     "name": "stderr",
     "output_type": "stream",
     "text": [
      "\n",
      "\n",
      "267it [00:54,  5.18it/s]\u001b[A\u001b[A\n",
      "\n",
      "268it [00:54,  5.34it/s]\u001b[A\u001b[A"
     ]
    },
    {
     "name": "stdout",
     "output_type": "stream",
     "text": [
      "['<s>Add', 'the', 'unraveling', 'to', \"marina's\", 'playlist', \"It's\", 'a', 'Southern', 'Thing</s>', 'Which', 'playlist?</s>', 'one.</s>']\n",
      "['<s>put', 'this', 'artist', 'into', 'my', 'found', 'them', 'first', 'playlist', 'please</s>', 'Which', 'playlist?</s>:?</s>']\n"
     ]
    },
    {
     "name": "stderr",
     "output_type": "stream",
     "text": [
      "\n",
      "\n",
      "269it [00:54,  5.24it/s]\u001b[A\u001b[A\n",
      "\n",
      "270it [00:54,  5.52it/s]\u001b[A\u001b[A"
     ]
    },
    {
     "name": "stdout",
     "output_type": "stream",
     "text": [
      "['<s>add', 'Stephen', 'McNally', 'to', 'Confidence', 'Boost.', 'Which', 'playlist?</s>?.</s>']\n",
      "['<s>add', 'Paul', 'Franklin', 'to', 'my', 'playlist', 'The', 'Bachelor', 'Party</s>', 'Which', 'playlist?</s>:.</s>']\n"
     ]
    },
    {
     "name": "stderr",
     "output_type": "stream",
     "text": [
      "\n",
      "\n",
      "271it [00:54,  5.62it/s]\u001b[A\u001b[A\n",
      "\n",
      "272it [00:54,  5.60it/s]\u001b[A\u001b[A"
     ]
    },
    {
     "name": "stdout",
     "output_type": "stream",
     "text": [
      "['<s>Add', 'a', 'track', 'to', 'the', 'Another', 'Glass', 'playlist..', 'Which', 'playlist?</s>??</s>']\n",
      "['<s>Please', 'add', 'a', 'track', 'by', 'david', 'freiberg', 'to', 'my', 'ich', 'playlist..', 'Which', 'playlist?</s>?</s></s>']\n"
     ]
    },
    {
     "name": "stderr",
     "output_type": "stream",
     "text": [
      "\n",
      "\n",
      "273it [00:55,  5.61it/s]\u001b[A\u001b[A\n",
      "\n"
     ]
    },
    {
     "name": "stdout",
     "output_type": "stream",
     "text": [
      "['<s>Add', 'this', 'artist', 'to', 'my', 'daily', 'feel', 'good', 'dinner', 'playlist</s>', 'Which', 'playlist?</s>?.</s>']\n",
      "['<s>add', 'vintage', 'music', 'to', 'my', \"mother's\", 'The', 'Primavera', 'Sound', '2016', 'Barcelona', 'playlist</s>', 'Which', 'playlist?</s>?.</s>']\n"
     ]
    },
    {
     "name": "stderr",
     "output_type": "stream",
     "text": [
      "274it [00:55,  5.45it/s]\u001b[A\u001b[A\n",
      "\n",
      "275it [00:55,  5.42it/s]\u001b[A\u001b[A"
     ]
    },
    {
     "name": "stdout",
     "output_type": "stream",
     "text": [
      "['<s>Add', 'an', 'album', 'by', 'cowboy', 'troy', 'to', 'my', 'ich', 'in', 'the', 'background', 'playlist..', 'Which', 'playlist?</s>??</s>']\n",
      "['<s>Add', 'Hatfield', 'and', 'the', 'North', 'to', 'my', 'new', 'Hot', 'House', 'playlist..', 'Which', 'playlist?</s>??</s>']"
     ]
    },
    {
     "name": "stderr",
     "output_type": "stream",
     "text": [
      "\n",
      "\n",
      "276it [00:55,  5.39it/s]\u001b[A\u001b[A"
     ]
    },
    {
     "name": "stdout",
     "output_type": "stream",
     "text": [
      "\n"
     ]
    },
    {
     "name": "stderr",
     "output_type": "stream",
     "text": [
      "\n",
      "\n",
      "277it [00:55,  5.09it/s]\u001b[A\u001b[A"
     ]
    },
    {
     "name": "stdout",
     "output_type": "stream",
     "text": [
      "['<s>Add', 'tour', 'generaciÃ³n', 'rbd', 'en', 'vivo', 'to', 'the', \"roadrunner's\", 'new', 'releases', 'playlist..', 'Which', 'playlist?</s>??</s>']\n"
     ]
    },
    {
     "name": "stderr",
     "output_type": "stream",
     "text": [
      "\n",
      "\n",
      "278it [00:56,  5.04it/s]\u001b[A\u001b[A"
     ]
    },
    {
     "name": "stdout",
     "output_type": "stream",
     "text": [
      "['<s>I', 'want', 'the', 'top', '50', 'to', 'have', 'marit', 'bergman', 'added', 'to', 'it..', 'Which', 'playlist?</s>??</s>']\n"
     ]
    },
    {
     "name": "stderr",
     "output_type": "stream",
     "text": [
      "\n",
      "\n",
      "279it [00:56,  4.94it/s]\u001b[A\u001b[A\n",
      "\n",
      "280it [00:56,  5.13it/s]\u001b[A\u001b[A"
     ]
    },
    {
     "name": "stdout",
     "output_type": "stream",
     "text": [
      "['<s>Add', 'The', 'Block', 'Brochure', 'Welcome', 'to', 'the', 'Soil', '6', 'onto', 'my', 'ÃÃ©', 'con', 'Leche', 'list</s>', 'Which', 'playlist?</s>??</s>']\n",
      "['<s>add', 'paul', \"wright's\", 'album', 'to', '90s', 'Smash', 'Hits', 'playlist</s>', 'Which', 'playlist?</s>??</s>']\n"
     ]
    },
    {
     "name": "stderr",
     "output_type": "stream",
     "text": [
      "\n",
      "\n",
      "281it [00:56,  5.21it/s]\u001b[A\u001b[A\n",
      "\n",
      "282it [00:56,  5.43it/s]\u001b[A\u001b[A"
     ]
    },
    {
     "name": "stdout",
     "output_type": "stream",
     "text": [
      "['<s>Add', 'an', 'artist', 'to', 'my', 'playlist', 'This', 'Is', 'Verdi</s>', 'Which', 'playlist?</s>??</s>']\n",
      "['<s>Add', 'a', 'tune', 'to', 'the', 'this', 'is', 'a', 'collective', 'playlist..', 'Which', 'playlist?</s>??</s>']\n"
     ]
    },
    {
     "name": "stderr",
     "output_type": "stream",
     "text": [
      "\n",
      "\n",
      "283it [00:57,  5.19it/s]\u001b[A\u001b[A"
     ]
    },
    {
     "name": "stdout",
     "output_type": "stream",
     "text": [
      "['<s>Add', 'this', 'marilyn', 'manson', 'tune', 'to', 'Latin', 'Party', 'Anthems</s>', 'Which', 'playlist?</s>?.</s>']\n"
     ]
    },
    {
     "name": "stderr",
     "output_type": "stream",
     "text": [
      "\n",
      "\n",
      "284it [00:57,  5.19it/s]\u001b[A\u001b[A"
     ]
    },
    {
     "name": "stdout",
     "output_type": "stream",
     "text": [
      "['<s>Add', 'Dickey', 'Betts', 'to', 'my', 'new', 'throwback', 'thursday', 'playlist..', 'Which', 'playlist?</s>??</s>']\n",
      "['<s>add', 'the', 'album', 'by', 'Cham', 'to', 'my', 'iced', 'Rap', 'playlist</s>', 'Which', 'playlist?</s>??</s>']\n"
     ]
    },
    {
     "name": "stderr",
     "output_type": "stream",
     "text": [
      "\n",
      "\n",
      "285it [00:57,  5.26it/s]\u001b[A\u001b[A\n",
      "\n",
      "286it [00:57,  5.04it/s]\u001b[A\u001b[A\n",
      "\n"
     ]
    },
    {
     "name": "stdout",
     "output_type": "stream",
     "text": [
      "['<s>Add', 'Atticus', 'Ross', 'to', 'the', 'electrosafari', 'playlist</s>', 'Which', 'playlist?', 'Who', 'one.</s>']\n",
      "['<s>add', 'this', 'artist', 'to', 'the', 'Top', '50</s>', 'Which', 'playlist?</s>??</s>']\n"
     ]
    },
    {
     "name": "stderr",
     "output_type": "stream",
     "text": [
      "287it [00:57,  5.24it/s]\u001b[A\u001b[A\n",
      "\n",
      "288it [00:58,  5.07it/s]\u001b[A\u001b[A\n",
      "\n",
      "289it [00:58,  5.35it/s]\u001b[A\u001b[A"
     ]
    },
    {
     "name": "stdout",
     "output_type": "stream",
     "text": [
      "['<s>Put', 'Lindsey', 'Cardinale', 'into', 'my', 'vernary', \"clinton's\", \"women's\", 'history', 'month', 'playlist..', 'Which', 'playlist?</s>??</s>']\n",
      "['<s>Add', 'A', 'Gate', 'Through', 'Bloodstained', 'Mirrors', 'to', \"feelin'\", 'good', 'playlist</s>', 'Which', 'playlist?</s>', 'playlist.</s>']\n"
     ]
    },
    {
     "name": "stderr",
     "output_type": "stream",
     "text": [
      "\n",
      "\n",
      "290it [00:58,  5.36it/s]\u001b[A\u001b[A\n",
      "\n"
     ]
    },
    {
     "name": "stdout",
     "output_type": "stream",
     "text": [
      "['<s>Put', 'some', 'frank', 'ferrer', 'into', 'my', 'edna', 'st', 'vincent', 'millay', 'playlist..', 'Which', 'playlist?</s>??</s>']\n",
      "['<s>Add', 'Madman', 'to', 'Trap', 'Land', 'playlist</s>', 'Which', 'playlist?</s>', 'one.</s>']\n"
     ]
    },
    {
     "name": "stderr",
     "output_type": "stream",
     "text": [
      "291it [00:58,  5.46it/s]\u001b[A\u001b[A\n",
      "\n",
      "292it [00:58,  5.51it/s]\u001b[A\u001b[A\n",
      "\n",
      "293it [00:58,  5.62it/s]\u001b[A\u001b[A"
     ]
    },
    {
     "name": "stdout",
     "output_type": "stream",
     "text": [
      "['<s>add', 'chas', 'chandler', 'to', 'my', 'ute', 'Cord', 'Privileges</s>', 'Which', 'playlist?</s>:</s></s>']\n",
      "['<s>put', 'Kan', 'Mikami', 'on', 'Pre-Party', 'R&B', 'Jams</s>', 'Which', 'playlist?</s>', 'playlist.</s>']\n"
     ]
    },
    {
     "name": "stderr",
     "output_type": "stream",
     "text": [
      "\n",
      "\n",
      "294it [00:59,  5.49it/s]\u001b[A\u001b[A\n",
      "\n",
      "295it [00:59,  5.63it/s]\u001b[A\u001b[A"
     ]
    },
    {
     "name": "stdout",
     "output_type": "stream",
     "text": [
      "['<s>I', 'let', 'the', 'season', 'in', 'to', 'my', 'inner', 'lo-fi', 'love</s>', 'Which', 'playlist?</s>', 'playlist.</s>']\n",
      "['<s>Add', 'this', 'track', 'to', 'the', '70s', 'smash', 'hits', 'playlist</s>', 'Which', 'playlist?</s>', 'playlist.</s>']\n"
     ]
    },
    {
     "name": "stderr",
     "output_type": "stream",
     "text": [
      "\n",
      "\n",
      "296it [00:59,  5.59it/s]\u001b[A\u001b[A"
     ]
    },
    {
     "name": "stdout",
     "output_type": "stream",
     "text": [
      "['<s>put', 'any', 'Andrew', 'Hurley', 'album', 'onto', 'timeless', 'love', 'songs</s>', 'Which', 'playlist?</s>', 'playlist?</s>']\n",
      "['<s>Add', 'Be', 'Yourself', 'Tonight', 'to', 'I', 'Love', 'My', '90s', 'Hip', 'Hop</s>', 'Which', 'playlist?</s>', 'tuned.</s>']"
     ]
    },
    {
     "name": "stderr",
     "output_type": "stream",
     "text": [
      "\n",
      "\n",
      "297it [00:59,  5.52it/s]\u001b[A\u001b[A"
     ]
    },
    {
     "name": "stdout",
     "output_type": "stream",
     "text": [
      "\n",
      "['<s>add', 'track', 'to', 'my', 'Las', 'Canciones', 'MÃ¡s', 'Lindas', 'Del', 'Mundo', 'playlist</s>', 'Which', 'playlist?</s>?:</s>']"
     ]
    },
    {
     "name": "stderr",
     "output_type": "stream",
     "text": [
      "\n",
      "\n",
      "298it [00:59,  5.47it/s]\u001b[A\u001b[A\n",
      "\n",
      "299it [00:59,  5.60it/s]\u001b[A\u001b[A"
     ]
    },
    {
     "name": "stdout",
     "output_type": "stream",
     "text": [
      "\n",
      "['<s>add', 'this', 'Roy', 'Orbison', 'song', 'onto', 'Women', 'of', 'Comedy</s>', 'Which', 'playlist?</s>?.</s>']\n"
     ]
    },
    {
     "name": "stderr",
     "output_type": "stream",
     "text": [
      "\n",
      "\n",
      "300it [01:00,  5.73it/s]\u001b[A\u001b[A\n",
      "\n"
     ]
    },
    {
     "name": "stdout",
     "output_type": "stream",
     "text": [
      "['<s>Add', 'artist', 'to', 'playlist.', 'Which', 'playlist?', 'Who', 'choice.</s>']\n",
      "['<s>Add', 'A', 'Bum', 'Note', 'and', 'a', 'Bead', 'of', 'Sweat', 'to', 'my', 'Everyday', 'Stress', 'Relief', 'playlist</s>', 'Which', 'playlist?</s>', 'suggestions.</s>']\n"
     ]
    },
    {
     "name": "stderr",
     "output_type": "stream",
     "text": [
      "301it [01:00,  5.61it/s]\u001b[A\u001b[A\n",
      "\n",
      "302it [01:00,  5.62it/s]\u001b[A\u001b[A\n",
      "\n"
     ]
    },
    {
     "name": "stdout",
     "output_type": "stream",
     "text": [
      "['<s>Add', 'sara', 'hickman', 'to', 'my', 'suggested', 'list</s>', 'Which', 'playlist?</s>?.</s>']\n",
      "['<s>Add', 'Jonathan', 'Arons', 'to', 'my', 'Indie', 'Electronics', 'playlist</s>', 'Which', 'playlist?</s>?.</s>']\n"
     ]
    },
    {
     "name": "stderr",
     "output_type": "stream",
     "text": [
      "303it [01:00,  5.55it/s]\u001b[A\u001b[A\n",
      "\n",
      "304it [01:00,  5.73it/s]\u001b[A\u001b[A\n",
      "\n"
     ]
    },
    {
     "name": "stdout",
     "output_type": "stream",
     "text": [
      "['<s>add', 'track', 'to', 'my', 'ive', 'playlist.', 'Which', 'playlist?</s>?.</s>']\n",
      "['<s>add', 'this', 'song', 'to', 'my', 'playlist', 'under', 'Funky', 'Jams</s>', 'Which', 'playlist?</s>?.</s>']\n"
     ]
    },
    {
     "name": "stderr",
     "output_type": "stream",
     "text": [
      "305it [01:01,  5.58it/s]\u001b[A\u001b[A\n",
      "\n",
      "306it [01:01,  5.56it/s]\u001b[A\u001b[A\n",
      "\n",
      "307it [01:01,  5.82it/s]\u001b[A\u001b[A"
     ]
    },
    {
     "name": "stdout",
     "output_type": "stream",
     "text": [
      "['<s>Add', 'Mary', 'Wells', 'Sings', 'My', 'Guy', 'to', 'the', 'electro', 'house', 'playlist..', 'Which', 'playlist?</s>?:</s>']\n",
      "['<s>add', 'tune', 'to', 'Soft', 'Rock', 'playlist</s>', 'Which', 'playlist?</s>', 'one?</s>']\n"
     ]
    },
    {
     "name": "stderr",
     "output_type": "stream",
     "text": [
      "\n",
      "\n",
      "308it [01:01,  5.57it/s]\u001b[A\u001b[A\n",
      "\n"
     ]
    },
    {
     "name": "stdout",
     "output_type": "stream",
     "text": [
      "['<s>add', 'd-day', 'dodgers', 'to', 'my', 'ile', 'power', 'playlist</s>', 'Which', 'playlist?</s>??</s>']\n",
      "['<s>I', 'want', 'a', 'song', 'by', 'john', 'schlitt', 'in', 'the', 'bajo', 'las', 'estrellas', 'playlist..', 'Which', 'playlist?</s>??</s>']\n"
     ]
    },
    {
     "name": "stderr",
     "output_type": "stream",
     "text": [
      "309it [01:01,  5.59it/s]\u001b[A\u001b[A\n",
      "\n",
      "310it [01:01,  5.59it/s]\u001b[A\u001b[A"
     ]
    },
    {
     "name": "stdout",
     "output_type": "stream",
     "text": [
      "['<s>Add', 'vikku', 'vinayakram', 'to', 'my', 'playlist', 'This', 'Is', 'Nicky', 'Jam</s>', 'Which', 'playlist?</s>??</s>']\n",
      "['<s>add', 'Bossa', 'Nova', 'Soul', 'Samba', 'to', 'my', 'daily', 'jukebox', 'boogie', 'rhythm', '&', 'blues', 'playlist</s>', 'Which', 'playlist?</s>?:</s>']"
     ]
    },
    {
     "name": "stderr",
     "output_type": "stream",
     "text": [
      "\n",
      "\n",
      "311it [01:02,  5.47it/s]\u001b[A\u001b[A\n",
      "\n",
      "312it [01:02,  5.68it/s]\u001b[A\u001b[A"
     ]
    },
    {
     "name": "stdout",
     "output_type": "stream",
     "text": [
      "\n",
      "['<s>Add', 'brad', 'kane', 'to', 'the', 'Pumping', 'Iron', 'soundtrack..', 'Which', 'playlist?</s>??</s>']\n"
     ]
    },
    {
     "name": "stderr",
     "output_type": "stream",
     "text": [
      "\n",
      "\n",
      "313it [01:02,  5.69it/s]\u001b[A\u001b[A\n",
      "\n",
      "314it [01:02,  5.65it/s]"
     ]
    },
    {
     "name": "stdout",
     "output_type": "stream",
     "text": [
      "['<s>Please', 'add', 'this', 'song', 'to', 'indies', 'playlist', 'list</s>', 'Which', 'playlist?</s>::</s>']\n",
      "['<s>Add', 'od', 'mene', 'se', 'odvikavaj', 'to', 'my', 'iki</s>', 'Which', 'playlist?</s>?</s></s>']\n"
     ]
    },
    {
     "name": "stderr",
     "output_type": "stream",
     "text": [
      "\u001b[A\u001b[A\n",
      "\n",
      "315it [01:02,  5.72it/s]\u001b[A\u001b[A\n",
      "\n",
      "316it [01:02,  5.86it/s]\u001b[A\u001b[A"
     ]
    },
    {
     "name": "stdout",
     "output_type": "stream",
     "text": [
      "['<s>add', 'this', 'artist', 'to', 'Dubstep</s>', 'Which', 'playlist?</s>?.</s>']\n",
      "['<s>Add', 'the', 'tune', 'to', 'Your', 'Favorite', 'Slaughterhouse', 'playlist..', 'Which', 'playlist?</s>??</s>']\n"
     ]
    },
    {
     "name": "stderr",
     "output_type": "stream",
     "text": [
      "\n",
      "\n",
      "317it [01:03,  5.85it/s]\u001b[A\u001b[A"
     ]
    },
    {
     "name": "stdout",
     "output_type": "stream",
     "text": [
      "['<s>Add', 'song', 'to', 'Siesta.', 'Which', 'playlist?', 'Who', 'playlist.</s>']\n"
     ]
    },
    {
     "name": "stderr",
     "output_type": "stream",
     "text": [
      "\n",
      "\n",
      "318it [01:03,  5.47it/s]\u001b[A\u001b[A\n",
      "\n"
     ]
    },
    {
     "name": "stdout",
     "output_type": "stream",
     "text": [
      "['<s>Put', 'Lullaby', 'of', 'Birdland', 'onto', 'fusion', 'fest..', 'Which', 'playlist?</s>??</s>']\n",
      "['<s>put', 'Sarah', 'Blasko', 'onto', 'my', 'My', 'The', 'MetalSucks', 'Playlist</s>', 'Which', 'playlist?</s>:.</s>']\n"
     ]
    },
    {
     "name": "stderr",
     "output_type": "stream",
     "text": [
      "319it [01:03,  5.39it/s]\u001b[A\u001b[A\n",
      "\n",
      "320it [01:03,  5.38it/s]\u001b[A\u001b[A\n",
      "\n",
      "321it [01:03,  5.58it/s]\u001b[A\u001b[A"
     ]
    },
    {
     "name": "stdout",
     "output_type": "stream",
     "text": [
      "['<s>I', 'want', 'another', 'track', 'added', 'to', 'the', 'Korean', 'OSTs', 'playlist..', 'Which', 'playlist?</s>??</s>']\n",
      "['<s>Add', 'Cream', 'to', 'the', 'funk', 'playlist..', 'Which', 'playlist?</s>', 'choice?</s>']\n"
     ]
    },
    {
     "name": "stderr",
     "output_type": "stream",
     "text": [
      "\n",
      "\n",
      "322it [01:04,  5.34it/s]\u001b[A\u001b[A\n",
      "\n"
     ]
    },
    {
     "name": "stdout",
     "output_type": "stream",
     "text": [
      "['<s>Add', 'Take', 'Me', 'Back', 'to', 'Dear', 'Old', 'Blighty', 'to', 'my', 'ica', 'playlist</s>', 'Which', 'playlist?</s>?.</s>']\n",
      "['<s>add', 'this', 'tune', 'to', 'the', 'Deep', 'Dark', 'Indie', 'Folk', 'playlist</s>', 'Which', 'playlist?</s>', 'tuned.</s>']\n"
     ]
    },
    {
     "name": "stderr",
     "output_type": "stream",
     "text": [
      "323it [01:04,  5.30it/s]\u001b[A\u001b[A\n",
      "\n",
      "324it [01:04,  5.40it/s]\u001b[A\u001b[A\n",
      "\n"
     ]
    },
    {
     "name": "stdout",
     "output_type": "stream",
     "text": [
      "['<s>add', 'this', 'gisela', 'song', 'to', 'my', 'dancehall', 'playlist</s>', 'Which', 'playlist?</s>??</s>']\n",
      "['<s>Add', 'histoire', 'de', 'la', 'nelson', 'to', 'my', 'favorite', \"90's\", 'Baby', 'Makers', 'playlist</s>', 'Which', 'playlist?</s>?.</s>']\n"
     ]
    },
    {
     "name": "stderr",
     "output_type": "stream",
     "text": [
      "325it [01:04,  5.38it/s]\u001b[A\u001b[A\n",
      "\n",
      "326it [01:04,  5.43it/s]\u001b[A\u001b[A\n",
      "\n",
      "327it [01:05,  5.55it/s]\u001b[A\u001b[A"
     ]
    },
    {
     "name": "stdout",
     "output_type": "stream",
     "text": [
      "['<s>add', 'this', 'tune', 'to', 'my', 'daily', 'road', 'trip', 'playlist</s>', 'Which', 'playlist?</s>?.</s>']\n",
      "['<s>Add', 'tune', 'to', 'infinite', 'indie', 'folk</s>', 'Which', 'playlist?', 'Who', 'choice.</s>']\n"
     ]
    },
    {
     "name": "stderr",
     "output_type": "stream",
     "text": [
      "\n",
      "\n",
      "328it [01:05,  5.66it/s]\u001b[A\u001b[A\n",
      "\n",
      "329it [01:05,  5.68it/s]\u001b[A\u001b[A"
     ]
    },
    {
     "name": "stdout",
     "output_type": "stream",
     "text": [
      "['<s>add', 'album', 'to', 'Ultra', 'Metal.', 'Which', 'playlist?</s>', 'one?</s>']\n",
      "[\"<s>I'd\", 'like', 'to', 'add', 'this', 'album', 'to', 'funtime..', 'Which', 'playlist?</s>??</s>']\n"
     ]
    },
    {
     "name": "stderr",
     "output_type": "stream",
     "text": [
      "\n",
      "\n",
      "330it [01:05,  5.64it/s]\u001b[A\u001b[A"
     ]
    },
    {
     "name": "stdout",
     "output_type": "stream",
     "text": [
      "['<s>add', 'tune', 'to', 'punk', 'espaÃ±ol</s>', 'Which', 'playlist?</s>??</s>']\n"
     ]
    },
    {
     "name": "stderr",
     "output_type": "stream",
     "text": [
      "\n",
      "\n",
      "331it [01:05,  5.37it/s]\u001b[A\u001b[A\n",
      "\n",
      "332it [01:05,  5.42it/s]\u001b[A\u001b[A"
     ]
    },
    {
     "name": "stdout",
     "output_type": "stream",
     "text": [
      "['<s>I', 'want', 'to', 'add', 'In', 'the', 'Mood', 'to', 'my', 'playlist', 'called', 'My', 'Folksy', 'Love</s>', 'Which', 'playlist?</s>', 'me?</s>']\n",
      "['<s>Put', 'this', 'Jerry', 'Dixon', 'song', 'onto', 'my', 'Tokyo', 'Rising', 'playlist..', 'Which', 'playlist?</s>??</s>']\n"
     ]
    },
    {
     "name": "stderr",
     "output_type": "stream",
     "text": [
      "\n",
      "\n",
      "333it [01:06,  5.46it/s]\u001b[A\u001b[A"
     ]
    },
    {
     "name": "stdout",
     "output_type": "stream",
     "text": [
      "['<s>add', 'the', 'skunk', 'to', 'Duetos</s>', 'Which', 'playlist?', 'Who', 'playlist?</s>']\n",
      "['<s>Add', 'jennie,', 'jennie', 'to', 'my', 'death', 'metal', 'playlist.', 'Which', 'playlist?</s>?.</s>']"
     ]
    },
    {
     "name": "stderr",
     "output_type": "stream",
     "text": [
      "\n",
      "\n",
      "334it [01:06,  5.32it/s]\u001b[A\u001b[A"
     ]
    },
    {
     "name": "stdout",
     "output_type": "stream",
     "text": [
      "\n"
     ]
    },
    {
     "name": "stderr",
     "output_type": "stream",
     "text": [
      "\n",
      "\n",
      "335it [01:06,  4.88it/s]\u001b[A\u001b[A\n",
      "\n"
     ]
    },
    {
     "name": "stdout",
     "output_type": "stream",
     "text": [
      "['<s>add', 'DÃ\\xadas', 'Felices', 'to', 'my', 'ádo', 'reggaeton', 'playlist</s>', 'Which', 'playlist?</s>?</s></s>']\n",
      "['<s>Add', 'Candlelight', 'to', 'my', 'Happy', 'House', 'Afterwork', 'playlist..', 'Which', 'playlist?</s>??</s>']\n"
     ]
    },
    {
     "name": "stderr",
     "output_type": "stream",
     "text": [
      "336it [01:06,  5.02it/s]\u001b[A\u001b[A\n",
      "\n",
      "337it [01:06,  5.04it/s]\u001b[A\u001b[A"
     ]
    },
    {
     "name": "stdout",
     "output_type": "stream",
     "text": [
      "['<s>Add', 'Us', 'Placers', 'to', 'my', 'brand', 'new', 'playlist</s>', 'Which', 'playlist?</s>', 'playlist.</s>']\n",
      "['<s>add', 'this', 'track', 'by', 'clem', 'burke', 'to', 'my', 'iced', 'black', 'metal', 'playlist.', 'Which', 'playlist?</s>:.</s>']"
     ]
    },
    {
     "name": "stderr",
     "output_type": "stream",
     "text": [
      "\n",
      "\n",
      "338it [01:07,  5.03it/s]\u001b[A\u001b[A"
     ]
    },
    {
     "name": "stdout",
     "output_type": "stream",
     "text": [
      "\n"
     ]
    },
    {
     "name": "stderr",
     "output_type": "stream",
     "text": [
      "\n",
      "\n",
      "339it [01:07,  4.91it/s]\u001b[A\u001b[A"
     ]
    },
    {
     "name": "stdout",
     "output_type": "stream",
     "text": [
      "['<s>add', 'Mayya', 'to', 'the', 'de', 'manhattan', 'con', 'amor', 'playlist</s>', 'Which', 'playlist?</s>?.</s>']\n"
     ]
    },
    {
     "name": "stderr",
     "output_type": "stream",
     "text": [
      "\n",
      "\n",
      "340it [01:07,  4.69it/s]\u001b[A\u001b[A\n",
      "\n"
     ]
    },
    {
     "name": "stdout",
     "output_type": "stream",
     "text": [
      "['<s>Add', 'the', 'Nastya', 'Kamenskih', 'song', 'to', 'my', 'The', 'Martin', 'Garrix', 'Show', 'playlist..', 'Which', 'playlist?</s>??</s>']\n",
      "['<s>Add', 'artist', 'to', 'playlist', 'Epic', 'Gaming.', 'Which', 'playlist?</s>', 'Spotify.</s>']\n"
     ]
    },
    {
     "name": "stderr",
     "output_type": "stream",
     "text": [
      "341it [01:07,  4.92it/s]\u001b[A\u001b[A\n",
      "\n",
      "342it [01:07,  4.94it/s]\u001b[A\u001b[A\n",
      "\n",
      "343it [01:08,  5.23it/s]\u001b[A\u001b[A"
     ]
    },
    {
     "name": "stdout",
     "output_type": "stream",
     "text": [
      "['<s>Add', 'robin', 's', 'to', 'sxsw', 'latin</s>', 'Which', 'playlist?</s>??</s>']\n",
      "['<s>Put', 'this', 'tune', 'onto', 'the', 'signed', 'xoxo', 'playlist..', 'Which', 'playlist?</s>??</s>']\n"
     ]
    },
    {
     "name": "stderr",
     "output_type": "stream",
     "text": [
      "\n",
      "\n",
      "344it [01:08,  5.30it/s]\u001b[A\u001b[A\n",
      "\n"
     ]
    },
    {
     "name": "stdout",
     "output_type": "stream",
     "text": [
      "['<s>add', 'olympia', '1959', 'to', 'from', 'the', 'delta', 'to', 'chicago</s>', 'Which', 'playlist?</s>', 'playlist:</s>']\n",
      "['<s>The', 'enamorÃ¡ndose', 'playlist', 'needs', 'another', 'album..', 'Which', 'playlist?</s>??</s>']\n"
     ]
    },
    {
     "name": "stderr",
     "output_type": "stream",
     "text": [
      "345it [01:08,  5.36it/s]\u001b[A\u001b[A\n",
      "\n",
      "346it [01:08,  5.42it/s]\u001b[A\u001b[A"
     ]
    },
    {
     "name": "stdout",
     "output_type": "stream",
     "text": [
      "['<s>add', 'song', 'to', 'Rocksteady', 'playlist</s>', 'Which', 'playlist?</s>??</s>']\n",
      "['<s>add', 'Funtwo', 'to', 'disco', \"fever's\", 'track</s>', 'Which', 'playlist?</s>', 'playlist?</s>']"
     ]
    },
    {
     "name": "stderr",
     "output_type": "stream",
     "text": [
      "\n",
      "\n",
      "347it [01:08,  5.44it/s]\u001b[A\u001b[A"
     ]
    },
    {
     "name": "stdout",
     "output_type": "stream",
     "text": [
      "\n"
     ]
    },
    {
     "name": "stderr",
     "output_type": "stream",
     "text": [
      "\n",
      "\n",
      "348it [01:09,  5.25it/s]\u001b[A\u001b[A\n",
      "\n",
      "349it [01:09,  5.36it/s]\u001b[A\u001b[A"
     ]
    },
    {
     "name": "stdout",
     "output_type": "stream",
     "text": [
      "[\"<s>I'd\", 'like', 'to', 'add', 'this', 'album', 'to', 'my', 'Morning', 'Siesta', 'playlist</s>', 'Which', 'playlist?</s>??</s>']\n",
      "['<s>Add', 'Kevin', 'Cadogan', 'to', 'the', '80s', 'Classic', 'Hits', 'list</s>', 'Which', 'playlist?</s>', 'playlist.</s>']\n"
     ]
    },
    {
     "name": "stderr",
     "output_type": "stream",
     "text": [
      "\n",
      "\n",
      "350it [01:09,  5.45it/s]\u001b[A\u001b[A"
     ]
    },
    {
     "name": "stdout",
     "output_type": "stream",
     "text": [
      "['<s>add', 'the', 'artist', 'to', 'my', 'xting', 'playlist</s>', 'Which', 'playlist?</s>??</s>']\n",
      "['<s>Add', 'this', 'Alan', 'Wilson', 'track', 'to', 'my', 'This', 'Is', 'Luis', 'Fonsi', 'playlist</s>', 'Which', 'playlist?</s>?.</s>']"
     ]
    },
    {
     "name": "stderr",
     "output_type": "stream",
     "text": [
      "\n",
      "\n",
      "351it [01:09,  5.29it/s]\u001b[A\u001b[A\n",
      "\n"
     ]
    },
    {
     "name": "stdout",
     "output_type": "stream",
     "text": [
      "\n",
      "['<s>For', 'my', 'playlist', 'Wild', 'Country', 'is', 'a', 'great', 'day', 'for', 'freedom</s>', 'Which', 'playlist?</s>??</s>']\n"
     ]
    },
    {
     "name": "stderr",
     "output_type": "stream",
     "text": [
      "352it [01:09,  5.22it/s]\u001b[A\u001b[A\n",
      "\n",
      "353it [01:10,  5.24it/s]\u001b[A\u001b[A\n",
      "\n",
      "354it [01:10,  5.37it/s]"
     ]
    },
    {
     "name": "stdout",
     "output_type": "stream",
     "text": [
      "['<s>Add', 'ricky', 'nelson', 'to', 'my', 'vern', 'X', 'playlists</s>', 'Which', 'playlist?</s>?:</s>']\n",
      "['<s>add', 'track', 'to', 'my', 'playlist', 'a', 'sudden', 'rainstorm</s>', 'Which', 'playlist?</s>', 'playlist.</s>']\n"
     ]
    },
    {
     "name": "stderr",
     "output_type": "stream",
     "text": [
      "\u001b[A\u001b[A\n",
      "\n",
      "355it [01:10,  5.33it/s]\u001b[A\u001b[A\n",
      "\n",
      "356it [01:10,  5.47it/s]\u001b[A\u001b[A"
     ]
    },
    {
     "name": "stdout",
     "output_type": "stream",
     "text": [
      "['<s>add', 'ronnie', 'james', 'dio', 'tune', 'to', 'Women', 'of', 'Electronic', 'selection.', 'Which', 'playlist?</s>?</s></s>']\n",
      "['<s>Add', 'to', \"isabella's\", 'iTunes', 'Club', 'Hits', 'this', 'song</s>', 'Which', 'playlist?</s>', 'playlist?</s>']\n"
     ]
    },
    {
     "name": "stderr",
     "output_type": "stream",
     "text": [
      "\n",
      "\n",
      "357it [01:10,  5.48it/s]\u001b[A\u001b[A\n",
      "\n"
     ]
    },
    {
     "name": "stdout",
     "output_type": "stream",
     "text": [
      "['<s>include', 'patreon', 'on', 'Guest', 'List', 'Engadget</s>', 'Which', 'playlist?</s>?:</s>']\n",
      "['<s>Put', 'a', 'track', 'by', 'Ricky', 'Martin', 'into', 'my', '70s', 'smash', 'hits', 'playlist..', 'Which', 'playlist?</s>??</s>']\n"
     ]
    },
    {
     "name": "stderr",
     "output_type": "stream",
     "text": [
      "358it [01:10,  5.53it/s]\u001b[A\u001b[A\n",
      "\n",
      "359it [01:11,  5.50it/s]\u001b[A\u001b[A\n",
      "\n"
     ]
    },
    {
     "name": "stdout",
     "output_type": "stream",
     "text": [
      "['<s>Add', 'this', 'track', 'to', 'my', 'This', 'Is', 'Thomas', 'Rhett', 'playlist</s>', 'Which', 'playlist?</s>?.</s>']\n",
      "['<s>Add', 'I', 'Hate', 'Myself', 'and', 'I', 'Want', 'to', 'Die', 'to', 'my', 'ickyacular', 'peacefulness</s>', 'Which', 'playlist?</s>?.</s>']\n"
     ]
    },
    {
     "name": "stderr",
     "output_type": "stream",
     "text": [
      "360it [01:11,  5.56it/s]\u001b[A\u001b[A\n",
      "\n",
      "361it [01:11,  5.62it/s]\u001b[A\u001b[A\n",
      "\n"
     ]
    },
    {
     "name": "stdout",
     "output_type": "stream",
     "text": [
      "['<s>Add', 'Yuna', 'Ito', 'to', 'my', 'iz', 'Elegante', 'playlist</s>', 'Which', 'playlist?</s>', 'favorite.</s>']\n",
      "['<s>Please', 'add', 'Jules', 'Anthony', 'to', 'my', 'playlist', 'This', 'Is', 'Mozart</s>', 'Which', 'playlist?</s>?.</s>']\n"
     ]
    },
    {
     "name": "stderr",
     "output_type": "stream",
     "text": [
      "362it [01:11,  5.55it/s]\u001b[A\u001b[A\n",
      "\n",
      "363it [01:11,  5.44it/s]\u001b[A\u001b[A"
     ]
    },
    {
     "name": "stdout",
     "output_type": "stream",
     "text": [
      "['<s>put', 'jtr', 'on', 'the', 'Top', 'Classical', 'playlist</s>', 'Which', 'playlist?</s>', 'it?</s>']\n",
      "['<s>The', 'Get', 'Going', 'playlist', 'needs', 'another', 'song..', 'Which', 'playlist?</s>??</s>']"
     ]
    },
    {
     "name": "stderr",
     "output_type": "stream",
     "text": [
      "\n",
      "\n",
      "364it [01:12,  5.45it/s]\u001b[A\u001b[A"
     ]
    },
    {
     "name": "stdout",
     "output_type": "stream",
     "text": [
      "\n"
     ]
    },
    {
     "name": "stderr",
     "output_type": "stream",
     "text": [
      "\n",
      "\n",
      "365it [01:12,  4.35it/s]\u001b[A\u001b[A\n",
      "\n",
      "366it [01:12,  4.72it/s]\u001b[A\u001b[A"
     ]
    },
    {
     "name": "stdout",
     "output_type": "stream",
     "text": [
      "['<s>add', 'ia', 'the', 'tale', 'to', 'my', 'playlist', 'called', 'Adrenaline', 'Workout</s>', 'Which', 'playlist?</s>?.</s>']\n",
      "['<s>Put', 'Molly', 'and', 'Tenbrooks', 'in', 'the', 'French', \"N'\", 'Heavy', 'playlist..', 'Which', 'playlist?</s>', 'guess.</s>']\n"
     ]
    },
    {
     "name": "stderr",
     "output_type": "stream",
     "text": [
      "\n",
      "\n",
      "367it [01:12,  4.99it/s]\u001b[A\u001b[A\n",
      "\n",
      "368it [01:12,  5.19it/s]"
     ]
    },
    {
     "name": "stdout",
     "output_type": "stream",
     "text": [
      "['<s>Add', 'an', 'album', 'by', 'twink', 'to', 'my', 'iTunes', 'Classic', 'Country', 'playlist</s>', 'Which', 'playlist?</s>??</s>']\n",
      "['<s>Add', 'The', 'Blurred', 'Crusade', 'to', 'keep', 'diggers', 'anonymous</s>', 'Which', 'playlist?</s>?.</s>']\n"
     ]
    },
    {
     "name": "stderr",
     "output_type": "stream",
     "text": [
      "\u001b[A\u001b[A\n",
      "\n",
      "369it [01:13,  5.30it/s]\u001b[A\u001b[A\n",
      "\n",
      "370it [01:13,  5.51it/s]\u001b[A\u001b[A"
     ]
    },
    {
     "name": "stdout",
     "output_type": "stream",
     "text": [
      "['<s>add', 'robyn', 'hitchcock', 'to', 'my', 'romantic', 'evening', 'playlist</s>', 'Which', 'playlist?</s>??</s>']\n",
      "['<s>Add', 'the', 'Beatles', 'tune', 'Yesterday', 'to', 'my', 'playlist,', 'The', 'Southern', 'Highway', 'Chronicles</s>', 'Which', 'playlist?', 'My', 'choice.</s>']\n"
     ]
    },
    {
     "name": "stderr",
     "output_type": "stream",
     "text": [
      "\n",
      "\n",
      "371it [01:13,  5.39it/s]\u001b[A\u001b[A\n",
      "\n",
      "372it [01:13,  5.50it/s]\u001b[A\u001b[A"
     ]
    },
    {
     "name": "stdout",
     "output_type": "stream",
     "text": [
      "['<s>add', 'enduser', 'song', 'in', 'grime', 'instrumentals</s>', 'Which', 'playlist?</s>??</s>']\n",
      "['<s>add', 'Koichi', 'Sugiyama', 'to', 'WHM.', 'Which', 'playlist?</s>', 'tuned.</s>']\n"
     ]
    },
    {
     "name": "stderr",
     "output_type": "stream",
     "text": [
      "\n",
      "\n",
      "373it [01:13,  5.53it/s]\u001b[A\u001b[A"
     ]
    },
    {
     "name": "stdout",
     "output_type": "stream",
     "text": [
      "['<s>put', 'Sungmin', 'into', 'my', 'summer', 'playlist</s>', 'Which', 'playlist?</s>', 'playlist?</s>']\n"
     ]
    },
    {
     "name": "stderr",
     "output_type": "stream",
     "text": [
      "\n",
      "\n",
      "374it [01:13,  5.27it/s]\u001b[A\u001b[A"
     ]
    },
    {
     "name": "stdout",
     "output_type": "stream",
     "text": [
      "['<s>add', 'little', 'musk', 'and', 'the', 'lady', 'barnard', 'to', \"ora's\", 'The', 'Punk', 'Rock', 'Workout', 'playlist</s>', 'Which', 'playlist?</s>::</s>']\n",
      "[\"<s>I'd\", 'like', 'to', 'add', 'this', 'tune', 'to', 'my', 'ipsify', 'orchestra', 'cello', 'playlist</s>', 'Which', 'playlist?</s>', 'tuned.</s>']"
     ]
    },
    {
     "name": "stderr",
     "output_type": "stream",
     "text": [
      "\n",
      "\n",
      "375it [01:14,  5.29it/s]\u001b[A\u001b[A\n",
      "\n",
      "376it [01:14,  5.43it/s]\u001b[A\u001b[A"
     ]
    },
    {
     "name": "stdout",
     "output_type": "stream",
     "text": [
      "\n",
      "['<s>add', 'this', 'Michael', 'V', 'track', 'to', 'my', 'Folk', '&', 'Americana</s>', 'Which', 'playlist?</s>?</s></s>']\n"
     ]
    },
    {
     "name": "stderr",
     "output_type": "stream",
     "text": [
      "\n",
      "\n",
      "377it [01:14,  5.29it/s]\u001b[A\u001b[A"
     ]
    },
    {
     "name": "stdout",
     "output_type": "stream",
     "text": [
      "['<s>Add', 'riddim', 'driven', 'by', '54', '&', 'add', \"Bertha's\", 'All', 'Things', 'Post</s>', 'Which', 'playlist?</s>?.</s>']\n",
      "['<s>add', 'Nana', 'Kitade', 'to', 'my', 'modern', 'psychedelia', 'playlist</s>', 'Which', 'playlist?</s>:.</s>']"
     ]
    },
    {
     "name": "stderr",
     "output_type": "stream",
     "text": [
      "\n",
      "\n",
      "378it [01:14,  5.33it/s]\u001b[A\u001b[A\n",
      "\n",
      "379it [01:14,  5.43it/s]\u001b[A\u001b[A"
     ]
    },
    {
     "name": "stdout",
     "output_type": "stream",
     "text": [
      "\n",
      "['<s>Add', 'the', 'artist', 'to', 'the', 'Latin', 'Jazz', 'playlist..', 'Which', 'playlist?</s>??</s>']\n"
     ]
    },
    {
     "name": "stderr",
     "output_type": "stream",
     "text": [
      "\n",
      "\n",
      "380it [01:15,  5.44it/s]\u001b[A\u001b[A\n",
      "\n"
     ]
    },
    {
     "name": "stdout",
     "output_type": "stream",
     "text": [
      "['<s>Put', 'ares', 'in', 'my', 'canadian', 'country', 'playlist</s>', 'Which', 'playlist?</s>', 'playlist?</s>']\n",
      "['<s>Add', 'another', 'tune', 'to', 'my', 'favorite', 'songs', 'for', 'you,', 'not', 'your', 'parents', 'playlist..', 'Which', 'playlist?</s>??</s>']\n"
     ]
    },
    {
     "name": "stderr",
     "output_type": "stream",
     "text": [
      "381it [01:15,  5.35it/s]\u001b[A\u001b[A\n",
      "\n",
      "382it [01:15,  5.59it/s]\u001b[A\u001b[A\n",
      "\n",
      "383it [01:15,  5.82it/s]\u001b[A\u001b[A"
     ]
    },
    {
     "name": "stdout",
     "output_type": "stream",
     "text": [
      "['<s>Add', 'Atticus', 'Ross', 'to', 'the', 'playlist', 'electrosafari</s>', 'Which', 'playlist?</s>?.</s>']\n",
      "['<s>add', 'tune', 'to', 'my', 'Hype', 'playlist</s>', 'Which', 'playlist?</s>??</s>']\n"
     ]
    },
    {
     "name": "stderr",
     "output_type": "stream",
     "text": [
      "\n",
      "\n",
      "384it [01:15,  5.56it/s]\u001b[A\u001b[A\n",
      "\n",
      "385it [01:15,  5.55it/s]"
     ]
    },
    {
     "name": "stdout",
     "output_type": "stream",
     "text": [
      "['<s>add', 'NIB', 'to', \"fay's\", 'brooklyn', 'beat', 'playlist</s>', 'Which', 'playlist?</s>??</s>']\n",
      "['<s>Add', 'a', 'tune', 'to', \"patrica's\", 'playlist,', 'The', 'Rhythm.', 'Which', 'playlist?', 'The', 'song.</s>']\n"
     ]
    },
    {
     "name": "stderr",
     "output_type": "stream",
     "text": [
      "\u001b[A\u001b[A\n",
      "\n",
      "386it [01:16,  5.42it/s]\u001b[A\u001b[A\n",
      "\n"
     ]
    },
    {
     "name": "stdout",
     "output_type": "stream",
     "text": [
      "['<s>insert', 'Rock', 'Me', 'UP', 'song', 'to', 'my', 'list</s>', 'Which', 'playlist?</s>', 'playlist?</s>']\n",
      "['<s>Add', 'some', 'martine', 'mccutcheon', 'to', 'my', 'icky', 'columbia', 'jazzmasters', 'list.', 'Which', 'playlist?</s>?.</s>']\n"
     ]
    },
    {
     "name": "stderr",
     "output_type": "stream",
     "text": [
      "387it [01:16,  5.41it/s]\u001b[A\u001b[A\n",
      "\n",
      "388it [01:16,  5.39it/s]\u001b[A\u001b[A"
     ]
    },
    {
     "name": "stdout",
     "output_type": "stream",
     "text": [
      "['<s>Add', 'autry', 'inman', 'to', 'my', 'Hanging', 'Out', 'and', 'Relaxing', 'playlist..', 'Which', 'playlist?</s>??</s>']\n",
      "['<s>Add', 'the', 'name', 'the', 'Song', 'about', 'the', 'Towel', 'to', 'playlist', 'playing', 'in', 'the', 'background.', 'Which', 'playlist?</s>?.</s>']\n"
     ]
    },
    {
     "name": "stderr",
     "output_type": "stream",
     "text": [
      "\n",
      "\n",
      "389it [01:16,  5.31it/s]\u001b[A\u001b[A\n",
      "\n",
      "390it [01:16,  5.71it/s]\u001b[A\u001b[A"
     ]
    },
    {
     "name": "stdout",
     "output_type": "stream",
     "text": [
      "['<s>add', 'rock', '&', 'roll', 'to', 'my', 'playlist', 'every', 'night', 'out</s>', 'Which', 'playlist?</s>', 'playlist.</s>']\n"
     ]
    },
    {
     "name": "stderr",
     "output_type": "stream",
     "text": [
      "\n",
      "\n",
      "391it [01:17,  5.21it/s]\u001b[A\u001b[A"
     ]
    },
    {
     "name": "stdout",
     "output_type": "stream",
     "text": [
      "['<s>Add', 'tara', 'blaise', 'to', 'my', 'iced', 'gaming', 'playlist</s>', 'Which', 'playlist?</s>?.</s>']\n",
      "['<s>put', 'this', 'song', 'on', 'the', 'Chips', 'and', 'Salsa', 'playlist</s>', 'Which', 'playlist?</s>', 'playlist.</s>']"
     ]
    },
    {
     "name": "stderr",
     "output_type": "stream",
     "text": [
      "\n",
      "\n",
      "392it [01:17,  5.28it/s]\u001b[A\u001b[A"
     ]
    },
    {
     "name": "stdout",
     "output_type": "stream",
     "text": [
      "\n",
      "['<s>add', 'to', 'my', 'mac', \"'n\", 'cheese', 'playlist', 'with', 'TsÅ«zetsu</s>', 'Which', 'playlist?</s>?</s></s>']"
     ]
    },
    {
     "name": "stderr",
     "output_type": "stream",
     "text": [
      "\n",
      "\n",
      "393it [01:17,  5.29it/s]\u001b[A\u001b[A"
     ]
    },
    {
     "name": "stdout",
     "output_type": "stream",
     "text": [
      "\n",
      "['<s>add', 'country', 'favorites', 'willie', 'nelson', 'style', 'to', 'my', 'playlist', 'titled', \"Spinnin'\", 'Records', 'Top', '100</s>', 'Which', 'playlist?</s>::</s>']"
     ]
    },
    {
     "name": "stderr",
     "output_type": "stream",
     "text": [
      "\n",
      "\n",
      "394it [01:17,  5.24it/s]\u001b[A\u001b[A\n",
      "\n"
     ]
    },
    {
     "name": "stdout",
     "output_type": "stream",
     "text": [
      "\n",
      "['<s>I', 'want', 'him', 'to', 'be', 'added', 'to', 'my', 'daily', 'latin', 'dance', 'cardio', 'playlist</s>', 'Which', 'playlist?</s>??</s>']\n"
     ]
    },
    {
     "name": "stderr",
     "output_type": "stream",
     "text": [
      "395it [01:17,  5.27it/s]\u001b[A\u001b[A\n",
      "\n",
      "396it [01:18,  5.00it/s]\u001b[A\u001b[A\n",
      "\n",
      "397it [01:18,  5.22it/s]\u001b[A\u001b[A"
     ]
    },
    {
     "name": "stdout",
     "output_type": "stream",
     "text": [
      "['<s>I', 'would', 'like', 'to', 'add', 'something', 'by', 'Kuk', 'Harrell', 'to', 'my', 'new', 'Hip', 'Hop', '2017', 'New', 'School', 'playlist</s>', 'Which', 'playlist?</s>::</s>']\n",
      "['<s>shawn', 'lane', 'should', 'be', 'moved', 'to', 'my', 'ices', 'con', 'Amigos', 'playlist</s>', 'Which', 'playlist?</s>::</s>']\n"
     ]
    },
    {
     "name": "stderr",
     "output_type": "stream",
     "text": [
      "\n",
      "\n",
      "398it [01:18,  5.29it/s]\u001b[A\u001b[A"
     ]
    },
    {
     "name": "stdout",
     "output_type": "stream",
     "text": [
      "['<s>add', 'dave', 'carpenter', 'to', 'my', 'Acoustic', 'Blues', 'playlist</s>', 'Which', 'playlist?</s>?</s></s>']\n"
     ]
    },
    {
     "name": "stderr",
     "output_type": "stream",
     "text": [
      "\n",
      "\n",
      "399it [01:18,  5.03it/s]\u001b[A\u001b[A"
     ]
    },
    {
     "name": "stdout",
     "output_type": "stream",
     "text": [
      "['<s>add', 'this', 'track', 'to', 'the', 'playlist', 'named', 'cali', 'fire</s>', 'Which', 'playlist?</s>?.</s>']\n",
      "['<s>Put', 'the', 'artist', 'of', 'Pat', 'Monahan', 'onto', 'the', 'emily', 'dickinson', 'playlist..', 'Which', 'playlist?</s>??</s>']"
     ]
    },
    {
     "name": "stderr",
     "output_type": "stream",
     "text": [
      "\n",
      "\n",
      "400it [01:18,  5.05it/s]\u001b[A\u001b[A"
     ]
    },
    {
     "name": "stdout",
     "output_type": "stream",
     "text": [
      "\n"
     ]
    },
    {
     "name": "stderr",
     "output_type": "stream",
     "text": [
      "\n",
      "\n",
      "401it [01:19,  5.03it/s]\u001b[A\u001b[A"
     ]
    },
    {
     "name": "stdout",
     "output_type": "stream",
     "text": [
      "['<s>Add', 'splendido', 'hotel', 'to', 'my', 'playlist', 'verano', 'forever</s>', 'Which', 'playlist?</s>?.</s>']\n"
     ]
    },
    {
     "name": "stderr",
     "output_type": "stream",
     "text": [
      "\n",
      "\n",
      "402it [01:19,  4.96it/s]\u001b[A\u001b[A"
     ]
    },
    {
     "name": "stdout",
     "output_type": "stream",
     "text": [
      "['<s>Add', 'this', 'song', 'to', 'my', 'Ãvedades', 'viernes', 'sudÃ©rica', 'playlist</s>', 'Which', 'playlist?</s>??</s>']\n"
     ]
    },
    {
     "name": "stderr",
     "output_type": "stream",
     "text": [
      "\n",
      "\n",
      "403it [01:19,  5.03it/s]\u001b[A\u001b[A\n",
      "\n",
      "404it [01:19,  5.44it/s]\u001b[A\u001b[A"
     ]
    },
    {
     "name": "stdout",
     "output_type": "stream",
     "text": [
      "['<s>Add', 'a', 'song', 'by', 'Szahram', 'Nazeri', 'to', 'my', 'playlist', 'called', 'this', 'is', 'jennifer', 'lopez</s>', 'Which', 'playlist?</s>?.</s>']\n",
      "['<s>add', 'this', 'track', 'to', 'New', 'Hip', 'Hop</s>', 'Which', 'playlist?</s>', 'playlist.</s>']\n"
     ]
    },
    {
     "name": "stderr",
     "output_type": "stream",
     "text": [
      "\n",
      "\n",
      "405it [01:19,  5.32it/s]\u001b[A\u001b[A\n",
      "\n",
      "406it [01:19,  5.43it/s]\u001b[A\u001b[A"
     ]
    },
    {
     "name": "stdout",
     "output_type": "stream",
     "text": [
      "['<s>and', 'this', 'is', 'status', 'quo', 'to', 'teddy', 'riley</s>', 'Which', 'playlist?</s>?.</s>']\n",
      "['<s>add', 'the', 'outlaw', 'blues', 'to', 'the', 'playlist', 'with', 'the', 'title', 'top', '100', 'country', 'tracks', 'on', 'spotify.', 'Which', 'playlist?</s>?:</s>']\n"
     ]
    },
    {
     "name": "stderr",
     "output_type": "stream",
     "text": [
      "\n",
      "\n",
      "407it [01:20,  3.67it/s]\u001b[A\u001b[A"
     ]
    },
    {
     "name": "stdout",
     "output_type": "stream",
     "text": [
      "['<s>Add', 'Bring', 'Back', 'My', 'Daddy', 'to', 'Me', 'to', 'my', 'playlist', 'named', 'Might', 'and', 'Myth', 'Power', 'Metal</s>', 'Which', 'playlist?</s>::</s>']\n"
     ]
    },
    {
     "name": "stderr",
     "output_type": "stream",
     "text": [
      "\n",
      "\n",
      "408it [01:20,  3.30it/s]\u001b[A\u001b[A"
     ]
    },
    {
     "name": "stdout",
     "output_type": "stream",
     "text": [
      "['<s>Add', 'Shangri-La', 'to', 'the', 'African', 'Heat', 'playlist..', 'Which', 'playlist?</s>', 'playlist?</s>']\n"
     ]
    },
    {
     "name": "stderr",
     "output_type": "stream",
     "text": [
      "\n",
      "\n",
      "409it [01:21,  3.53it/s]\u001b[A\u001b[A"
     ]
    },
    {
     "name": "stdout",
     "output_type": "stream",
     "text": [
      "['<s>add', 'Embryo', 'to', \"lessie's\", 'iced', 'up</s>', 'Which', 'playlist?</s>?.</s>']\n"
     ]
    },
    {
     "name": "stderr",
     "output_type": "stream",
     "text": [
      "\n",
      "\n",
      "410it [01:21,  3.48it/s]\u001b[A\u001b[A"
     ]
    },
    {
     "name": "stdout",
     "output_type": "stream",
     "text": [
      "['<s>Add', 'best', 'of', 'uyaya', 'to', 'Wild', 'Country</s>', 'Which', 'playlist?</s>', 'choice.</s>']\n"
     ]
    },
    {
     "name": "stderr",
     "output_type": "stream",
     "text": [
      "\n",
      "\n",
      "411it [01:21,  3.13it/s]\u001b[A\u001b[A"
     ]
    },
    {
     "name": "stdout",
     "output_type": "stream",
     "text": [
      "['<s>I', 'want', 'to', 'add', 'Kool', 'Keith', 'to', 'my', 'daily', 'chill', 'out', 'dinner', 'playlist</s>', 'Which', 'playlist?</s>', 'me?</s>']\n"
     ]
    },
    {
     "name": "stderr",
     "output_type": "stream",
     "text": [
      "\n",
      "\n",
      "412it [01:22,  3.32it/s]\u001b[A\u001b[A"
     ]
    },
    {
     "name": "stdout",
     "output_type": "stream",
     "text": [
      "['<s>Add', 'david', 'axelrod', 'to', 'my', 'Futuros', 'Hits', 'list</s>', 'Which', 'playlist?</s>:.</s>']\n"
     ]
    },
    {
     "name": "stderr",
     "output_type": "stream",
     "text": [
      "\n",
      "\n",
      "413it [01:22,  3.04it/s]\u001b[A\u001b[A"
     ]
    },
    {
     "name": "stdout",
     "output_type": "stream",
     "text": [
      "['<s>add', 'artist', 'to', 'my', 'daily', 'endorphin', 'rush', 'playlist</s>', 'Which', 'playlist?</s>??</s>']\n"
     ]
    },
    {
     "name": "stderr",
     "output_type": "stream",
     "text": [
      "\n",
      "\n",
      "414it [01:22,  2.92it/s]\u001b[A\u001b[A"
     ]
    },
    {
     "name": "stdout",
     "output_type": "stream",
     "text": [
      "['<s>add', 'current', 'album', 'to', 'my', 'pop', 'gaming', 'playlist</s>', 'Which', 'playlist?</s>??</s>']\n"
     ]
    },
    {
     "name": "stderr",
     "output_type": "stream",
     "text": [
      "\n",
      "\n",
      "415it [01:23,  2.88it/s]\u001b[A\u001b[A\n",
      "\n"
     ]
    },
    {
     "name": "stdout",
     "output_type": "stream",
     "text": [
      "['<s>I', 'want', 'If', 'I', 'Could', 'Be', 'with', 'You', 'added', 'to', 'mellow', 'dinner</s>', 'Which', 'playlist?</s>', 'playlist.</s>']\n",
      "['<s>add', 'spanish', 'castle', 'magic', 'to', 'Daily', 'Lift</s>', 'Which', 'playlist?</s>?.</s>']\n"
     ]
    },
    {
     "name": "stderr",
     "output_type": "stream",
     "text": [
      "416it [01:23,  3.35it/s]\u001b[A\u001b[A\n",
      "\n",
      "417it [01:23,  3.80it/s]\u001b[A\u001b[A\n",
      "\n",
      "418it [01:23,  4.28it/s]\u001b[A\u001b[A"
     ]
    },
    {
     "name": "stdout",
     "output_type": "stream",
     "text": [
      "['<s>add', 'little', 'walter', 'to', 'Women', 'of', 'Comedy', 'playlist</s>', 'Which', 'playlist?</s>??</s>']\n",
      "['<s>Put', 'a', 'Bunky', 'Greengrass', 'tune', 'into', 'the', 'Phunkadelic', 'playlist..', 'Which', 'playlist?</s>??</s>']\n"
     ]
    },
    {
     "name": "stderr",
     "output_type": "stream",
     "text": [
      "\n",
      "\n",
      "419it [01:23,  4.47it/s]\u001b[A\u001b[A"
     ]
    },
    {
     "name": "stdout",
     "output_type": "stream",
     "text": [
      "['<s>Put', 'this', 'tune', 'on', 'dancePOP.', 'Which', 'playlist?</s>', 'tuned.</s>']\n",
      "['<s>add', 'this', 'karina', 'album', 'to', 'my', 'Folk', 'Pop', 'playlist</s>', 'Which', 'playlist?</s>??</s>']"
     ]
    },
    {
     "name": "stderr",
     "output_type": "stream",
     "text": [
      "\n",
      "\n",
      "420it [01:24,  4.61it/s]\u001b[A\u001b[A"
     ]
    },
    {
     "name": "stdout",
     "output_type": "stream",
     "text": [
      "\n",
      "['<s>Add', 'a', 'tune', 'by', 'Louis', 'Wolfe', 'Gilbert', 'to', 'my', '_____', 'playlist</s>', 'Which', 'playlist?</s>', 'favorite.</s>']"
     ]
    },
    {
     "name": "stderr",
     "output_type": "stream",
     "text": [
      "\n",
      "\n",
      "421it [01:24,  4.70it/s]\u001b[A\u001b[A"
     ]
    },
    {
     "name": "stdout",
     "output_type": "stream",
     "text": [
      "\n"
     ]
    },
    {
     "name": "stderr",
     "output_type": "stream",
     "text": [
      "\n",
      "\n",
      "422it [01:24,  4.80it/s]\u001b[A\u001b[A\n",
      "\n",
      "423it [01:24,  5.17it/s]\u001b[A\u001b[A"
     ]
    },
    {
     "name": "stdout",
     "output_type": "stream",
     "text": [
      "['<s>Please', 'add', 'a', 'tune', 'by', 'kaori', 'utatsuki', 'to', 'my', 'orean', 'OSTs', 'playlist</s>', 'Which', 'playlist?</s>::</s>']\n",
      "['<s>Add', 'it', 'to', 'my', 'playlist', 'Classic', 'Punk.', 'Which', 'playlist?</s>?.</s>']\n"
     ]
    },
    {
     "ename": "KeyboardInterrupt",
     "evalue": "",
     "output_type": "error",
     "traceback": [
      "\u001b[1;31m---------------------------------------------------------------------------\u001b[0m",
      "\u001b[1;31mKeyboardInterrupt\u001b[0m                         Traceback (most recent call last)",
      "\u001b[1;32m<ipython-input-25-0d45eddd27b8>\u001b[0m in \u001b[0;36m<module>\u001b[1;34m\u001b[0m\n\u001b[0;32m      3\u001b[0m         \u001b[1;32mfor\u001b[0m \u001b[0mi\u001b[0m\u001b[1;33m,\u001b[0m \u001b[0mrow\u001b[0m \u001b[1;32min\u001b[0m \u001b[0mtqdm\u001b[0m\u001b[1;33m(\u001b[0m\u001b[0menumerate\u001b[0m\u001b[1;33m(\u001b[0m\u001b[0mencoded_text\u001b[0m\u001b[1;33m[\u001b[0m\u001b[0mintent\u001b[0m\u001b[1;33m]\u001b[0m\u001b[1;33m)\u001b[0m\u001b[1;33m)\u001b[0m\u001b[1;33m:\u001b[0m\u001b[1;33m\u001b[0m\u001b[1;33m\u001b[0m\u001b[0m\n\u001b[0;32m      4\u001b[0m             \u001b[0mout\u001b[0m \u001b[1;33m=\u001b[0m \u001b[0mmodel\u001b[0m\u001b[1;33m(\u001b[0m\u001b[0mrow\u001b[0m\u001b[1;33m)\u001b[0m\u001b[1;33m\u001b[0m\u001b[1;33m\u001b[0m\u001b[0m\n\u001b[1;32m----> 5\u001b[1;33m             \u001b[0mactual_out\u001b[0m \u001b[1;33m=\u001b[0m \u001b[0mmodel\u001b[0m\u001b[1;33m(\u001b[0m\u001b[1;33m(\u001b[0m\u001b[0mtorch\u001b[0m\u001b[1;33m.\u001b[0m\u001b[0margmax\u001b[0m\u001b[1;33m(\u001b[0m\u001b[0mout\u001b[0m\u001b[1;33m[\u001b[0m\u001b[1;36m0\u001b[0m\u001b[1;33m]\u001b[0m\u001b[1;33m[\u001b[0m\u001b[1;36m0\u001b[0m\u001b[1;33m]\u001b[0m\u001b[1;33m,\u001b[0m \u001b[0mdim\u001b[0m\u001b[1;33m=\u001b[0m\u001b[1;36m1\u001b[0m\u001b[1;33m)\u001b[0m\u001b[1;33m)\u001b[0m\u001b[1;33m.\u001b[0m\u001b[0mview\u001b[0m\u001b[1;33m(\u001b[0m\u001b[1;36m1\u001b[0m\u001b[1;33m,\u001b[0m \u001b[1;33m-\u001b[0m\u001b[1;36m1\u001b[0m\u001b[1;33m)\u001b[0m\u001b[1;33m)\u001b[0m\u001b[1;33m\u001b[0m\u001b[1;33m\u001b[0m\u001b[0m\n\u001b[0m\u001b[0;32m      6\u001b[0m \u001b[1;31m#             print(actual_out)\u001b[0m\u001b[1;33m\u001b[0m\u001b[1;33m\u001b[0m\u001b[1;33m\u001b[0m\u001b[0m\n\u001b[0;32m      7\u001b[0m             \u001b[0mresponse\u001b[0m\u001b[1;33m[\u001b[0m\u001b[0mintent\u001b[0m\u001b[1;33m]\u001b[0m\u001b[1;33m.\u001b[0m\u001b[0mappend\u001b[0m\u001b[1;33m(\u001b[0m\u001b[0mtokenizer\u001b[0m\u001b[1;33m.\u001b[0m\u001b[0mdecode\u001b[0m\u001b[1;33m(\u001b[0m\u001b[0mtorch\u001b[0m\u001b[1;33m.\u001b[0m\u001b[0margmax\u001b[0m\u001b[1;33m(\u001b[0m\u001b[0mout\u001b[0m\u001b[1;33m[\u001b[0m\u001b[1;36m0\u001b[0m\u001b[1;33m]\u001b[0m\u001b[1;33m[\u001b[0m\u001b[1;36m0\u001b[0m\u001b[1;33m]\u001b[0m\u001b[1;33m,\u001b[0m \u001b[0mdim\u001b[0m\u001b[1;33m=\u001b[0m\u001b[1;36m1\u001b[0m\u001b[1;33m)\u001b[0m\u001b[1;33m.\u001b[0m\u001b[0mtolist\u001b[0m\u001b[1;33m(\u001b[0m\u001b[1;33m)\u001b[0m\u001b[1;33m)\u001b[0m\u001b[1;33m.\u001b[0m\u001b[0msplit\u001b[0m\u001b[1;33m(\u001b[0m\u001b[1;33m)\u001b[0m\u001b[1;33m)\u001b[0m\u001b[1;33m\u001b[0m\u001b[1;33m\u001b[0m\u001b[0m\n",
      "\u001b[1;32m~\\Anaconda3\\lib\\site-packages\\torch\\nn\\modules\\module.py\u001b[0m in \u001b[0;36m__call__\u001b[1;34m(self, *input, **kwargs)\u001b[0m\n\u001b[0;32m    545\u001b[0m             \u001b[0mresult\u001b[0m \u001b[1;33m=\u001b[0m \u001b[0mself\u001b[0m\u001b[1;33m.\u001b[0m\u001b[0m_slow_forward\u001b[0m\u001b[1;33m(\u001b[0m\u001b[1;33m*\u001b[0m\u001b[0minput\u001b[0m\u001b[1;33m,\u001b[0m \u001b[1;33m**\u001b[0m\u001b[0mkwargs\u001b[0m\u001b[1;33m)\u001b[0m\u001b[1;33m\u001b[0m\u001b[1;33m\u001b[0m\u001b[0m\n\u001b[0;32m    546\u001b[0m         \u001b[1;32melse\u001b[0m\u001b[1;33m:\u001b[0m\u001b[1;33m\u001b[0m\u001b[1;33m\u001b[0m\u001b[0m\n\u001b[1;32m--> 547\u001b[1;33m             \u001b[0mresult\u001b[0m \u001b[1;33m=\u001b[0m \u001b[0mself\u001b[0m\u001b[1;33m.\u001b[0m\u001b[0mforward\u001b[0m\u001b[1;33m(\u001b[0m\u001b[1;33m*\u001b[0m\u001b[0minput\u001b[0m\u001b[1;33m,\u001b[0m \u001b[1;33m**\u001b[0m\u001b[0mkwargs\u001b[0m\u001b[1;33m)\u001b[0m\u001b[1;33m\u001b[0m\u001b[1;33m\u001b[0m\u001b[0m\n\u001b[0m\u001b[0;32m    548\u001b[0m         \u001b[1;32mfor\u001b[0m \u001b[0mhook\u001b[0m \u001b[1;32min\u001b[0m \u001b[0mself\u001b[0m\u001b[1;33m.\u001b[0m\u001b[0m_forward_hooks\u001b[0m\u001b[1;33m.\u001b[0m\u001b[0mvalues\u001b[0m\u001b[1;33m(\u001b[0m\u001b[1;33m)\u001b[0m\u001b[1;33m:\u001b[0m\u001b[1;33m\u001b[0m\u001b[1;33m\u001b[0m\u001b[0m\n\u001b[0;32m    549\u001b[0m             \u001b[0mhook_result\u001b[0m \u001b[1;33m=\u001b[0m \u001b[0mhook\u001b[0m\u001b[1;33m(\u001b[0m\u001b[0mself\u001b[0m\u001b[1;33m,\u001b[0m \u001b[0minput\u001b[0m\u001b[1;33m,\u001b[0m \u001b[0mresult\u001b[0m\u001b[1;33m)\u001b[0m\u001b[1;33m\u001b[0m\u001b[1;33m\u001b[0m\u001b[0m\n",
      "\u001b[1;32m~\\Anaconda3\\lib\\site-packages\\transformers\\modeling_roberta.py\u001b[0m in \u001b[0;36mforward\u001b[1;34m(self, input_ids, attention_mask, token_type_ids, position_ids, head_mask, masked_lm_labels)\u001b[0m\n\u001b[0;32m    239\u001b[0m                                \u001b[0mtoken_type_ids\u001b[0m\u001b[1;33m=\u001b[0m\u001b[0mtoken_type_ids\u001b[0m\u001b[1;33m,\u001b[0m\u001b[1;33m\u001b[0m\u001b[1;33m\u001b[0m\u001b[0m\n\u001b[0;32m    240\u001b[0m                                \u001b[0mposition_ids\u001b[0m\u001b[1;33m=\u001b[0m\u001b[0mposition_ids\u001b[0m\u001b[1;33m,\u001b[0m\u001b[1;33m\u001b[0m\u001b[1;33m\u001b[0m\u001b[0m\n\u001b[1;32m--> 241\u001b[1;33m                                head_mask=head_mask)\n\u001b[0m\u001b[0;32m    242\u001b[0m         \u001b[0msequence_output\u001b[0m \u001b[1;33m=\u001b[0m \u001b[0moutputs\u001b[0m\u001b[1;33m[\u001b[0m\u001b[1;36m0\u001b[0m\u001b[1;33m]\u001b[0m\u001b[1;33m\u001b[0m\u001b[1;33m\u001b[0m\u001b[0m\n\u001b[0;32m    243\u001b[0m         \u001b[0mprediction_scores\u001b[0m \u001b[1;33m=\u001b[0m \u001b[0mself\u001b[0m\u001b[1;33m.\u001b[0m\u001b[0mlm_head\u001b[0m\u001b[1;33m(\u001b[0m\u001b[0msequence_output\u001b[0m\u001b[1;33m)\u001b[0m\u001b[1;33m\u001b[0m\u001b[1;33m\u001b[0m\u001b[0m\n",
      "\u001b[1;32m~\\Anaconda3\\lib\\site-packages\\torch\\nn\\modules\\module.py\u001b[0m in \u001b[0;36m__call__\u001b[1;34m(self, *input, **kwargs)\u001b[0m\n\u001b[0;32m    545\u001b[0m             \u001b[0mresult\u001b[0m \u001b[1;33m=\u001b[0m \u001b[0mself\u001b[0m\u001b[1;33m.\u001b[0m\u001b[0m_slow_forward\u001b[0m\u001b[1;33m(\u001b[0m\u001b[1;33m*\u001b[0m\u001b[0minput\u001b[0m\u001b[1;33m,\u001b[0m \u001b[1;33m**\u001b[0m\u001b[0mkwargs\u001b[0m\u001b[1;33m)\u001b[0m\u001b[1;33m\u001b[0m\u001b[1;33m\u001b[0m\u001b[0m\n\u001b[0;32m    546\u001b[0m         \u001b[1;32melse\u001b[0m\u001b[1;33m:\u001b[0m\u001b[1;33m\u001b[0m\u001b[1;33m\u001b[0m\u001b[0m\n\u001b[1;32m--> 547\u001b[1;33m             \u001b[0mresult\u001b[0m \u001b[1;33m=\u001b[0m \u001b[0mself\u001b[0m\u001b[1;33m.\u001b[0m\u001b[0mforward\u001b[0m\u001b[1;33m(\u001b[0m\u001b[1;33m*\u001b[0m\u001b[0minput\u001b[0m\u001b[1;33m,\u001b[0m \u001b[1;33m**\u001b[0m\u001b[0mkwargs\u001b[0m\u001b[1;33m)\u001b[0m\u001b[1;33m\u001b[0m\u001b[1;33m\u001b[0m\u001b[0m\n\u001b[0m\u001b[0;32m    548\u001b[0m         \u001b[1;32mfor\u001b[0m \u001b[0mhook\u001b[0m \u001b[1;32min\u001b[0m \u001b[0mself\u001b[0m\u001b[1;33m.\u001b[0m\u001b[0m_forward_hooks\u001b[0m\u001b[1;33m.\u001b[0m\u001b[0mvalues\u001b[0m\u001b[1;33m(\u001b[0m\u001b[1;33m)\u001b[0m\u001b[1;33m:\u001b[0m\u001b[1;33m\u001b[0m\u001b[1;33m\u001b[0m\u001b[0m\n\u001b[0;32m    549\u001b[0m             \u001b[0mhook_result\u001b[0m \u001b[1;33m=\u001b[0m \u001b[0mhook\u001b[0m\u001b[1;33m(\u001b[0m\u001b[0mself\u001b[0m\u001b[1;33m,\u001b[0m \u001b[0minput\u001b[0m\u001b[1;33m,\u001b[0m \u001b[0mresult\u001b[0m\u001b[1;33m)\u001b[0m\u001b[1;33m\u001b[0m\u001b[1;33m\u001b[0m\u001b[0m\n",
      "\u001b[1;32m~\\Anaconda3\\lib\\site-packages\\transformers\\modeling_roberta.py\u001b[0m in \u001b[0;36mforward\u001b[1;34m(self, input_ids, attention_mask, token_type_ids, position_ids, head_mask)\u001b[0m\n\u001b[0;32m    179\u001b[0m                                                  \u001b[0mtoken_type_ids\u001b[0m\u001b[1;33m=\u001b[0m\u001b[0mtoken_type_ids\u001b[0m\u001b[1;33m,\u001b[0m\u001b[1;33m\u001b[0m\u001b[1;33m\u001b[0m\u001b[0m\n\u001b[0;32m    180\u001b[0m                                                  \u001b[0mposition_ids\u001b[0m\u001b[1;33m=\u001b[0m\u001b[0mposition_ids\u001b[0m\u001b[1;33m,\u001b[0m\u001b[1;33m\u001b[0m\u001b[1;33m\u001b[0m\u001b[0m\n\u001b[1;32m--> 181\u001b[1;33m                                                  head_mask=head_mask)\n\u001b[0m\u001b[0;32m    182\u001b[0m \u001b[1;33m\u001b[0m\u001b[0m\n\u001b[0;32m    183\u001b[0m \u001b[1;33m\u001b[0m\u001b[0m\n",
      "\u001b[1;32m~\\Anaconda3\\lib\\site-packages\\transformers\\modeling_bert.py\u001b[0m in \u001b[0;36mforward\u001b[1;34m(self, input_ids, attention_mask, token_type_ids, position_ids, head_mask)\u001b[0m\n\u001b[0;32m    625\u001b[0m         encoder_outputs = self.encoder(embedding_output,\n\u001b[0;32m    626\u001b[0m                                        \u001b[0mextended_attention_mask\u001b[0m\u001b[1;33m,\u001b[0m\u001b[1;33m\u001b[0m\u001b[1;33m\u001b[0m\u001b[0m\n\u001b[1;32m--> 627\u001b[1;33m                                        head_mask=head_mask)\n\u001b[0m\u001b[0;32m    628\u001b[0m         \u001b[0msequence_output\u001b[0m \u001b[1;33m=\u001b[0m \u001b[0mencoder_outputs\u001b[0m\u001b[1;33m[\u001b[0m\u001b[1;36m0\u001b[0m\u001b[1;33m]\u001b[0m\u001b[1;33m\u001b[0m\u001b[1;33m\u001b[0m\u001b[0m\n\u001b[0;32m    629\u001b[0m         \u001b[0mpooled_output\u001b[0m \u001b[1;33m=\u001b[0m \u001b[0mself\u001b[0m\u001b[1;33m.\u001b[0m\u001b[0mpooler\u001b[0m\u001b[1;33m(\u001b[0m\u001b[0msequence_output\u001b[0m\u001b[1;33m)\u001b[0m\u001b[1;33m\u001b[0m\u001b[1;33m\u001b[0m\u001b[0m\n",
      "\u001b[1;32m~\\Anaconda3\\lib\\site-packages\\torch\\nn\\modules\\module.py\u001b[0m in \u001b[0;36m__call__\u001b[1;34m(self, *input, **kwargs)\u001b[0m\n\u001b[0;32m    545\u001b[0m             \u001b[0mresult\u001b[0m \u001b[1;33m=\u001b[0m \u001b[0mself\u001b[0m\u001b[1;33m.\u001b[0m\u001b[0m_slow_forward\u001b[0m\u001b[1;33m(\u001b[0m\u001b[1;33m*\u001b[0m\u001b[0minput\u001b[0m\u001b[1;33m,\u001b[0m \u001b[1;33m**\u001b[0m\u001b[0mkwargs\u001b[0m\u001b[1;33m)\u001b[0m\u001b[1;33m\u001b[0m\u001b[1;33m\u001b[0m\u001b[0m\n\u001b[0;32m    546\u001b[0m         \u001b[1;32melse\u001b[0m\u001b[1;33m:\u001b[0m\u001b[1;33m\u001b[0m\u001b[1;33m\u001b[0m\u001b[0m\n\u001b[1;32m--> 547\u001b[1;33m             \u001b[0mresult\u001b[0m \u001b[1;33m=\u001b[0m \u001b[0mself\u001b[0m\u001b[1;33m.\u001b[0m\u001b[0mforward\u001b[0m\u001b[1;33m(\u001b[0m\u001b[1;33m*\u001b[0m\u001b[0minput\u001b[0m\u001b[1;33m,\u001b[0m \u001b[1;33m**\u001b[0m\u001b[0mkwargs\u001b[0m\u001b[1;33m)\u001b[0m\u001b[1;33m\u001b[0m\u001b[1;33m\u001b[0m\u001b[0m\n\u001b[0m\u001b[0;32m    548\u001b[0m         \u001b[1;32mfor\u001b[0m \u001b[0mhook\u001b[0m \u001b[1;32min\u001b[0m \u001b[0mself\u001b[0m\u001b[1;33m.\u001b[0m\u001b[0m_forward_hooks\u001b[0m\u001b[1;33m.\u001b[0m\u001b[0mvalues\u001b[0m\u001b[1;33m(\u001b[0m\u001b[1;33m)\u001b[0m\u001b[1;33m:\u001b[0m\u001b[1;33m\u001b[0m\u001b[1;33m\u001b[0m\u001b[0m\n\u001b[0;32m    549\u001b[0m             \u001b[0mhook_result\u001b[0m \u001b[1;33m=\u001b[0m \u001b[0mhook\u001b[0m\u001b[1;33m(\u001b[0m\u001b[0mself\u001b[0m\u001b[1;33m,\u001b[0m \u001b[0minput\u001b[0m\u001b[1;33m,\u001b[0m \u001b[0mresult\u001b[0m\u001b[1;33m)\u001b[0m\u001b[1;33m\u001b[0m\u001b[1;33m\u001b[0m\u001b[0m\n",
      "\u001b[1;32m~\\Anaconda3\\lib\\site-packages\\transformers\\modeling_bert.py\u001b[0m in \u001b[0;36mforward\u001b[1;34m(self, hidden_states, attention_mask, head_mask)\u001b[0m\n\u001b[0;32m    346\u001b[0m                 \u001b[0mall_hidden_states\u001b[0m \u001b[1;33m=\u001b[0m \u001b[0mall_hidden_states\u001b[0m \u001b[1;33m+\u001b[0m \u001b[1;33m(\u001b[0m\u001b[0mhidden_states\u001b[0m\u001b[1;33m,\u001b[0m\u001b[1;33m)\u001b[0m\u001b[1;33m\u001b[0m\u001b[1;33m\u001b[0m\u001b[0m\n\u001b[0;32m    347\u001b[0m \u001b[1;33m\u001b[0m\u001b[0m\n\u001b[1;32m--> 348\u001b[1;33m             \u001b[0mlayer_outputs\u001b[0m \u001b[1;33m=\u001b[0m \u001b[0mlayer_module\u001b[0m\u001b[1;33m(\u001b[0m\u001b[0mhidden_states\u001b[0m\u001b[1;33m,\u001b[0m \u001b[0mattention_mask\u001b[0m\u001b[1;33m,\u001b[0m \u001b[0mhead_mask\u001b[0m\u001b[1;33m[\u001b[0m\u001b[0mi\u001b[0m\u001b[1;33m]\u001b[0m\u001b[1;33m)\u001b[0m\u001b[1;33m\u001b[0m\u001b[1;33m\u001b[0m\u001b[0m\n\u001b[0m\u001b[0;32m    349\u001b[0m             \u001b[0mhidden_states\u001b[0m \u001b[1;33m=\u001b[0m \u001b[0mlayer_outputs\u001b[0m\u001b[1;33m[\u001b[0m\u001b[1;36m0\u001b[0m\u001b[1;33m]\u001b[0m\u001b[1;33m\u001b[0m\u001b[1;33m\u001b[0m\u001b[0m\n\u001b[0;32m    350\u001b[0m \u001b[1;33m\u001b[0m\u001b[0m\n",
      "\u001b[1;32m~\\Anaconda3\\lib\\site-packages\\torch\\nn\\modules\\module.py\u001b[0m in \u001b[0;36m__call__\u001b[1;34m(self, *input, **kwargs)\u001b[0m\n\u001b[0;32m    545\u001b[0m             \u001b[0mresult\u001b[0m \u001b[1;33m=\u001b[0m \u001b[0mself\u001b[0m\u001b[1;33m.\u001b[0m\u001b[0m_slow_forward\u001b[0m\u001b[1;33m(\u001b[0m\u001b[1;33m*\u001b[0m\u001b[0minput\u001b[0m\u001b[1;33m,\u001b[0m \u001b[1;33m**\u001b[0m\u001b[0mkwargs\u001b[0m\u001b[1;33m)\u001b[0m\u001b[1;33m\u001b[0m\u001b[1;33m\u001b[0m\u001b[0m\n\u001b[0;32m    546\u001b[0m         \u001b[1;32melse\u001b[0m\u001b[1;33m:\u001b[0m\u001b[1;33m\u001b[0m\u001b[1;33m\u001b[0m\u001b[0m\n\u001b[1;32m--> 547\u001b[1;33m             \u001b[0mresult\u001b[0m \u001b[1;33m=\u001b[0m \u001b[0mself\u001b[0m\u001b[1;33m.\u001b[0m\u001b[0mforward\u001b[0m\u001b[1;33m(\u001b[0m\u001b[1;33m*\u001b[0m\u001b[0minput\u001b[0m\u001b[1;33m,\u001b[0m \u001b[1;33m**\u001b[0m\u001b[0mkwargs\u001b[0m\u001b[1;33m)\u001b[0m\u001b[1;33m\u001b[0m\u001b[1;33m\u001b[0m\u001b[0m\n\u001b[0m\u001b[0;32m    548\u001b[0m         \u001b[1;32mfor\u001b[0m \u001b[0mhook\u001b[0m \u001b[1;32min\u001b[0m \u001b[0mself\u001b[0m\u001b[1;33m.\u001b[0m\u001b[0m_forward_hooks\u001b[0m\u001b[1;33m.\u001b[0m\u001b[0mvalues\u001b[0m\u001b[1;33m(\u001b[0m\u001b[1;33m)\u001b[0m\u001b[1;33m:\u001b[0m\u001b[1;33m\u001b[0m\u001b[1;33m\u001b[0m\u001b[0m\n\u001b[0;32m    549\u001b[0m             \u001b[0mhook_result\u001b[0m \u001b[1;33m=\u001b[0m \u001b[0mhook\u001b[0m\u001b[1;33m(\u001b[0m\u001b[0mself\u001b[0m\u001b[1;33m,\u001b[0m \u001b[0minput\u001b[0m\u001b[1;33m,\u001b[0m \u001b[0mresult\u001b[0m\u001b[1;33m)\u001b[0m\u001b[1;33m\u001b[0m\u001b[1;33m\u001b[0m\u001b[0m\n",
      "\u001b[1;32m~\\Anaconda3\\lib\\site-packages\\transformers\\modeling_bert.py\u001b[0m in \u001b[0;36mforward\u001b[1;34m(self, hidden_states, attention_mask, head_mask)\u001b[0m\n\u001b[0;32m    324\u001b[0m \u001b[1;33m\u001b[0m\u001b[0m\n\u001b[0;32m    325\u001b[0m     \u001b[1;32mdef\u001b[0m \u001b[0mforward\u001b[0m\u001b[1;33m(\u001b[0m\u001b[0mself\u001b[0m\u001b[1;33m,\u001b[0m \u001b[0mhidden_states\u001b[0m\u001b[1;33m,\u001b[0m \u001b[0mattention_mask\u001b[0m\u001b[1;33m=\u001b[0m\u001b[1;32mNone\u001b[0m\u001b[1;33m,\u001b[0m \u001b[0mhead_mask\u001b[0m\u001b[1;33m=\u001b[0m\u001b[1;32mNone\u001b[0m\u001b[1;33m)\u001b[0m\u001b[1;33m:\u001b[0m\u001b[1;33m\u001b[0m\u001b[1;33m\u001b[0m\u001b[0m\n\u001b[1;32m--> 326\u001b[1;33m         \u001b[0mattention_outputs\u001b[0m \u001b[1;33m=\u001b[0m \u001b[0mself\u001b[0m\u001b[1;33m.\u001b[0m\u001b[0mattention\u001b[0m\u001b[1;33m(\u001b[0m\u001b[0mhidden_states\u001b[0m\u001b[1;33m,\u001b[0m \u001b[0mattention_mask\u001b[0m\u001b[1;33m,\u001b[0m \u001b[0mhead_mask\u001b[0m\u001b[1;33m)\u001b[0m\u001b[1;33m\u001b[0m\u001b[1;33m\u001b[0m\u001b[0m\n\u001b[0m\u001b[0;32m    327\u001b[0m         \u001b[0mattention_output\u001b[0m \u001b[1;33m=\u001b[0m \u001b[0mattention_outputs\u001b[0m\u001b[1;33m[\u001b[0m\u001b[1;36m0\u001b[0m\u001b[1;33m]\u001b[0m\u001b[1;33m\u001b[0m\u001b[1;33m\u001b[0m\u001b[0m\n\u001b[0;32m    328\u001b[0m         \u001b[0mintermediate_output\u001b[0m \u001b[1;33m=\u001b[0m \u001b[0mself\u001b[0m\u001b[1;33m.\u001b[0m\u001b[0mintermediate\u001b[0m\u001b[1;33m(\u001b[0m\u001b[0mattention_output\u001b[0m\u001b[1;33m)\u001b[0m\u001b[1;33m\u001b[0m\u001b[1;33m\u001b[0m\u001b[0m\n",
      "\u001b[1;32m~\\Anaconda3\\lib\\site-packages\\torch\\nn\\modules\\module.py\u001b[0m in \u001b[0;36m__call__\u001b[1;34m(self, *input, **kwargs)\u001b[0m\n\u001b[0;32m    545\u001b[0m             \u001b[0mresult\u001b[0m \u001b[1;33m=\u001b[0m \u001b[0mself\u001b[0m\u001b[1;33m.\u001b[0m\u001b[0m_slow_forward\u001b[0m\u001b[1;33m(\u001b[0m\u001b[1;33m*\u001b[0m\u001b[0minput\u001b[0m\u001b[1;33m,\u001b[0m \u001b[1;33m**\u001b[0m\u001b[0mkwargs\u001b[0m\u001b[1;33m)\u001b[0m\u001b[1;33m\u001b[0m\u001b[1;33m\u001b[0m\u001b[0m\n\u001b[0;32m    546\u001b[0m         \u001b[1;32melse\u001b[0m\u001b[1;33m:\u001b[0m\u001b[1;33m\u001b[0m\u001b[1;33m\u001b[0m\u001b[0m\n\u001b[1;32m--> 547\u001b[1;33m             \u001b[0mresult\u001b[0m \u001b[1;33m=\u001b[0m \u001b[0mself\u001b[0m\u001b[1;33m.\u001b[0m\u001b[0mforward\u001b[0m\u001b[1;33m(\u001b[0m\u001b[1;33m*\u001b[0m\u001b[0minput\u001b[0m\u001b[1;33m,\u001b[0m \u001b[1;33m**\u001b[0m\u001b[0mkwargs\u001b[0m\u001b[1;33m)\u001b[0m\u001b[1;33m\u001b[0m\u001b[1;33m\u001b[0m\u001b[0m\n\u001b[0m\u001b[0;32m    548\u001b[0m         \u001b[1;32mfor\u001b[0m \u001b[0mhook\u001b[0m \u001b[1;32min\u001b[0m \u001b[0mself\u001b[0m\u001b[1;33m.\u001b[0m\u001b[0m_forward_hooks\u001b[0m\u001b[1;33m.\u001b[0m\u001b[0mvalues\u001b[0m\u001b[1;33m(\u001b[0m\u001b[1;33m)\u001b[0m\u001b[1;33m:\u001b[0m\u001b[1;33m\u001b[0m\u001b[1;33m\u001b[0m\u001b[0m\n\u001b[0;32m    549\u001b[0m             \u001b[0mhook_result\u001b[0m \u001b[1;33m=\u001b[0m \u001b[0mhook\u001b[0m\u001b[1;33m(\u001b[0m\u001b[0mself\u001b[0m\u001b[1;33m,\u001b[0m \u001b[0minput\u001b[0m\u001b[1;33m,\u001b[0m \u001b[0mresult\u001b[0m\u001b[1;33m)\u001b[0m\u001b[1;33m\u001b[0m\u001b[1;33m\u001b[0m\u001b[0m\n",
      "\u001b[1;32m~\\Anaconda3\\lib\\site-packages\\transformers\\modeling_bert.py\u001b[0m in \u001b[0;36mforward\u001b[1;34m(self, input_tensor, attention_mask, head_mask)\u001b[0m\n\u001b[0;32m    281\u001b[0m \u001b[1;33m\u001b[0m\u001b[0m\n\u001b[0;32m    282\u001b[0m     \u001b[1;32mdef\u001b[0m \u001b[0mforward\u001b[0m\u001b[1;33m(\u001b[0m\u001b[0mself\u001b[0m\u001b[1;33m,\u001b[0m \u001b[0minput_tensor\u001b[0m\u001b[1;33m,\u001b[0m \u001b[0mattention_mask\u001b[0m\u001b[1;33m=\u001b[0m\u001b[1;32mNone\u001b[0m\u001b[1;33m,\u001b[0m \u001b[0mhead_mask\u001b[0m\u001b[1;33m=\u001b[0m\u001b[1;32mNone\u001b[0m\u001b[1;33m)\u001b[0m\u001b[1;33m:\u001b[0m\u001b[1;33m\u001b[0m\u001b[1;33m\u001b[0m\u001b[0m\n\u001b[1;32m--> 283\u001b[1;33m         \u001b[0mself_outputs\u001b[0m \u001b[1;33m=\u001b[0m \u001b[0mself\u001b[0m\u001b[1;33m.\u001b[0m\u001b[0mself\u001b[0m\u001b[1;33m(\u001b[0m\u001b[0minput_tensor\u001b[0m\u001b[1;33m,\u001b[0m \u001b[0mattention_mask\u001b[0m\u001b[1;33m,\u001b[0m \u001b[0mhead_mask\u001b[0m\u001b[1;33m)\u001b[0m\u001b[1;33m\u001b[0m\u001b[1;33m\u001b[0m\u001b[0m\n\u001b[0m\u001b[0;32m    284\u001b[0m         \u001b[0mattention_output\u001b[0m \u001b[1;33m=\u001b[0m \u001b[0mself\u001b[0m\u001b[1;33m.\u001b[0m\u001b[0moutput\u001b[0m\u001b[1;33m(\u001b[0m\u001b[0mself_outputs\u001b[0m\u001b[1;33m[\u001b[0m\u001b[1;36m0\u001b[0m\u001b[1;33m]\u001b[0m\u001b[1;33m,\u001b[0m \u001b[0minput_tensor\u001b[0m\u001b[1;33m)\u001b[0m\u001b[1;33m\u001b[0m\u001b[1;33m\u001b[0m\u001b[0m\n\u001b[0;32m    285\u001b[0m         \u001b[0moutputs\u001b[0m \u001b[1;33m=\u001b[0m \u001b[1;33m(\u001b[0m\u001b[0mattention_output\u001b[0m\u001b[1;33m,\u001b[0m\u001b[1;33m)\u001b[0m \u001b[1;33m+\u001b[0m \u001b[0mself_outputs\u001b[0m\u001b[1;33m[\u001b[0m\u001b[1;36m1\u001b[0m\u001b[1;33m:\u001b[0m\u001b[1;33m]\u001b[0m  \u001b[1;31m# add attentions if we output them\u001b[0m\u001b[1;33m\u001b[0m\u001b[1;33m\u001b[0m\u001b[0m\n",
      "\u001b[1;32m~\\Anaconda3\\lib\\site-packages\\torch\\nn\\modules\\module.py\u001b[0m in \u001b[0;36m__call__\u001b[1;34m(self, *input, **kwargs)\u001b[0m\n\u001b[0;32m    545\u001b[0m             \u001b[0mresult\u001b[0m \u001b[1;33m=\u001b[0m \u001b[0mself\u001b[0m\u001b[1;33m.\u001b[0m\u001b[0m_slow_forward\u001b[0m\u001b[1;33m(\u001b[0m\u001b[1;33m*\u001b[0m\u001b[0minput\u001b[0m\u001b[1;33m,\u001b[0m \u001b[1;33m**\u001b[0m\u001b[0mkwargs\u001b[0m\u001b[1;33m)\u001b[0m\u001b[1;33m\u001b[0m\u001b[1;33m\u001b[0m\u001b[0m\n\u001b[0;32m    546\u001b[0m         \u001b[1;32melse\u001b[0m\u001b[1;33m:\u001b[0m\u001b[1;33m\u001b[0m\u001b[1;33m\u001b[0m\u001b[0m\n\u001b[1;32m--> 547\u001b[1;33m             \u001b[0mresult\u001b[0m \u001b[1;33m=\u001b[0m \u001b[0mself\u001b[0m\u001b[1;33m.\u001b[0m\u001b[0mforward\u001b[0m\u001b[1;33m(\u001b[0m\u001b[1;33m*\u001b[0m\u001b[0minput\u001b[0m\u001b[1;33m,\u001b[0m \u001b[1;33m**\u001b[0m\u001b[0mkwargs\u001b[0m\u001b[1;33m)\u001b[0m\u001b[1;33m\u001b[0m\u001b[1;33m\u001b[0m\u001b[0m\n\u001b[0m\u001b[0;32m    548\u001b[0m         \u001b[1;32mfor\u001b[0m \u001b[0mhook\u001b[0m \u001b[1;32min\u001b[0m \u001b[0mself\u001b[0m\u001b[1;33m.\u001b[0m\u001b[0m_forward_hooks\u001b[0m\u001b[1;33m.\u001b[0m\u001b[0mvalues\u001b[0m\u001b[1;33m(\u001b[0m\u001b[1;33m)\u001b[0m\u001b[1;33m:\u001b[0m\u001b[1;33m\u001b[0m\u001b[1;33m\u001b[0m\u001b[0m\n\u001b[0;32m    549\u001b[0m             \u001b[0mhook_result\u001b[0m \u001b[1;33m=\u001b[0m \u001b[0mhook\u001b[0m\u001b[1;33m(\u001b[0m\u001b[0mself\u001b[0m\u001b[1;33m,\u001b[0m \u001b[0minput\u001b[0m\u001b[1;33m,\u001b[0m \u001b[0mresult\u001b[0m\u001b[1;33m)\u001b[0m\u001b[1;33m\u001b[0m\u001b[1;33m\u001b[0m\u001b[0m\n",
      "\u001b[1;32m~\\Anaconda3\\lib\\site-packages\\transformers\\modeling_bert.py\u001b[0m in \u001b[0;36mforward\u001b[1;34m(self, hidden_states, attention_mask, head_mask)\u001b[0m\n\u001b[0;32m    210\u001b[0m         \u001b[1;31m# Take the dot product between \"query\" and \"key\" to get the raw attention scores.\u001b[0m\u001b[1;33m\u001b[0m\u001b[1;33m\u001b[0m\u001b[1;33m\u001b[0m\u001b[0m\n\u001b[0;32m    211\u001b[0m         \u001b[0mattention_scores\u001b[0m \u001b[1;33m=\u001b[0m \u001b[0mtorch\u001b[0m\u001b[1;33m.\u001b[0m\u001b[0mmatmul\u001b[0m\u001b[1;33m(\u001b[0m\u001b[0mquery_layer\u001b[0m\u001b[1;33m,\u001b[0m \u001b[0mkey_layer\u001b[0m\u001b[1;33m.\u001b[0m\u001b[0mtranspose\u001b[0m\u001b[1;33m(\u001b[0m\u001b[1;33m-\u001b[0m\u001b[1;36m1\u001b[0m\u001b[1;33m,\u001b[0m \u001b[1;33m-\u001b[0m\u001b[1;36m2\u001b[0m\u001b[1;33m)\u001b[0m\u001b[1;33m)\u001b[0m\u001b[1;33m\u001b[0m\u001b[1;33m\u001b[0m\u001b[0m\n\u001b[1;32m--> 212\u001b[1;33m         \u001b[0mattention_scores\u001b[0m \u001b[1;33m=\u001b[0m \u001b[0mattention_scores\u001b[0m \u001b[1;33m/\u001b[0m \u001b[0mmath\u001b[0m\u001b[1;33m.\u001b[0m\u001b[0msqrt\u001b[0m\u001b[1;33m(\u001b[0m\u001b[0mself\u001b[0m\u001b[1;33m.\u001b[0m\u001b[0mattention_head_size\u001b[0m\u001b[1;33m)\u001b[0m\u001b[1;33m\u001b[0m\u001b[1;33m\u001b[0m\u001b[0m\n\u001b[0m\u001b[0;32m    213\u001b[0m         \u001b[1;32mif\u001b[0m \u001b[0mattention_mask\u001b[0m \u001b[1;32mis\u001b[0m \u001b[1;32mnot\u001b[0m \u001b[1;32mNone\u001b[0m\u001b[1;33m:\u001b[0m\u001b[1;33m\u001b[0m\u001b[1;33m\u001b[0m\u001b[0m\n\u001b[0;32m    214\u001b[0m             \u001b[1;31m# Apply the attention mask is (precomputed for all layers in BertModel forward() function)\u001b[0m\u001b[1;33m\u001b[0m\u001b[1;33m\u001b[0m\u001b[1;33m\u001b[0m\u001b[0m\n",
      "\u001b[1;31mKeyboardInterrupt\u001b[0m: "
     ]
    }
   ],
   "source": [
    "with torch.no_grad():\n",
    "    for intent in intents:\n",
    "        for i, row in tqdm(enumerate(encoded_text[intent])):\n",
    "            out = model(row)\n",
    "            actual_out = model((torch.argmax(out[0][0], dim=1)).view(1, -1))\n",
    "#             print(actual_out)\n",
    "            response[intent].append(tokenizer.decode(torch.argmax(out[0][0], dim=1).tolist()).split())\n",
    "            print(response[intent][-1])\n",
    "            score = nltk.translate.bleu_score.sentence_bleu(\n",
    "                    [ans[intent][i]],\n",
    "                    response[intent][i],\n",
    "                    smoothing_function=nltk.translate.bleu_score.SmoothingFunction().method4,\n",
    "                    auto_reweigh=True\n",
    "                )\n",
    "            "
   ]
  },
  {
   "cell_type": "code",
   "execution_count": null,
   "metadata": {},
   "outputs": [],
   "source": [
    "\" \".join(response['BookRestaurant'][0])"
   ]
  },
  {
   "cell_type": "code",
   "execution_count": null,
   "metadata": {},
   "outputs": [],
   "source": [
    "for intent in intents:\n",
    "    print(f\"For {intent}, avg. BLEU score is {sum(scores[intent]) / len(scores[intent])}\")"
   ]
  },
  {
   "cell_type": "code",
   "execution_count": null,
   "metadata": {},
   "outputs": [],
   "source": [
    "os.chdir('transformers')\n",
    "from examples.run_generation import sample_sequence\n",
    "os.chdir('..')\n",
    "_out = sample_sequence(\n",
    "    model, 5, encoded_text['BookRestaurant'][0][0], top_p = 0.9,\n",
    "    is_xlm_mlm=True, xlm_mask_token=50264\n",
    ")"
   ]
  },
  {
   "cell_type": "code",
   "execution_count": null,
   "metadata": {},
   "outputs": [],
   "source": [
    "encoded_text['BookRestaurant'][0][0]"
   ]
  },
  {
   "cell_type": "code",
   "execution_count": null,
   "metadata": {},
   "outputs": [],
   "source": [
    "tokenizer"
   ]
  },
  {
   "cell_type": "code",
   "execution_count": null,
   "metadata": {},
   "outputs": [],
   "source": [
    "tokenizer.decode(_out.squeeze(0).tolist())"
   ]
  },
  {
   "cell_type": "code",
   "execution_count": null,
   "metadata": {},
   "outputs": [],
   "source": [
    "tokenizer.decode([50264])"
   ]
  },
  {
   "cell_type": "code",
   "execution_count": null,
   "metadata": {},
   "outputs": [],
   "source": [
    "_out.squeeze(0).tolist()"
   ]
  },
  {
   "cell_type": "code",
   "execution_count": null,
   "metadata": {},
   "outputs": [],
   "source": [
    "scores"
   ]
  },
  {
   "cell_type": "code",
   "execution_count": null,
   "metadata": {},
   "outputs": [],
   "source": [
    "response"
   ]
  },
  {
   "cell_type": "code",
   "execution_count": null,
   "metadata": {},
   "outputs": [],
   "source": [
    "def fill_mask(masked_input, model, tokenizer, topk=5):\n",
    "    # Adapted from https://github.com/pytorch/fairseq/blob/master/fairseq/models/roberta/hub_interface.py\n",
    "    assert masked_input.count('<mask>') == 1\n",
    "    input_ids = torch.tensor(tokenizer.encode(masked_input, add_special_tokens=True)).unsqueeze(0)  # Batch size 1\n",
    "    logits = model(input_ids)[0]  # The last hidden-state is the first element of the output tuple\n",
    "    masked_index = (input_ids.squeeze() == tokenizer.mask_token_id).nonzero().item()\n",
    "    logits = logits[0, masked_index, :]\n",
    "    prob = logits.softmax(dim=0)\n",
    "    values, indices = prob.topk(k=topk, dim=0)\n",
    "    topk_predicted_token_bpe = ' '.join([tokenizer.convert_ids_to_tokens(indices[i].item())\n",
    "                                         for i in range(len(indices))])\n",
    "    masked_token = tokenizer.mask_token\n",
    "    topk_filled_outputs = []\n",
    "    for index, predicted_token_bpe in enumerate(topk_predicted_token_bpe.split(' ')):\n",
    "        predicted_token = predicted_token_bpe.replace('\\u2581', ' ')\n",
    "        if \" {0}\".format(masked_token) in masked_input:\n",
    "            topk_filled_outputs.append((\n",
    "                masked_input.replace(\n",
    "                    ' {0}'.format(masked_token), predicted_token\n",
    "                ),\n",
    "                values[index].item(),\n",
    "                predicted_token,\n",
    "            ))\n",
    "        else:\n",
    "            topk_filled_outputs.append((\n",
    "                masked_input.replace(masked_token, predicted_token),\n",
    "                values[index].item(),\n",
    "                predicted_token,\n",
    "            ))\n",
    "    return topk_filled_outputs\n"
   ]
  },
  {
   "cell_type": "code",
   "execution_count": 36,
   "metadata": {},
   "outputs": [
    {
     "name": "stdout",
     "output_type": "stream",
     "text": [
      "<s>add Top 100 Indie Tracks on Spotify to my trackWhich playlist? mymy track Indie Indie track\n",
      "<s>add Top 100 Indie Tracks on Spotify to my track Where should I add? my track track to Indie track\n",
      "<s>add Top 100 Indie Tracks on Spotify to my track What should I add to? my Top 100 Indie Indie track\n",
      "<s>add Top 100 Indie Tracks on Spotify to my track What was the playlist? my track track to Indie track\n",
      "<s>add this clint mansell song to latin pop classicsWhich playlist? latlatin\n",
      "<s>add this clint mansell song to latin pop classics Where should I add? latlatin\n",
      "<s>add this clint mansell song to latin pop classics What should I add to? latlatin\n",
      "<s>add this clint mansell song to latin pop classics What was the playlist? latlatin\n",
      "<s>Add Fair Charlotte to the We Everywhere playlist Which playlist? WeWe\n",
      "<s>Add Fair Charlotte to the We Everywhere playlist Where should I add? toWe\n",
      "<s>Add Fair Charlotte to the We Everywhere playlist What should I add to? WeWe\n",
      "<s>Add Fair Charlotte to the We Everywhere playlist What was the playlist? WeWe\n",
      "<s>add track to orgullo gayWhich playlist? gay\n",
      "<s>add track to orgullo gay Where should I add? gay\n",
      "<s>add track to orgullo gayWhat should I add to? gay\n",
      "<s>add track to orgullo gay What was the playlist? orggay\n",
      "<s>Add this song to my playlist named Wild Country Which playlist? mymy Wild\n",
      "<s>Add this song to my playlist named Wild Country Where should I add? mymy Country\n",
      "<s>Add this song to my playlist named Wild Country What should I add to? myWild Country\n",
      "<s>Add this song to my playlist named Wild Country What was the playlist? mymy Wild\n",
      "<s>Add michael wittig to the party playlist Which playlist? party</s>\n",
      "Add michael wittig to the party playlist Where should I add?\n",
      "Add michael wittig to the party playlist What should I add to?\n",
      "Add michael wittig to the party playlist What was the playlist? party\n",
      "<s>add tune to women of pop playlist Which playlist? womenwomen of\n",
      "<s>add tune to women of pop playlist Where should I add? womenwomen of\n",
      "<s>add tune to women of pop playlist What should I add to? womenwomen of\n",
      "<s>add tune to women of pop playlist What was the playlist? womenwomen of\n",
      "<s>add this artist named Cleopatra Buccan to my playlist named 30 Before Te Masterworks by Teenagers Which playlist? my 30master 20teenteen\n",
      "<s>add this artist named Cleopatra Stratan to my playlist named 30 Before the Masterworks by Teenagers Where should I add? my 30my 20masterteen\n",
      "<s>add this artist named Cleopatra Stratan to my playlist named 30 Before the Masterworks by Teenagers What should I add to? my 30master 20masterteen\n",
      "<s>add this artist named Cleopatra Buccan to my playlist named 30 Before the Masterworks by Teenagers What was the playlist? my 30master 20master by\n",
      "<s>put the airi suzuki album into my Nuclear Blast Novelties playlist Which playlist? my Nuclear Blast\n",
      "<s>put the airi suzuki album into my Nuclear Blast Novelties playlist Where should I add? mymy Nuclear Novel\n",
      "<s>put the airi suzuki album into my Nuclear Blast Novelties playlist What should I add to? mymy Blast Novel\n",
      "<s>put the airi suzuki album into my Nuclear Blast Novelties playlist What was the playlist? mymy Nuclear Blast\n",
      "<s>add scott putesky to concentraciÃ³n indie rock playlist Which playlist? concentmy indie\n",
      "<s>add scott putesky to concentraciÃ³n indie rock playlist Where should I add? my indie\n",
      "<s>add scott putesky to concentraciÃ³n indie rock playlist What should I add to? my indie\n",
      "<s>add scott putesky to concentraciÃ³n indie rock playlist What was the playlist? concentmy indie\n",
      "<s>Add the song to my R&B Dance playlist Which playlist? my R\n",
      "Add the song to my R&B Dance playlist Where should I add? tomy&\n",
      "<s>Add the song to my R&B Dance playlist What should I add to? mymy&\n",
      "<s>Add the song to my R&B Dance playlist What was the playlist? mymy&\n",
      "<s>I want jilian mutzke added to Acoustic Concentration Which playlist? AcAc\n",
      "<s>I want jilian mutzke added to Acoustic Concentration Where should I add? AcAc\n",
      "<s>I want jilian mutzke added to Acoustic Concentration What should I add to? AcAc\n",
      "<s>I want jilian mutzke added to Acoustic Concentration What was the playlist? AcAc\n",
      "<s>Put this song on legendary guitar solosWhich playlist? legendaryclassic guitar\n",
      "<s>Put this song on legendary guitar solos Where should I add? legendaryclassic guitar\n",
      "<s>Put this song on legendary guitar solos What should I add to? legendaryclassic guitar\n",
      "<s>Put this song on legendary guitar solos What was the playlist? legendaryclassic guitar\n",
      "<s>add Coordinations of Confusion to bass's playlist Which playlist? bassbass\n",
      "<s>add Coordinations of Confusion to bass's playlist Where should I add? bassbass\n",
      "<s>add Coordinations of Confusion to bass's playlist What should I add to? bassbass\n",
      "<s>add Coordination of Confusion to bass's playlist What was the playlist? bassbass\n",
      "<s>add great grandfather to my playlist named Novedades Pop Which playlist? myoved\n",
      "<s>add great grandfather to my playlist named Novedades Pop Where should I add? mymy Pop\n",
      "<s>add great grandfather to my playlist named Novedades Pop What should I add to? mymy Pop\n",
      "<s>add great grandfather to my playlist named Novedades Pop What was the playlist? mymyoved\n",
      "<s>add blood guts & glory to my this is chopin Which playlist? mymy isin\n",
      "<s>add blood guts & glory to my this is chopin Where should I add? mymy chop chop\n",
      "<s>add blood guts & glory to my this is chopin What should I add to? mymy is chop\n",
      "<s>add blood guts & glory to my this is chopin What was the playlist? mymy is chop\n",
      "Please place tim wright's track onto the queen playlist Which playlist? queen</s>\n",
      "Please place tim wright's track onto the queen playlist Where should I add? </s>\n",
      "Please place tim wright's track onto the queen playlist What should I add to? </s>\n",
      "Please place tim wright's track onto the queen playlist What was the playlist? </s>\n",
      "<s>add to anacreon in heaven into the playlist girls' night Which playlist? girlsgirls\n",
      "<s>add to anacreon in heaven into the playlist girls' night Where should I add? girlsgirls\n",
      "<s>add to anacreon in heaven into the playlist girls' night What should I add to? girlsgirls\n",
      "<s>add to anacreon in heaven into the playlist girls' night What was the playlist? girlsgirls\n",
      "<s>Add this tune by Shagrath to black sabbath the ozzy years Which playlist? black s the the\n",
      "<s>Add this tune by Shagrath to black sabbath the ozzy years Where should I add? tomy s the the\n",
      "<s>Add this tune by Shagrath to black sabbath the ozzy years What should I add to? black sabb the\n",
      "<s>Add this tune by Shagrath to black sabbath the ozzy years What was the playlist? Blackblack s the the\n",
      "<s>Add to my playlist heavy gamer the name blaydon. Which playlist? mymy heavy\n",
      "<s>Add to my playlist heavy gamer the name blaydon. Where should I add? mymy gamer\n",
      "<s>Add to my playlist heavy gamer the name blaydon. What should I add to? myheavy gamer\n",
      "<s>Add to my playlist heavy gamer the name blaydon. What was the playlist? myheavy gamer\n",
      "Add a track to my girls' night playlist Which playlist? my girls\n",
      "Add a track to my girls' night playlist Where should I add? my girls\n",
      "Add a track to my girls' night playlist What should I add to? mygirls girls\n",
      "<s>Add a track to my girls' night playlist What was the playlist? mymy girls\n",
      "<s>add this song to tania's new bootsWhich playlist? tmy boots\n",
      "<s>add this song to tania's new. Where should I add? tt boots\n",
      "<s>add this song to tania's new boots What should I add to? tt boots\n",
      "<s>add this song to tania's new boots What was the playlist? tnew boots\n",
      "<s>add reggaeton classics in playlist jennie, jennie Which playlist? jj\n",
      "<s>add reggaeton classics in playlist jennie, jennie Where should I add? jj\n",
      "<s>add reggaeton classics in playlist jennie, jennieWhat should I add to? myj\n",
      "<s>add reggaeton classics in playlist jennie, jennie What was the playlist? jj\n",
      "<s>put the mike oldfield album onto my La Mejor MÃºsica para tus Fiestas playlist Which playlist? my LaÃºsica\n",
      "<s>put the mike oldfield album onto my La Mejor MÃºsica para tus Fiestas playlist Where should I add? tomy MeÃºsica\n",
      "<s>put the mike oldfield album onto my La Mejor MÃºsica para tus Fiestas playlist What should I add to? mymy MeÃºsica\n",
      "<s>put the mike oldfield album onto my La Mejor MÃºsica para tus Fiestas playlist What was the playlist? mymy LaÃºsica\n"
     ]
    },
    {
     "name": "stdout",
     "output_type": "stream",
     "text": [
      "<s>I want a matt brown tune in my Fresh Finds Fire Emoji playlist Which playlist? my Fresh Find Fire\n",
      "<s>I want a matt brown tune in my Fresh Finds Fire Emoji playlist Where should I add? tomy Fresh Find Fire\n",
      "<s>I want a matt brown tune in my Fresh Finds Fire Emoji playlist What should I add to? mymy Fresh Find Fire\n",
      "<s>I want a matt brown tune in my Fresh Finds Fire Emoji playlist What was the playlist? mymy Fresh Find Fire\n",
      "<s>I want to put this track on diann's Just Smile playlist Which playlist? dJust Smile\n",
      "<s>I want to put this track on diann's Just Smile playlist Where should I add? dJust Smile\n",
      "<s>I want to put this track on diann's Just Smile playlist What should I add to? dJust Smile\n",
      "<s>I want to put this track on diann's Just Smile playlist What was the playlist? dJust Smile\n",
      "<s>add this track to polka's dance playlist Which playlist? hermy\n",
      "<s>add this track to polka's dance playlist Where should I add? tomy\n",
      "<s>add this track to polka's dance playlist What should I add to? hers\n",
      "<s>add this track to polka's dance playlist What was the playlist? hermy\n",
      "<s>add this wayne raney tune to my this is kudaiWhich playlist? mymy isud\n",
      "<s>add this wayne raney tune to my this is kudai Where should I add? tomy is k\n",
      "<s>add this wayne raney tune to my this is kudai What should I add to? mymy isud\n",
      "<s>add this wayne raney tune to my this is kudai What was the playlist? mymy is k\n",
      "<s>add maschi e altri to my this is john williams Which playlist? mymy will john john\n",
      "<s>add maschi e altri to my this is john williams Where should I add? mymy will john will\n",
      "<s>add maschi e altri to my this is john williams What should I add to? mymy will john john\n",
      "<s>add maschi e altri to my this is john williams What was the playlist? mymy will john will\n",
      "<s>I want to add a song to the sunshine reggae playlist Which playlist? sun\n",
      "I want to add a song to the sunshine reggae playlist Where should I add? sun\n",
      "I want to add a song to the sunshine reggae playlist What should I add to? sunshinesun\n",
      "<s>I want to add a song to the sunshine reggae playlist What was the playlist? sunshinesun\n",
      "<s>add dÃ©cadas to my list Neo da Matrix Which playlist? mymy\n",
      "<s>add dÃ©cadas to my list Neo da Matrix Where should I add? tomy\n",
      "<s>add dÃ©cadas to my list Neo da Matrix What should I add to? mymy\n",
      "<s>add dÃ©cadas to my list Neo da Matrix What was the playlist? mymy\n",
      "<s>add Split the Difference to my Women's Lit playlist Which playlist? my Women\n",
      "<s>add Split the Difference to my Women's Lit playlist Where should I add? tomy's\n",
      "<s>add Split the Difference to my Women's Lit playlist What should I add to? myWomen's\n",
      "<s>add Split the Difference to my Women's Lit playlist What was the playlist? myWomen's\n",
      "<s>Add some fujimoto yae to my Women of Rock list Which playlist? Women of Rock\n",
      "<s>Add some fujimoto yae to my Women of Rock list Where should I add? myWomen Women Rock\n",
      "<s>Add some fujimoto yae to my Women of Rock list What should I add to? myWomen Women Rock\n",
      "<s>Add some fujimoto yae to my Women of Rock list What was the playlist? myWomen Women Rock\n",
      "<s> you say it ainât so into my Trap Land playlist Which playlist? mymy Trap\n",
      "you say it ainât so into my Trap Land playlist Where should I add? mymy Trap\n",
      "<s> you say it ainât so into my Trap Land playlist What should I add to? mymy Trap\n",
      "<s> you say it ainât so into my Trap Land playlist What was the playlist? mymy Trap\n",
      "<s>Add Bien AcompaÃ±ado to All Out 60s Which playlist? AllAll Out\n",
      "<s>Add Bien AcompaÃ±ado to All Out 60s Where should I add? AllAll Out\n",
      "<s>Add Bien AcompaÃ±ado to All Out 60s What should I add to? AllAll Out\n",
      "<s>Add Bien AcompaÃ±ado to All Out 60s What was the playlist? AllAll Out\n",
      "<s>add tune to my this is animal collectiveWhich playlist? my is is collective\n",
      "<s>add tune to my this is animal collective Where should I add? tomy is is collective\n",
      "<s>add tune to my this is animal collective What should I add to? mymy is is collective\n",
      "<s>add tune to my this is animal collective What was the playlist? my is is collective\n",
      "<s>I want you down your arms in the indie espaÃ±ol playlist Which playlist? indieind\n",
      "I want lay down your arms in the indie espaÃ±ol playlist Where should I add? indiemy</s>\n",
      "I want lay down your arms in the indie espaÃ±ol playlist What should I add to? indiemy</s>\n",
      "<s>I want you down your arms in the indie espaÃ±ol playlist What was the playlist? indieind</s>\n",
      "<s>put Framed onto my ntc studio sounds playlist Which playlist? my n studio\n"
     ]
    },
    {
     "ename": "KeyboardInterrupt",
     "evalue": "",
     "output_type": "error",
     "traceback": [
      "\u001b[1;31m---------------------------------------------------------------------------\u001b[0m",
      "\u001b[1;31mKeyboardInterrupt\u001b[0m                         Traceback (most recent call last)",
      "\u001b[1;32m<ipython-input-36-f07512c13159>\u001b[0m in \u001b[0;36m<module>\u001b[1;34m\u001b[0m\n\u001b[0;32m      2\u001b[0m     \u001b[1;32mfor\u001b[0m \u001b[0mx\u001b[0m \u001b[1;32min\u001b[0m \u001b[0mf\u001b[0m\u001b[1;33m.\u001b[0m\u001b[0mread\u001b[0m\u001b[1;33m(\u001b[0m\u001b[1;33m)\u001b[0m\u001b[1;33m.\u001b[0m\u001b[0msplit\u001b[0m\u001b[1;33m(\u001b[0m\u001b[1;34m\"\\n\\n\"\u001b[0m\u001b[1;33m)\u001b[0m\u001b[1;33m:\u001b[0m\u001b[1;33m\u001b[0m\u001b[1;33m\u001b[0m\u001b[0m\n\u001b[0;32m      3\u001b[0m         \u001b[0m_x\u001b[0m \u001b[1;33m=\u001b[0m \u001b[0mtokenizer\u001b[0m\u001b[1;33m.\u001b[0m\u001b[0mencode\u001b[0m\u001b[1;33m(\u001b[0m\u001b[0mx\u001b[0m\u001b[1;33m,\u001b[0m \u001b[0madd_special_tokens\u001b[0m\u001b[1;33m=\u001b[0m\u001b[1;32mFalse\u001b[0m\u001b[1;33m)\u001b[0m\u001b[1;33m\u001b[0m\u001b[1;33m\u001b[0m\u001b[0m\n\u001b[1;32m----> 4\u001b[1;33m         \u001b[0mout\u001b[0m \u001b[1;33m=\u001b[0m \u001b[0mmodel\u001b[0m\u001b[1;33m(\u001b[0m\u001b[0mtorch\u001b[0m\u001b[1;33m.\u001b[0m\u001b[0mtensor\u001b[0m\u001b[1;33m(\u001b[0m\u001b[1;33m[\u001b[0m\u001b[0m_x\u001b[0m\u001b[1;33m]\u001b[0m\u001b[1;33m)\u001b[0m\u001b[1;33m)\u001b[0m\u001b[1;33m\u001b[0m\u001b[1;33m\u001b[0m\u001b[0m\n\u001b[0m\u001b[0;32m      5\u001b[0m         \u001b[0mprint\u001b[0m\u001b[1;33m(\u001b[0m\u001b[1;34m\" \"\u001b[0m\u001b[1;33m.\u001b[0m\u001b[0mjoin\u001b[0m\u001b[1;33m(\u001b[0m\u001b[0mtokenizer\u001b[0m\u001b[1;33m.\u001b[0m\u001b[0mdecode\u001b[0m\u001b[1;33m(\u001b[0m\u001b[0mtorch\u001b[0m\u001b[1;33m.\u001b[0m\u001b[0margmax\u001b[0m\u001b[1;33m(\u001b[0m\u001b[0mout\u001b[0m\u001b[1;33m[\u001b[0m\u001b[1;36m0\u001b[0m\u001b[1;33m]\u001b[0m\u001b[1;33m[\u001b[0m\u001b[1;36m0\u001b[0m\u001b[1;33m]\u001b[0m\u001b[1;33m,\u001b[0m \u001b[0mdim\u001b[0m\u001b[1;33m=\u001b[0m\u001b[1;36m1\u001b[0m\u001b[1;33m)\u001b[0m\u001b[1;33m.\u001b[0m\u001b[0mtolist\u001b[0m\u001b[1;33m(\u001b[0m\u001b[1;33m)\u001b[0m\u001b[1;33m)\u001b[0m\u001b[1;33m.\u001b[0m\u001b[0msplit\u001b[0m\u001b[1;33m(\u001b[0m\u001b[1;33m)\u001b[0m\u001b[1;33m)\u001b[0m\u001b[1;33m)\u001b[0m\u001b[1;33m\u001b[0m\u001b[1;33m\u001b[0m\u001b[0m\n\u001b[0;32m      6\u001b[0m \u001b[1;31m#         print(fill_mask(\"The answer is <mask>.\", model, tokenizer, topk=1)[0])\u001b[0m\u001b[1;33m\u001b[0m\u001b[1;33m\u001b[0m\u001b[1;33m\u001b[0m\u001b[0m\n",
      "\u001b[1;32m~\\Anaconda3\\lib\\site-packages\\torch\\nn\\modules\\module.py\u001b[0m in \u001b[0;36m__call__\u001b[1;34m(self, *input, **kwargs)\u001b[0m\n\u001b[0;32m    545\u001b[0m             \u001b[0mresult\u001b[0m \u001b[1;33m=\u001b[0m \u001b[0mself\u001b[0m\u001b[1;33m.\u001b[0m\u001b[0m_slow_forward\u001b[0m\u001b[1;33m(\u001b[0m\u001b[1;33m*\u001b[0m\u001b[0minput\u001b[0m\u001b[1;33m,\u001b[0m \u001b[1;33m**\u001b[0m\u001b[0mkwargs\u001b[0m\u001b[1;33m)\u001b[0m\u001b[1;33m\u001b[0m\u001b[1;33m\u001b[0m\u001b[0m\n\u001b[0;32m    546\u001b[0m         \u001b[1;32melse\u001b[0m\u001b[1;33m:\u001b[0m\u001b[1;33m\u001b[0m\u001b[1;33m\u001b[0m\u001b[0m\n\u001b[1;32m--> 547\u001b[1;33m             \u001b[0mresult\u001b[0m \u001b[1;33m=\u001b[0m \u001b[0mself\u001b[0m\u001b[1;33m.\u001b[0m\u001b[0mforward\u001b[0m\u001b[1;33m(\u001b[0m\u001b[1;33m*\u001b[0m\u001b[0minput\u001b[0m\u001b[1;33m,\u001b[0m \u001b[1;33m**\u001b[0m\u001b[0mkwargs\u001b[0m\u001b[1;33m)\u001b[0m\u001b[1;33m\u001b[0m\u001b[1;33m\u001b[0m\u001b[0m\n\u001b[0m\u001b[0;32m    548\u001b[0m         \u001b[1;32mfor\u001b[0m \u001b[0mhook\u001b[0m \u001b[1;32min\u001b[0m \u001b[0mself\u001b[0m\u001b[1;33m.\u001b[0m\u001b[0m_forward_hooks\u001b[0m\u001b[1;33m.\u001b[0m\u001b[0mvalues\u001b[0m\u001b[1;33m(\u001b[0m\u001b[1;33m)\u001b[0m\u001b[1;33m:\u001b[0m\u001b[1;33m\u001b[0m\u001b[1;33m\u001b[0m\u001b[0m\n\u001b[0;32m    549\u001b[0m             \u001b[0mhook_result\u001b[0m \u001b[1;33m=\u001b[0m \u001b[0mhook\u001b[0m\u001b[1;33m(\u001b[0m\u001b[0mself\u001b[0m\u001b[1;33m,\u001b[0m \u001b[0minput\u001b[0m\u001b[1;33m,\u001b[0m \u001b[0mresult\u001b[0m\u001b[1;33m)\u001b[0m\u001b[1;33m\u001b[0m\u001b[1;33m\u001b[0m\u001b[0m\n",
      "\u001b[1;32m~\\Anaconda3\\lib\\site-packages\\transformers\\modeling_roberta.py\u001b[0m in \u001b[0;36mforward\u001b[1;34m(self, input_ids, attention_mask, token_type_ids, position_ids, head_mask, masked_lm_labels)\u001b[0m\n\u001b[0;32m    239\u001b[0m                                \u001b[0mtoken_type_ids\u001b[0m\u001b[1;33m=\u001b[0m\u001b[0mtoken_type_ids\u001b[0m\u001b[1;33m,\u001b[0m\u001b[1;33m\u001b[0m\u001b[1;33m\u001b[0m\u001b[0m\n\u001b[0;32m    240\u001b[0m                                \u001b[0mposition_ids\u001b[0m\u001b[1;33m=\u001b[0m\u001b[0mposition_ids\u001b[0m\u001b[1;33m,\u001b[0m\u001b[1;33m\u001b[0m\u001b[1;33m\u001b[0m\u001b[0m\n\u001b[1;32m--> 241\u001b[1;33m                                head_mask=head_mask)\n\u001b[0m\u001b[0;32m    242\u001b[0m         \u001b[0msequence_output\u001b[0m \u001b[1;33m=\u001b[0m \u001b[0moutputs\u001b[0m\u001b[1;33m[\u001b[0m\u001b[1;36m0\u001b[0m\u001b[1;33m]\u001b[0m\u001b[1;33m\u001b[0m\u001b[1;33m\u001b[0m\u001b[0m\n\u001b[0;32m    243\u001b[0m         \u001b[0mprediction_scores\u001b[0m \u001b[1;33m=\u001b[0m \u001b[0mself\u001b[0m\u001b[1;33m.\u001b[0m\u001b[0mlm_head\u001b[0m\u001b[1;33m(\u001b[0m\u001b[0msequence_output\u001b[0m\u001b[1;33m)\u001b[0m\u001b[1;33m\u001b[0m\u001b[1;33m\u001b[0m\u001b[0m\n",
      "\u001b[1;32m~\\Anaconda3\\lib\\site-packages\\torch\\nn\\modules\\module.py\u001b[0m in \u001b[0;36m__call__\u001b[1;34m(self, *input, **kwargs)\u001b[0m\n\u001b[0;32m    545\u001b[0m             \u001b[0mresult\u001b[0m \u001b[1;33m=\u001b[0m \u001b[0mself\u001b[0m\u001b[1;33m.\u001b[0m\u001b[0m_slow_forward\u001b[0m\u001b[1;33m(\u001b[0m\u001b[1;33m*\u001b[0m\u001b[0minput\u001b[0m\u001b[1;33m,\u001b[0m \u001b[1;33m**\u001b[0m\u001b[0mkwargs\u001b[0m\u001b[1;33m)\u001b[0m\u001b[1;33m\u001b[0m\u001b[1;33m\u001b[0m\u001b[0m\n\u001b[0;32m    546\u001b[0m         \u001b[1;32melse\u001b[0m\u001b[1;33m:\u001b[0m\u001b[1;33m\u001b[0m\u001b[1;33m\u001b[0m\u001b[0m\n\u001b[1;32m--> 547\u001b[1;33m             \u001b[0mresult\u001b[0m \u001b[1;33m=\u001b[0m \u001b[0mself\u001b[0m\u001b[1;33m.\u001b[0m\u001b[0mforward\u001b[0m\u001b[1;33m(\u001b[0m\u001b[1;33m*\u001b[0m\u001b[0minput\u001b[0m\u001b[1;33m,\u001b[0m \u001b[1;33m**\u001b[0m\u001b[0mkwargs\u001b[0m\u001b[1;33m)\u001b[0m\u001b[1;33m\u001b[0m\u001b[1;33m\u001b[0m\u001b[0m\n\u001b[0m\u001b[0;32m    548\u001b[0m         \u001b[1;32mfor\u001b[0m \u001b[0mhook\u001b[0m \u001b[1;32min\u001b[0m \u001b[0mself\u001b[0m\u001b[1;33m.\u001b[0m\u001b[0m_forward_hooks\u001b[0m\u001b[1;33m.\u001b[0m\u001b[0mvalues\u001b[0m\u001b[1;33m(\u001b[0m\u001b[1;33m)\u001b[0m\u001b[1;33m:\u001b[0m\u001b[1;33m\u001b[0m\u001b[1;33m\u001b[0m\u001b[0m\n\u001b[0;32m    549\u001b[0m             \u001b[0mhook_result\u001b[0m \u001b[1;33m=\u001b[0m \u001b[0mhook\u001b[0m\u001b[1;33m(\u001b[0m\u001b[0mself\u001b[0m\u001b[1;33m,\u001b[0m \u001b[0minput\u001b[0m\u001b[1;33m,\u001b[0m \u001b[0mresult\u001b[0m\u001b[1;33m)\u001b[0m\u001b[1;33m\u001b[0m\u001b[1;33m\u001b[0m\u001b[0m\n",
      "\u001b[1;32m~\\Anaconda3\\lib\\site-packages\\transformers\\modeling_roberta.py\u001b[0m in \u001b[0;36mforward\u001b[1;34m(self, input_ids, attention_mask, token_type_ids, position_ids, head_mask)\u001b[0m\n\u001b[0;32m    179\u001b[0m                                                  \u001b[0mtoken_type_ids\u001b[0m\u001b[1;33m=\u001b[0m\u001b[0mtoken_type_ids\u001b[0m\u001b[1;33m,\u001b[0m\u001b[1;33m\u001b[0m\u001b[1;33m\u001b[0m\u001b[0m\n\u001b[0;32m    180\u001b[0m                                                  \u001b[0mposition_ids\u001b[0m\u001b[1;33m=\u001b[0m\u001b[0mposition_ids\u001b[0m\u001b[1;33m,\u001b[0m\u001b[1;33m\u001b[0m\u001b[1;33m\u001b[0m\u001b[0m\n\u001b[1;32m--> 181\u001b[1;33m                                                  head_mask=head_mask)\n\u001b[0m\u001b[0;32m    182\u001b[0m \u001b[1;33m\u001b[0m\u001b[0m\n\u001b[0;32m    183\u001b[0m \u001b[1;33m\u001b[0m\u001b[0m\n",
      "\u001b[1;32m~\\Anaconda3\\lib\\site-packages\\transformers\\modeling_bert.py\u001b[0m in \u001b[0;36mforward\u001b[1;34m(self, input_ids, attention_mask, token_type_ids, position_ids, head_mask)\u001b[0m\n\u001b[0;32m    625\u001b[0m         encoder_outputs = self.encoder(embedding_output,\n\u001b[0;32m    626\u001b[0m                                        \u001b[0mextended_attention_mask\u001b[0m\u001b[1;33m,\u001b[0m\u001b[1;33m\u001b[0m\u001b[1;33m\u001b[0m\u001b[0m\n\u001b[1;32m--> 627\u001b[1;33m                                        head_mask=head_mask)\n\u001b[0m\u001b[0;32m    628\u001b[0m         \u001b[0msequence_output\u001b[0m \u001b[1;33m=\u001b[0m \u001b[0mencoder_outputs\u001b[0m\u001b[1;33m[\u001b[0m\u001b[1;36m0\u001b[0m\u001b[1;33m]\u001b[0m\u001b[1;33m\u001b[0m\u001b[1;33m\u001b[0m\u001b[0m\n\u001b[0;32m    629\u001b[0m         \u001b[0mpooled_output\u001b[0m \u001b[1;33m=\u001b[0m \u001b[0mself\u001b[0m\u001b[1;33m.\u001b[0m\u001b[0mpooler\u001b[0m\u001b[1;33m(\u001b[0m\u001b[0msequence_output\u001b[0m\u001b[1;33m)\u001b[0m\u001b[1;33m\u001b[0m\u001b[1;33m\u001b[0m\u001b[0m\n",
      "\u001b[1;32m~\\Anaconda3\\lib\\site-packages\\torch\\nn\\modules\\module.py\u001b[0m in \u001b[0;36m__call__\u001b[1;34m(self, *input, **kwargs)\u001b[0m\n\u001b[0;32m    545\u001b[0m             \u001b[0mresult\u001b[0m \u001b[1;33m=\u001b[0m \u001b[0mself\u001b[0m\u001b[1;33m.\u001b[0m\u001b[0m_slow_forward\u001b[0m\u001b[1;33m(\u001b[0m\u001b[1;33m*\u001b[0m\u001b[0minput\u001b[0m\u001b[1;33m,\u001b[0m \u001b[1;33m**\u001b[0m\u001b[0mkwargs\u001b[0m\u001b[1;33m)\u001b[0m\u001b[1;33m\u001b[0m\u001b[1;33m\u001b[0m\u001b[0m\n\u001b[0;32m    546\u001b[0m         \u001b[1;32melse\u001b[0m\u001b[1;33m:\u001b[0m\u001b[1;33m\u001b[0m\u001b[1;33m\u001b[0m\u001b[0m\n\u001b[1;32m--> 547\u001b[1;33m             \u001b[0mresult\u001b[0m \u001b[1;33m=\u001b[0m \u001b[0mself\u001b[0m\u001b[1;33m.\u001b[0m\u001b[0mforward\u001b[0m\u001b[1;33m(\u001b[0m\u001b[1;33m*\u001b[0m\u001b[0minput\u001b[0m\u001b[1;33m,\u001b[0m \u001b[1;33m**\u001b[0m\u001b[0mkwargs\u001b[0m\u001b[1;33m)\u001b[0m\u001b[1;33m\u001b[0m\u001b[1;33m\u001b[0m\u001b[0m\n\u001b[0m\u001b[0;32m    548\u001b[0m         \u001b[1;32mfor\u001b[0m \u001b[0mhook\u001b[0m \u001b[1;32min\u001b[0m \u001b[0mself\u001b[0m\u001b[1;33m.\u001b[0m\u001b[0m_forward_hooks\u001b[0m\u001b[1;33m.\u001b[0m\u001b[0mvalues\u001b[0m\u001b[1;33m(\u001b[0m\u001b[1;33m)\u001b[0m\u001b[1;33m:\u001b[0m\u001b[1;33m\u001b[0m\u001b[1;33m\u001b[0m\u001b[0m\n\u001b[0;32m    549\u001b[0m             \u001b[0mhook_result\u001b[0m \u001b[1;33m=\u001b[0m \u001b[0mhook\u001b[0m\u001b[1;33m(\u001b[0m\u001b[0mself\u001b[0m\u001b[1;33m,\u001b[0m \u001b[0minput\u001b[0m\u001b[1;33m,\u001b[0m \u001b[0mresult\u001b[0m\u001b[1;33m)\u001b[0m\u001b[1;33m\u001b[0m\u001b[1;33m\u001b[0m\u001b[0m\n",
      "\u001b[1;32m~\\Anaconda3\\lib\\site-packages\\transformers\\modeling_bert.py\u001b[0m in \u001b[0;36mforward\u001b[1;34m(self, hidden_states, attention_mask, head_mask)\u001b[0m\n\u001b[0;32m    346\u001b[0m                 \u001b[0mall_hidden_states\u001b[0m \u001b[1;33m=\u001b[0m \u001b[0mall_hidden_states\u001b[0m \u001b[1;33m+\u001b[0m \u001b[1;33m(\u001b[0m\u001b[0mhidden_states\u001b[0m\u001b[1;33m,\u001b[0m\u001b[1;33m)\u001b[0m\u001b[1;33m\u001b[0m\u001b[1;33m\u001b[0m\u001b[0m\n\u001b[0;32m    347\u001b[0m \u001b[1;33m\u001b[0m\u001b[0m\n\u001b[1;32m--> 348\u001b[1;33m             \u001b[0mlayer_outputs\u001b[0m \u001b[1;33m=\u001b[0m \u001b[0mlayer_module\u001b[0m\u001b[1;33m(\u001b[0m\u001b[0mhidden_states\u001b[0m\u001b[1;33m,\u001b[0m \u001b[0mattention_mask\u001b[0m\u001b[1;33m,\u001b[0m \u001b[0mhead_mask\u001b[0m\u001b[1;33m[\u001b[0m\u001b[0mi\u001b[0m\u001b[1;33m]\u001b[0m\u001b[1;33m)\u001b[0m\u001b[1;33m\u001b[0m\u001b[1;33m\u001b[0m\u001b[0m\n\u001b[0m\u001b[0;32m    349\u001b[0m             \u001b[0mhidden_states\u001b[0m \u001b[1;33m=\u001b[0m \u001b[0mlayer_outputs\u001b[0m\u001b[1;33m[\u001b[0m\u001b[1;36m0\u001b[0m\u001b[1;33m]\u001b[0m\u001b[1;33m\u001b[0m\u001b[1;33m\u001b[0m\u001b[0m\n\u001b[0;32m    350\u001b[0m \u001b[1;33m\u001b[0m\u001b[0m\n",
      "\u001b[1;32m~\\Anaconda3\\lib\\site-packages\\torch\\nn\\modules\\module.py\u001b[0m in \u001b[0;36m__call__\u001b[1;34m(self, *input, **kwargs)\u001b[0m\n\u001b[0;32m    545\u001b[0m             \u001b[0mresult\u001b[0m \u001b[1;33m=\u001b[0m \u001b[0mself\u001b[0m\u001b[1;33m.\u001b[0m\u001b[0m_slow_forward\u001b[0m\u001b[1;33m(\u001b[0m\u001b[1;33m*\u001b[0m\u001b[0minput\u001b[0m\u001b[1;33m,\u001b[0m \u001b[1;33m**\u001b[0m\u001b[0mkwargs\u001b[0m\u001b[1;33m)\u001b[0m\u001b[1;33m\u001b[0m\u001b[1;33m\u001b[0m\u001b[0m\n\u001b[0;32m    546\u001b[0m         \u001b[1;32melse\u001b[0m\u001b[1;33m:\u001b[0m\u001b[1;33m\u001b[0m\u001b[1;33m\u001b[0m\u001b[0m\n\u001b[1;32m--> 547\u001b[1;33m             \u001b[0mresult\u001b[0m \u001b[1;33m=\u001b[0m \u001b[0mself\u001b[0m\u001b[1;33m.\u001b[0m\u001b[0mforward\u001b[0m\u001b[1;33m(\u001b[0m\u001b[1;33m*\u001b[0m\u001b[0minput\u001b[0m\u001b[1;33m,\u001b[0m \u001b[1;33m**\u001b[0m\u001b[0mkwargs\u001b[0m\u001b[1;33m)\u001b[0m\u001b[1;33m\u001b[0m\u001b[1;33m\u001b[0m\u001b[0m\n\u001b[0m\u001b[0;32m    548\u001b[0m         \u001b[1;32mfor\u001b[0m \u001b[0mhook\u001b[0m \u001b[1;32min\u001b[0m \u001b[0mself\u001b[0m\u001b[1;33m.\u001b[0m\u001b[0m_forward_hooks\u001b[0m\u001b[1;33m.\u001b[0m\u001b[0mvalues\u001b[0m\u001b[1;33m(\u001b[0m\u001b[1;33m)\u001b[0m\u001b[1;33m:\u001b[0m\u001b[1;33m\u001b[0m\u001b[1;33m\u001b[0m\u001b[0m\n\u001b[0;32m    549\u001b[0m             \u001b[0mhook_result\u001b[0m \u001b[1;33m=\u001b[0m \u001b[0mhook\u001b[0m\u001b[1;33m(\u001b[0m\u001b[0mself\u001b[0m\u001b[1;33m,\u001b[0m \u001b[0minput\u001b[0m\u001b[1;33m,\u001b[0m \u001b[0mresult\u001b[0m\u001b[1;33m)\u001b[0m\u001b[1;33m\u001b[0m\u001b[1;33m\u001b[0m\u001b[0m\n",
      "\u001b[1;32m~\\Anaconda3\\lib\\site-packages\\transformers\\modeling_bert.py\u001b[0m in \u001b[0;36mforward\u001b[1;34m(self, hidden_states, attention_mask, head_mask)\u001b[0m\n\u001b[0;32m    324\u001b[0m \u001b[1;33m\u001b[0m\u001b[0m\n\u001b[0;32m    325\u001b[0m     \u001b[1;32mdef\u001b[0m \u001b[0mforward\u001b[0m\u001b[1;33m(\u001b[0m\u001b[0mself\u001b[0m\u001b[1;33m,\u001b[0m \u001b[0mhidden_states\u001b[0m\u001b[1;33m,\u001b[0m \u001b[0mattention_mask\u001b[0m\u001b[1;33m=\u001b[0m\u001b[1;32mNone\u001b[0m\u001b[1;33m,\u001b[0m \u001b[0mhead_mask\u001b[0m\u001b[1;33m=\u001b[0m\u001b[1;32mNone\u001b[0m\u001b[1;33m)\u001b[0m\u001b[1;33m:\u001b[0m\u001b[1;33m\u001b[0m\u001b[1;33m\u001b[0m\u001b[0m\n\u001b[1;32m--> 326\u001b[1;33m         \u001b[0mattention_outputs\u001b[0m \u001b[1;33m=\u001b[0m \u001b[0mself\u001b[0m\u001b[1;33m.\u001b[0m\u001b[0mattention\u001b[0m\u001b[1;33m(\u001b[0m\u001b[0mhidden_states\u001b[0m\u001b[1;33m,\u001b[0m \u001b[0mattention_mask\u001b[0m\u001b[1;33m,\u001b[0m \u001b[0mhead_mask\u001b[0m\u001b[1;33m)\u001b[0m\u001b[1;33m\u001b[0m\u001b[1;33m\u001b[0m\u001b[0m\n\u001b[0m\u001b[0;32m    327\u001b[0m         \u001b[0mattention_output\u001b[0m \u001b[1;33m=\u001b[0m \u001b[0mattention_outputs\u001b[0m\u001b[1;33m[\u001b[0m\u001b[1;36m0\u001b[0m\u001b[1;33m]\u001b[0m\u001b[1;33m\u001b[0m\u001b[1;33m\u001b[0m\u001b[0m\n\u001b[0;32m    328\u001b[0m         \u001b[0mintermediate_output\u001b[0m \u001b[1;33m=\u001b[0m \u001b[0mself\u001b[0m\u001b[1;33m.\u001b[0m\u001b[0mintermediate\u001b[0m\u001b[1;33m(\u001b[0m\u001b[0mattention_output\u001b[0m\u001b[1;33m)\u001b[0m\u001b[1;33m\u001b[0m\u001b[1;33m\u001b[0m\u001b[0m\n",
      "\u001b[1;32m~\\Anaconda3\\lib\\site-packages\\torch\\nn\\modules\\module.py\u001b[0m in \u001b[0;36m__call__\u001b[1;34m(self, *input, **kwargs)\u001b[0m\n\u001b[0;32m    545\u001b[0m             \u001b[0mresult\u001b[0m \u001b[1;33m=\u001b[0m \u001b[0mself\u001b[0m\u001b[1;33m.\u001b[0m\u001b[0m_slow_forward\u001b[0m\u001b[1;33m(\u001b[0m\u001b[1;33m*\u001b[0m\u001b[0minput\u001b[0m\u001b[1;33m,\u001b[0m \u001b[1;33m**\u001b[0m\u001b[0mkwargs\u001b[0m\u001b[1;33m)\u001b[0m\u001b[1;33m\u001b[0m\u001b[1;33m\u001b[0m\u001b[0m\n\u001b[0;32m    546\u001b[0m         \u001b[1;32melse\u001b[0m\u001b[1;33m:\u001b[0m\u001b[1;33m\u001b[0m\u001b[1;33m\u001b[0m\u001b[0m\n\u001b[1;32m--> 547\u001b[1;33m             \u001b[0mresult\u001b[0m \u001b[1;33m=\u001b[0m \u001b[0mself\u001b[0m\u001b[1;33m.\u001b[0m\u001b[0mforward\u001b[0m\u001b[1;33m(\u001b[0m\u001b[1;33m*\u001b[0m\u001b[0minput\u001b[0m\u001b[1;33m,\u001b[0m \u001b[1;33m**\u001b[0m\u001b[0mkwargs\u001b[0m\u001b[1;33m)\u001b[0m\u001b[1;33m\u001b[0m\u001b[1;33m\u001b[0m\u001b[0m\n\u001b[0m\u001b[0;32m    548\u001b[0m         \u001b[1;32mfor\u001b[0m \u001b[0mhook\u001b[0m \u001b[1;32min\u001b[0m \u001b[0mself\u001b[0m\u001b[1;33m.\u001b[0m\u001b[0m_forward_hooks\u001b[0m\u001b[1;33m.\u001b[0m\u001b[0mvalues\u001b[0m\u001b[1;33m(\u001b[0m\u001b[1;33m)\u001b[0m\u001b[1;33m:\u001b[0m\u001b[1;33m\u001b[0m\u001b[1;33m\u001b[0m\u001b[0m\n\u001b[0;32m    549\u001b[0m             \u001b[0mhook_result\u001b[0m \u001b[1;33m=\u001b[0m \u001b[0mhook\u001b[0m\u001b[1;33m(\u001b[0m\u001b[0mself\u001b[0m\u001b[1;33m,\u001b[0m \u001b[0minput\u001b[0m\u001b[1;33m,\u001b[0m \u001b[0mresult\u001b[0m\u001b[1;33m)\u001b[0m\u001b[1;33m\u001b[0m\u001b[1;33m\u001b[0m\u001b[0m\n",
      "\u001b[1;32m~\\Anaconda3\\lib\\site-packages\\transformers\\modeling_bert.py\u001b[0m in \u001b[0;36mforward\u001b[1;34m(self, input_tensor, attention_mask, head_mask)\u001b[0m\n\u001b[0;32m    281\u001b[0m \u001b[1;33m\u001b[0m\u001b[0m\n\u001b[0;32m    282\u001b[0m     \u001b[1;32mdef\u001b[0m \u001b[0mforward\u001b[0m\u001b[1;33m(\u001b[0m\u001b[0mself\u001b[0m\u001b[1;33m,\u001b[0m \u001b[0minput_tensor\u001b[0m\u001b[1;33m,\u001b[0m \u001b[0mattention_mask\u001b[0m\u001b[1;33m=\u001b[0m\u001b[1;32mNone\u001b[0m\u001b[1;33m,\u001b[0m \u001b[0mhead_mask\u001b[0m\u001b[1;33m=\u001b[0m\u001b[1;32mNone\u001b[0m\u001b[1;33m)\u001b[0m\u001b[1;33m:\u001b[0m\u001b[1;33m\u001b[0m\u001b[1;33m\u001b[0m\u001b[0m\n\u001b[1;32m--> 283\u001b[1;33m         \u001b[0mself_outputs\u001b[0m \u001b[1;33m=\u001b[0m \u001b[0mself\u001b[0m\u001b[1;33m.\u001b[0m\u001b[0mself\u001b[0m\u001b[1;33m(\u001b[0m\u001b[0minput_tensor\u001b[0m\u001b[1;33m,\u001b[0m \u001b[0mattention_mask\u001b[0m\u001b[1;33m,\u001b[0m \u001b[0mhead_mask\u001b[0m\u001b[1;33m)\u001b[0m\u001b[1;33m\u001b[0m\u001b[1;33m\u001b[0m\u001b[0m\n\u001b[0m\u001b[0;32m    284\u001b[0m         \u001b[0mattention_output\u001b[0m \u001b[1;33m=\u001b[0m \u001b[0mself\u001b[0m\u001b[1;33m.\u001b[0m\u001b[0moutput\u001b[0m\u001b[1;33m(\u001b[0m\u001b[0mself_outputs\u001b[0m\u001b[1;33m[\u001b[0m\u001b[1;36m0\u001b[0m\u001b[1;33m]\u001b[0m\u001b[1;33m,\u001b[0m \u001b[0minput_tensor\u001b[0m\u001b[1;33m)\u001b[0m\u001b[1;33m\u001b[0m\u001b[1;33m\u001b[0m\u001b[0m\n\u001b[0;32m    285\u001b[0m         \u001b[0moutputs\u001b[0m \u001b[1;33m=\u001b[0m \u001b[1;33m(\u001b[0m\u001b[0mattention_output\u001b[0m\u001b[1;33m,\u001b[0m\u001b[1;33m)\u001b[0m \u001b[1;33m+\u001b[0m \u001b[0mself_outputs\u001b[0m\u001b[1;33m[\u001b[0m\u001b[1;36m1\u001b[0m\u001b[1;33m:\u001b[0m\u001b[1;33m]\u001b[0m  \u001b[1;31m# add attentions if we output them\u001b[0m\u001b[1;33m\u001b[0m\u001b[1;33m\u001b[0m\u001b[0m\n",
      "\u001b[1;32m~\\Anaconda3\\lib\\site-packages\\torch\\nn\\modules\\module.py\u001b[0m in \u001b[0;36m__call__\u001b[1;34m(self, *input, **kwargs)\u001b[0m\n\u001b[0;32m    545\u001b[0m             \u001b[0mresult\u001b[0m \u001b[1;33m=\u001b[0m \u001b[0mself\u001b[0m\u001b[1;33m.\u001b[0m\u001b[0m_slow_forward\u001b[0m\u001b[1;33m(\u001b[0m\u001b[1;33m*\u001b[0m\u001b[0minput\u001b[0m\u001b[1;33m,\u001b[0m \u001b[1;33m**\u001b[0m\u001b[0mkwargs\u001b[0m\u001b[1;33m)\u001b[0m\u001b[1;33m\u001b[0m\u001b[1;33m\u001b[0m\u001b[0m\n\u001b[0;32m    546\u001b[0m         \u001b[1;32melse\u001b[0m\u001b[1;33m:\u001b[0m\u001b[1;33m\u001b[0m\u001b[1;33m\u001b[0m\u001b[0m\n\u001b[1;32m--> 547\u001b[1;33m             \u001b[0mresult\u001b[0m \u001b[1;33m=\u001b[0m \u001b[0mself\u001b[0m\u001b[1;33m.\u001b[0m\u001b[0mforward\u001b[0m\u001b[1;33m(\u001b[0m\u001b[1;33m*\u001b[0m\u001b[0minput\u001b[0m\u001b[1;33m,\u001b[0m \u001b[1;33m**\u001b[0m\u001b[0mkwargs\u001b[0m\u001b[1;33m)\u001b[0m\u001b[1;33m\u001b[0m\u001b[1;33m\u001b[0m\u001b[0m\n\u001b[0m\u001b[0;32m    548\u001b[0m         \u001b[1;32mfor\u001b[0m \u001b[0mhook\u001b[0m \u001b[1;32min\u001b[0m \u001b[0mself\u001b[0m\u001b[1;33m.\u001b[0m\u001b[0m_forward_hooks\u001b[0m\u001b[1;33m.\u001b[0m\u001b[0mvalues\u001b[0m\u001b[1;33m(\u001b[0m\u001b[1;33m)\u001b[0m\u001b[1;33m:\u001b[0m\u001b[1;33m\u001b[0m\u001b[1;33m\u001b[0m\u001b[0m\n\u001b[0;32m    549\u001b[0m             \u001b[0mhook_result\u001b[0m \u001b[1;33m=\u001b[0m \u001b[0mhook\u001b[0m\u001b[1;33m(\u001b[0m\u001b[0mself\u001b[0m\u001b[1;33m,\u001b[0m \u001b[0minput\u001b[0m\u001b[1;33m,\u001b[0m \u001b[0mresult\u001b[0m\u001b[1;33m)\u001b[0m\u001b[1;33m\u001b[0m\u001b[1;33m\u001b[0m\u001b[0m\n",
      "\u001b[1;32m~\\Anaconda3\\lib\\site-packages\\transformers\\modeling_bert.py\u001b[0m in \u001b[0;36mforward\u001b[1;34m(self, hidden_states, attention_mask, head_mask)\u001b[0m\n\u001b[0;32m    201\u001b[0m     \u001b[1;32mdef\u001b[0m \u001b[0mforward\u001b[0m\u001b[1;33m(\u001b[0m\u001b[0mself\u001b[0m\u001b[1;33m,\u001b[0m \u001b[0mhidden_states\u001b[0m\u001b[1;33m,\u001b[0m \u001b[0mattention_mask\u001b[0m\u001b[1;33m=\u001b[0m\u001b[1;32mNone\u001b[0m\u001b[1;33m,\u001b[0m \u001b[0mhead_mask\u001b[0m\u001b[1;33m=\u001b[0m\u001b[1;32mNone\u001b[0m\u001b[1;33m)\u001b[0m\u001b[1;33m:\u001b[0m\u001b[1;33m\u001b[0m\u001b[1;33m\u001b[0m\u001b[0m\n\u001b[0;32m    202\u001b[0m         \u001b[0mmixed_query_layer\u001b[0m \u001b[1;33m=\u001b[0m \u001b[0mself\u001b[0m\u001b[1;33m.\u001b[0m\u001b[0mquery\u001b[0m\u001b[1;33m(\u001b[0m\u001b[0mhidden_states\u001b[0m\u001b[1;33m)\u001b[0m\u001b[1;33m\u001b[0m\u001b[1;33m\u001b[0m\u001b[0m\n\u001b[1;32m--> 203\u001b[1;33m         \u001b[0mmixed_key_layer\u001b[0m \u001b[1;33m=\u001b[0m \u001b[0mself\u001b[0m\u001b[1;33m.\u001b[0m\u001b[0mkey\u001b[0m\u001b[1;33m(\u001b[0m\u001b[0mhidden_states\u001b[0m\u001b[1;33m)\u001b[0m\u001b[1;33m\u001b[0m\u001b[1;33m\u001b[0m\u001b[0m\n\u001b[0m\u001b[0;32m    204\u001b[0m         \u001b[0mmixed_value_layer\u001b[0m \u001b[1;33m=\u001b[0m \u001b[0mself\u001b[0m\u001b[1;33m.\u001b[0m\u001b[0mvalue\u001b[0m\u001b[1;33m(\u001b[0m\u001b[0mhidden_states\u001b[0m\u001b[1;33m)\u001b[0m\u001b[1;33m\u001b[0m\u001b[1;33m\u001b[0m\u001b[0m\n\u001b[0;32m    205\u001b[0m \u001b[1;33m\u001b[0m\u001b[0m\n",
      "\u001b[1;32m~\\Anaconda3\\lib\\site-packages\\torch\\nn\\modules\\module.py\u001b[0m in \u001b[0;36m__call__\u001b[1;34m(self, *input, **kwargs)\u001b[0m\n\u001b[0;32m    545\u001b[0m             \u001b[0mresult\u001b[0m \u001b[1;33m=\u001b[0m \u001b[0mself\u001b[0m\u001b[1;33m.\u001b[0m\u001b[0m_slow_forward\u001b[0m\u001b[1;33m(\u001b[0m\u001b[1;33m*\u001b[0m\u001b[0minput\u001b[0m\u001b[1;33m,\u001b[0m \u001b[1;33m**\u001b[0m\u001b[0mkwargs\u001b[0m\u001b[1;33m)\u001b[0m\u001b[1;33m\u001b[0m\u001b[1;33m\u001b[0m\u001b[0m\n\u001b[0;32m    546\u001b[0m         \u001b[1;32melse\u001b[0m\u001b[1;33m:\u001b[0m\u001b[1;33m\u001b[0m\u001b[1;33m\u001b[0m\u001b[0m\n\u001b[1;32m--> 547\u001b[1;33m             \u001b[0mresult\u001b[0m \u001b[1;33m=\u001b[0m \u001b[0mself\u001b[0m\u001b[1;33m.\u001b[0m\u001b[0mforward\u001b[0m\u001b[1;33m(\u001b[0m\u001b[1;33m*\u001b[0m\u001b[0minput\u001b[0m\u001b[1;33m,\u001b[0m \u001b[1;33m**\u001b[0m\u001b[0mkwargs\u001b[0m\u001b[1;33m)\u001b[0m\u001b[1;33m\u001b[0m\u001b[1;33m\u001b[0m\u001b[0m\n\u001b[0m\u001b[0;32m    548\u001b[0m         \u001b[1;32mfor\u001b[0m \u001b[0mhook\u001b[0m \u001b[1;32min\u001b[0m \u001b[0mself\u001b[0m\u001b[1;33m.\u001b[0m\u001b[0m_forward_hooks\u001b[0m\u001b[1;33m.\u001b[0m\u001b[0mvalues\u001b[0m\u001b[1;33m(\u001b[0m\u001b[1;33m)\u001b[0m\u001b[1;33m:\u001b[0m\u001b[1;33m\u001b[0m\u001b[1;33m\u001b[0m\u001b[0m\n\u001b[0;32m    549\u001b[0m             \u001b[0mhook_result\u001b[0m \u001b[1;33m=\u001b[0m \u001b[0mhook\u001b[0m\u001b[1;33m(\u001b[0m\u001b[0mself\u001b[0m\u001b[1;33m,\u001b[0m \u001b[0minput\u001b[0m\u001b[1;33m,\u001b[0m \u001b[0mresult\u001b[0m\u001b[1;33m)\u001b[0m\u001b[1;33m\u001b[0m\u001b[1;33m\u001b[0m\u001b[0m\n",
      "\u001b[1;32m~\\Anaconda3\\lib\\site-packages\\torch\\nn\\modules\\linear.py\u001b[0m in \u001b[0;36mforward\u001b[1;34m(self, input)\u001b[0m\n\u001b[0;32m     85\u001b[0m \u001b[1;33m\u001b[0m\u001b[0m\n\u001b[0;32m     86\u001b[0m     \u001b[1;32mdef\u001b[0m \u001b[0mforward\u001b[0m\u001b[1;33m(\u001b[0m\u001b[0mself\u001b[0m\u001b[1;33m,\u001b[0m \u001b[0minput\u001b[0m\u001b[1;33m)\u001b[0m\u001b[1;33m:\u001b[0m\u001b[1;33m\u001b[0m\u001b[1;33m\u001b[0m\u001b[0m\n\u001b[1;32m---> 87\u001b[1;33m         \u001b[1;32mreturn\u001b[0m \u001b[0mF\u001b[0m\u001b[1;33m.\u001b[0m\u001b[0mlinear\u001b[0m\u001b[1;33m(\u001b[0m\u001b[0minput\u001b[0m\u001b[1;33m,\u001b[0m \u001b[0mself\u001b[0m\u001b[1;33m.\u001b[0m\u001b[0mweight\u001b[0m\u001b[1;33m,\u001b[0m \u001b[0mself\u001b[0m\u001b[1;33m.\u001b[0m\u001b[0mbias\u001b[0m\u001b[1;33m)\u001b[0m\u001b[1;33m\u001b[0m\u001b[1;33m\u001b[0m\u001b[0m\n\u001b[0m\u001b[0;32m     88\u001b[0m \u001b[1;33m\u001b[0m\u001b[0m\n\u001b[0;32m     89\u001b[0m     \u001b[1;32mdef\u001b[0m \u001b[0mextra_repr\u001b[0m\u001b[1;33m(\u001b[0m\u001b[0mself\u001b[0m\u001b[1;33m)\u001b[0m\u001b[1;33m:\u001b[0m\u001b[1;33m\u001b[0m\u001b[1;33m\u001b[0m\u001b[0m\n",
      "\u001b[1;32m~\\Anaconda3\\lib\\site-packages\\torch\\nn\\functional.py\u001b[0m in \u001b[0;36mlinear\u001b[1;34m(input, weight, bias)\u001b[0m\n\u001b[0;32m   1369\u001b[0m         \u001b[0mret\u001b[0m \u001b[1;33m=\u001b[0m \u001b[0mtorch\u001b[0m\u001b[1;33m.\u001b[0m\u001b[0maddmm\u001b[0m\u001b[1;33m(\u001b[0m\u001b[0mbias\u001b[0m\u001b[1;33m,\u001b[0m \u001b[0minput\u001b[0m\u001b[1;33m,\u001b[0m \u001b[0mweight\u001b[0m\u001b[1;33m.\u001b[0m\u001b[0mt\u001b[0m\u001b[1;33m(\u001b[0m\u001b[1;33m)\u001b[0m\u001b[1;33m)\u001b[0m\u001b[1;33m\u001b[0m\u001b[1;33m\u001b[0m\u001b[0m\n\u001b[0;32m   1370\u001b[0m     \u001b[1;32melse\u001b[0m\u001b[1;33m:\u001b[0m\u001b[1;33m\u001b[0m\u001b[1;33m\u001b[0m\u001b[0m\n\u001b[1;32m-> 1371\u001b[1;33m         \u001b[0moutput\u001b[0m \u001b[1;33m=\u001b[0m \u001b[0minput\u001b[0m\u001b[1;33m.\u001b[0m\u001b[0mmatmul\u001b[0m\u001b[1;33m(\u001b[0m\u001b[0mweight\u001b[0m\u001b[1;33m.\u001b[0m\u001b[0mt\u001b[0m\u001b[1;33m(\u001b[0m\u001b[1;33m)\u001b[0m\u001b[1;33m)\u001b[0m\u001b[1;33m\u001b[0m\u001b[1;33m\u001b[0m\u001b[0m\n\u001b[0m\u001b[0;32m   1372\u001b[0m         \u001b[1;32mif\u001b[0m \u001b[0mbias\u001b[0m \u001b[1;32mis\u001b[0m \u001b[1;32mnot\u001b[0m \u001b[1;32mNone\u001b[0m\u001b[1;33m:\u001b[0m\u001b[1;33m\u001b[0m\u001b[1;33m\u001b[0m\u001b[0m\n\u001b[0;32m   1373\u001b[0m             \u001b[0moutput\u001b[0m \u001b[1;33m+=\u001b[0m \u001b[0mbias\u001b[0m\u001b[1;33m\u001b[0m\u001b[1;33m\u001b[0m\u001b[0m\n",
      "\u001b[1;31mKeyboardInterrupt\u001b[0m: "
     ]
    }
   ],
   "source": [
    "with open(\"data/masked.txt\", 'r', encoding='utf-8') as f:\n",
    "    for x in f.read().split(\"\\n\\n\"):\n",
    "        _x = tokenizer.encode(x, add_special_tokens=False)\n",
    "        out = model(torch.tensor([_x]))\n",
    "        print(\" \".join(tokenizer.decode(torch.argmax(out[0][0], dim=1).tolist()).split()))\n",
    "#         print(fill_mask(\"The answer is <mask>.\", model, tokenizer, topk=1)[0])"
   ]
  },
  {
   "cell_type": "code",
   "execution_count": 29,
   "metadata": {},
   "outputs": [
    {
     "data": {
      "text/plain": [
       "[0,\n",
       " 4917,\n",
       " 3107,\n",
       " 727,\n",
       " 35890,\n",
       " 41902,\n",
       " 15,\n",
       " 13703,\n",
       " 7,\n",
       " 127,\n",
       " 1437,\n",
       " 1349,\n",
       " 6834,\n",
       " 30475,\n",
       " 116,\n",
       " 50264,\n",
       " 50264,\n",
       " 50264,\n",
       " 50264,\n",
       " 50264,\n",
       " 50264,\n",
       " 50264,\n",
       " 2]"
      ]
     },
     "execution_count": 29,
     "metadata": {},
     "output_type": "execute_result"
    }
   ],
   "source": [
    "_x"
   ]
  },
  {
   "cell_type": "code",
   "execution_count": null,
   "metadata": {},
   "outputs": [],
   "source": []
  }
 ],
 "metadata": {
  "kernelspec": {
   "display_name": "Python 3",
   "language": "python",
   "name": "python3"
  },
  "language_info": {
   "codemirror_mode": {
    "name": "ipython",
    "version": 3
   },
   "file_extension": ".py",
   "mimetype": "text/x-python",
   "name": "python",
   "nbconvert_exporter": "python",
   "pygments_lexer": "ipython3",
   "version": "3.7.5"
  }
 },
 "nbformat": 4,
 "nbformat_minor": 2
}
